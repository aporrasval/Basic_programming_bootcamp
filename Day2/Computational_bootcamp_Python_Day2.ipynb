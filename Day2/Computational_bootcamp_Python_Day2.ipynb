{
 "cells": [
  {
   "cell_type": "markdown",
   "metadata": {},
   "source": [
    "# Introducción a Python"
   ]
  },
  {
   "cell_type": "markdown",
   "metadata": {},
   "source": [
    "Python es un lenguaje de programación usado por muchas personas en diferente ramas de la ciencia e industria. Python es el lenguaje universal que la mayoria de los astrofisicos usan, ademas de IDL, R, C, entre otros. Hoy, vamos a aprender desde lo más basico de como programar en python, hasta lo más util de como analizar bases de datos."
   ]
  },
  {
   "cell_type": "markdown",
   "metadata": {},
   "source": [
    "# Variables"
   ]
  },
  {
   "cell_type": "markdown",
   "metadata": {},
   "source": [
    "Como en matematicas, las variables son usadas cuando programamos en cualquier lenguaje. En Python, la declaración de variables son tan simples como cuando uno las declara con papel y lapiz."
   ]
  },
  {
   "cell_type": "code",
   "execution_count": 1,
   "metadata": {
    "collapsed": true
   },
   "outputs": [],
   "source": [
    "x = 10"
   ]
  },
  {
   "cell_type": "markdown",
   "metadata": {},
   "source": [
    "Aqui, estamos asignando el numero 10 a x. Entonces cada vez que usamos x como variable, esa misma tendra el numero 10. A menos de que le asignemos otra variable."
   ]
  },
  {
   "cell_type": "code",
   "execution_count": 5,
   "metadata": {
    "collapsed": true
   },
   "outputs": [],
   "source": [
    "x = 10 + 1\n",
    "y = 3"
   ]
  },
  {
   "cell_type": "markdown",
   "metadata": {},
   "source": [
    "Python entiende cuando uno quiere sumar, restar, multiplicar o dividir dos numeros. Es tan simple como lo es en la matematica escrita. Nota que el valor de x es ahora distinto al valor anterior. No es lo mismo x = 10 que a x = 10 + 1 = 11"
   ]
  },
  {
   "cell_type": "code",
   "execution_count": 4,
   "metadata": {
    "collapsed": false
   },
   "outputs": [
    {
     "name": "stdout",
     "output_type": "stream",
     "text": [
      "11\n"
     ]
    }
   ],
   "source": [
    "print x"
   ]
  },
  {
   "cell_type": "markdown",
   "metadata": {},
   "source": [
    "Podemos usar \"print\" para que el programa exprese numericamente cual es el valor de x"
   ]
  },
  {
   "cell_type": "code",
   "execution_count": 6,
   "metadata": {
    "collapsed": false
   },
   "outputs": [
    {
     "name": "stdout",
     "output_type": "stream",
     "text": [
      "33\n"
     ]
    }
   ],
   "source": [
    "x = x*y\n",
    "print x"
   ]
  },
  {
   "cell_type": "markdown",
   "metadata": {},
   "source": [
    "Tambien, podemos asignar una variable a su propia x. Esto talvez se ve un poco confuso pero no es algo nuevo ya que esto nomalmente se ve en clases de matematica. Sabemos que el valor anterior a x es 11 y que y es 3 entonces sabemos que el resultado de la nueva variable x es 11*3 = 33"
   ]
  },
  {
   "cell_type": "code",
   "execution_count": 7,
   "metadata": {
    "collapsed": true
   },
   "outputs": [],
   "source": [
    "y = y**2"
   ]
  },
  {
   "cell_type": "markdown",
   "metadata": {},
   "source": [
    "Podemos declarar a y de la misma forma que hicimos con x. Esta vez usamos dos estrellas \"**\" para denotar exponente Sabemos el valor de y por una declaración pasada, entonces cual es el valor actual de y despues de esta declaración?  Si no sabe, puede usar \"print y\" para saber pero seria bueno hacerlo en la mente para confirmar ya que no es dificil."
   ]
  },
  {
   "cell_type": "code",
   "execution_count": 8,
   "metadata": {
    "collapsed": true
   },
   "outputs": [],
   "source": [
    "y = float(y)"
   ]
  },
  {
   "cell_type": "markdown",
   "metadata": {},
   "source": [
    "Lo bueno de python es que dentro de la creación del programa, existen \"funciones\" que nos ayudan a manipular numeros. Por ejemplo, float(y) convierte la variable \"y\" en un numero decimal. Anteriormente, y era un numero entero. Ahora, float(y) ha hecho que y sea un numero decimal"
   ]
  },
  {
   "cell_type": "code",
   "execution_count": 15,
   "metadata": {
    "collapsed": false
   },
   "outputs": [
    {
     "name": "stdout",
     "output_type": "stream",
     "text": [
      "99\n"
     ]
    }
   ],
   "source": [
    "hello = 99\n",
    "print hello"
   ]
  },
  {
   "cell_type": "markdown",
   "metadata": {},
   "source": [
    "Tambien, podemos declarar palabras como numeros."
   ]
  },
  {
   "cell_type": "code",
   "execution_count": 17,
   "metadata": {
    "collapsed": false
   },
   "outputs": [
    {
     "name": "stdout",
     "output_type": "stream",
     "text": [
      "1.22222222222\n"
     ]
    }
   ],
   "source": [
    "hello = hello/y\n",
    "print hello"
   ]
  },
  {
   "cell_type": "markdown",
   "metadata": {},
   "source": [
    "Es importante saber que el concepto de asignación de variables se pueden aplicar de muchas formas."
   ]
  },
  {
   "cell_type": "code",
   "execution_count": 21,
   "metadata": {
    "collapsed": false
   },
   "outputs": [
    {
     "name": "stdout",
     "output_type": "stream",
     "text": [
      "Hello world!\n"
     ]
    }
   ],
   "source": [
    "say = \"Hello world!\"\n",
    "print say"
   ]
  },
  {
   "cell_type": "markdown",
   "metadata": {},
   "source": [
    "Por ejemplo, aqui asignamos la palabra hello world! a la variable say. Sabemos que son palabras ya que estan dentro de dos comillas \" \""
   ]
  },
  {
   "cell_type": "code",
   "execution_count": 23,
   "metadata": {
    "collapsed": false
   },
   "outputs": [
    {
     "name": "stdout",
     "output_type": "stream",
     "text": [
      "Hello world! Hiii\n"
     ]
    }
   ],
   "source": [
    "phrase = \"Hiii\"\n",
    "print say + \" \" + phrase  "
   ]
  },
  {
   "cell_type": "markdown",
   "metadata": {},
   "source": [
    "Tambien, podemos usar los simbolos de mas para unir palabras y hacer nuestras propias frases."
   ]
  },
  {
   "cell_type": "code",
   "execution_count": 24,
   "metadata": {
    "collapsed": false
   },
   "outputs": [
    {
     "name": "stdout",
     "output_type": "stream",
     "text": [
      "Hello world!\n"
     ]
    }
   ],
   "source": [
    "print say # + \" \" + phrase "
   ]
  },
  {
   "cell_type": "markdown",
   "metadata": {},
   "source": [
    "Si quisieramos omitir un par de cosas de nuestra linea de codigo, el simbolo \"#\" se hace cargo de \"comentar\" todo lo que esta a su derecha"
   ]
  },
  {
   "cell_type": "code",
   "execution_count": 41,
   "metadata": {
    "collapsed": true
   },
   "outputs": [],
   "source": [
    "array1 = [1, 2, 3]"
   ]
  },
  {
   "cell_type": "markdown",
   "metadata": {},
   "source": [
    "Tambien, podemos asignar arrays de numeros a variables para poder facilitar operaciones. Ami, me gusta pensar en arrays como listas con indices que EMPIEZAN desde ZERO. En este caso, tenemos una lista de cuantos elementos?\n",
    "1 es nuestro primer elemento con indice numero 0. 2 es nuestro segundo elemento con indice numero 1. 3 es nuestro tercer elemento con indice numero 2."
   ]
  },
  {
   "cell_type": "code",
   "execution_count": 42,
   "metadata": {
    "collapsed": false
   },
   "outputs": [
    {
     "name": "stdout",
     "output_type": "stream",
     "text": [
      "1\n"
     ]
    }
   ],
   "source": [
    "print array1[0]"
   ]
  },
  {
   "cell_type": "markdown",
   "metadata": {},
   "source": [
    "El formato array1[numero de indice] nos da el numero exacto del array que queremos el cual corresponde al indice que especificamos. En este caso, el indice que especificamos fue el numero 0. Entonces, en el array [1, 2, 3], el elemento en el indice numero 0 es el elemento 1 Cual es el indice del elemento numero 3?"
   ]
  },
  {
   "cell_type": "code",
   "execution_count": 43,
   "metadata": {
    "collapsed": false
   },
   "outputs": [
    {
     "name": "stdout",
     "output_type": "stream",
     "text": [
      "6\n"
     ]
    }
   ],
   "source": [
    "suma = sum(array1)\n",
    "print suma"
   ]
  },
  {
   "cell_type": "markdown",
   "metadata": {},
   "source": [
    "Como habiamos hablado, python tiene algunas \"funciones\" las cuales podemos usar para manipular nuestros datos. En este caso, la función sum() suma todos los elementos dentro del array1 (suma 1 + 2 + 3)"
   ]
  },
  {
   "cell_type": "markdown",
   "metadata": {},
   "source": [
    "# Boleans and If Statements"
   ]
  },
  {
   "cell_type": "markdown",
   "metadata": {},
   "source": [
    "Piensa en boleans como cuando uno apaga y ensiende la luz. Solo hay dos opciones: predido (True) o apagado (False). Boleans nos ayuda a saber si una declaración es verdadera o falsa. Podemos asignar una variable a un Bolean"
   ]
  },
  {
   "cell_type": "code",
   "execution_count": 51,
   "metadata": {
    "collapsed": false
   },
   "outputs": [
    {
     "name": "stdout",
     "output_type": "stream",
     "text": [
      "False\n"
     ]
    }
   ],
   "source": [
    "Lluvia = False\n",
    "print Lluvia"
   ]
  },
  {
   "cell_type": "markdown",
   "metadata": {},
   "source": [
    "En este caso, vemos como la variable \"Lluvia\" es declarada como falso"
   ]
  },
  {
   "cell_type": "code",
   "execution_count": 52,
   "metadata": {
    "collapsed": false
   },
   "outputs": [
    {
     "name": "stdout",
     "output_type": "stream",
     "text": [
      "No esta lloviendo\n"
     ]
    }
   ],
   "source": [
    "if Lluvia == False:\n",
    "    print \"No esta lloviendo\""
   ]
  },
  {
   "cell_type": "markdown",
   "metadata": {},
   "source": [
    "Aqui, declaramos un \"if statement\". If statements son condicionales que podemos utilizar en muchas ocaciones para manejar nuestros datos. El formato del \"if statement\" es distinto en cada lenguaje de programación. En nuestro caso, el formato de un if statement en python es el siguiente: if (condicional): \n",
    "Note que despues de los dos puntos, existe una sangría antes de la declaración \"print 'No esta lloviendo'\" Tambien, en nuestro condicional, estamos usando un doble igual \"==\". La diferencia entre un igual \"=\" y dos iguales \"==\" es que un igual \"=\" se usa para asignación de variables mientras dos iguales \"==\" es para saber si el valor interno de la variable es exactamente igual a lo que esta en su derecha. En este caso el doble igual \"==\" nos dice que si el valor de la variable Lluvia es exactamente igual a False, entonces podemos proceder a la siguiente declaración dentro del if statement. Si la variable Lluvia no tiene un valor exactamente igual a False, nos saldremos inmediatamente de la estructura del if statement.\n",
    "\n"
   ]
  },
  {
   "cell_type": "code",
   "execution_count": 53,
   "metadata": {
    "collapsed": false
   },
   "outputs": [
    {
     "name": "stdout",
     "output_type": "stream",
     "text": [
      "Esta lluviendo\n"
     ]
    }
   ],
   "source": [
    "if Lluvia == True:\n",
    "    print \"No esta lloviendo\"\n",
    "else:\n",
    "    print \"Esta lluviendo\""
   ]
  },
  {
   "cell_type": "markdown",
   "metadata": {},
   "source": [
    "En este caso, cambiamos la condición y agregamos otra opción condicional llamada \"else\". Sabemos que dentro de la variable Lluvia tenemos False. Entonces en la primera linea condicional, se pregunta si el valor de la variable Lluvia es exactamente igual a True. Sabemos que el valor de la variable de Lluvia es False entonces el valor de la variable Lluvia no es exactamente igual a True. Por ende, no tenemos acceso a entrar dentro de la declaración del if statement. PERO existe otro condicional llamado \"else\" el cual se escribe luego del if statement. Else nos ayuda seguir los condicionales si el condicional anterior no se satisfació. Piense en if y else como la siguiente condición, \"si mañana llueve, traeré sombrilla. Sino, la dejaré en la casa\" En nuestro ejemplo, La primera parte (si mañana llueve, traeré sombrilla) es el if statement. La segunda parte (Sino, la dejaré en la casa) es el else statement. Notar que cuando se usa else, tambien tiene dos puntos por delante. (else :) Al igual que el if statement, despues del else, se tiene que tambien poner una sangría a la hora de escribir otra declaración dentro del else statement. En nuestro caso, ya que Lluvia no es exactamente igual a True, el codigo nos lleva al Else statement, el cual se dirije a la declaración de print (print \"Esta lluviendo\") \n"
   ]
  },
  {
   "cell_type": "code",
   "execution_count": 54,
   "metadata": {
    "collapsed": true
   },
   "outputs": [],
   "source": [
    "if Lluvia != False:\n",
    "    print \"No esta lloviendo\""
   ]
  },
  {
   "cell_type": "markdown",
   "metadata": {},
   "source": [
    "Aquí, podemos ver que el if statement no dio su declaración. Sabemos que la variable adentro de Lluvia es False. Pero en nuestro condicional, usamos != en vez de ==   Usamos != cuando queremos lo oposito de lo que esta a la derecha. En este caso, lo contrario de False es True. Entonces, el if statement dice que Lluvia tiene que ser exactamente igual a True, el cual no es cierto y por ende, no vemos la declaración \"No esta lloviendo\""
   ]
  },
  {
   "cell_type": "code",
   "execution_count": 55,
   "metadata": {
    "collapsed": false
   },
   "outputs": [
    {
     "name": "stdout",
     "output_type": "stream",
     "text": [
      "No esta lloviendo\n"
     ]
    }
   ],
   "source": [
    "if Lluvia != True:\n",
    "    print \"No esta lloviendo\""
   ]
  },
  {
   "cell_type": "markdown",
   "metadata": {},
   "source": [
    "Esto talvez se puede ver confuso pero es bueno practicar. Sabemos que la variable dentro de Lluvia es False. Y ahora sabemos que significa !=  En este caso, != hace lo oposito de True, el cual es False y sabemos que el valor de Lluvia tiene que ser exactamente igual a != True (!= True es igual a False). Ya que sabemos que Lluvia es False, el if statement nos deja entrar y usar la declaración \"No esta lloviendo\""
   ]
  },
  {
   "cell_type": "code",
   "execution_count": 59,
   "metadata": {
    "collapsed": false
   },
   "outputs": [
    {
     "name": "stdout",
     "output_type": "stream",
     "text": [
      "[0, 1]\n",
      "2\n"
     ]
    }
   ],
   "source": [
    "x = range(0, 2)\n",
    "print x\n",
    "print len(x)"
   ]
  },
  {
   "cell_type": "raw",
   "metadata": {},
   "source": [
    "Aqui asignamos a x con la funcion de python range(a, b)   range(a, b) hace que podamos hacer un array array que empiece desde el numero a (en nuestro caso zero) y termine en el numero b (en nuestro caso b) Luego la funcion de python len() hace que nos de el numero de elementos en el array. En nuestro caso, len(x) nos da el numero de elementos en el array x el cual es 2."
   ]
  },
  {
   "cell_type": "code",
   "execution_count": 62,
   "metadata": {
    "collapsed": false
   },
   "outputs": [
    {
     "name": "stdout",
     "output_type": "stream",
     "text": [
      "Se puso fea la cosa\n"
     ]
    }
   ],
   "source": [
    "z = 3\n",
    "if z < len(x):\n",
    "    print \"Que complicado\"\n",
    "elif z > len(x):\n",
    "    print \"Se puso fea la cosa\"\n",
    "else:\n",
    "    print \"No tengo ni idea\""
   ]
  },
  {
   "cell_type": "markdown",
   "metadata": {},
   "source": [
    "Ahora, usamos nuestros condicionales z < len(x) y z > len(x). elif es una combinacion de if statement y else statement. Con elif, podemos usar else y al mismo tiempo dar un condicional. Sabemos que el valor de la variable z es 3 y que el numero de elementos en el array x es 2. En nuestro primer condicional, dice que el valor de la variable en z tiene que ser menor < a el numero de elementos en el array x. Ya que 3 (numero de variable de z) no es menor que 2 (numero de elementos en array x), sabemos que nuestro codigo no va a ejecutar la declaración que esta dentro del primer if statement. Sabemos que el valor de la variable en z es major que el numero de elementos en array x. Por ende, la declaración del elif es la que fue ejecutada."
   ]
  },
  {
   "cell_type": "code",
   "execution_count": 63,
   "metadata": {
    "collapsed": false
   },
   "outputs": [
    {
     "name": "stdout",
     "output_type": "stream",
     "text": [
      "0\n",
      "1\n",
      "2\n"
     ]
    }
   ],
   "source": [
    "for i in range(0,3):\n",
    "    print i"
   ]
  },
  {
   "cell_type": "markdown",
   "metadata": {},
   "source": [
    "Aquí se demuestra la estructura de un for loop. range(0,3) da un array con los numeros [0, 1, 2, 3] Porque solo vemos escritos los numeros 0 1 2? La letra i siempre empieza desde zero. El range(0,3) da el array [0, 1, 2, 3] entonces cuando uno dice for i in range(0,3) esta diciendo que por cada elemento del array con el INDICE i (el cual es zero), imprimir ese indice, el cual le da 0."
   ]
  },
  {
   "cell_type": "code",
   "execution_count": null,
   "metadata": {
    "collapsed": true
   },
   "outputs": [],
   "source": []
  },
  {
   "cell_type": "code",
   "execution_count": null,
   "metadata": {
    "collapsed": true
   },
   "outputs": [],
   "source": []
  },
  {
   "cell_type": "code",
   "execution_count": null,
   "metadata": {
    "collapsed": true
   },
   "outputs": [],
   "source": []
  }
 ],
 "metadata": {
  "kernelspec": {
   "display_name": "Python [conda root]",
   "language": "python",
   "name": "conda-root-py"
  },
  "language_info": {
   "codemirror_mode": {
    "name": "ipython",
    "version": 2
   },
   "file_extension": ".py",
   "mimetype": "text/x-python",
   "name": "python",
   "nbconvert_exporter": "python",
   "pygments_lexer": "ipython2",
   "version": "2.7.12"
  }
 },
 "nbformat": 4,
 "nbformat_minor": 1
}
