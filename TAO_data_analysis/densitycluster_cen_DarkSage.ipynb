{
 "cells": [
  {
   "cell_type": "code",
   "execution_count": 1,
   "metadata": {
    "collapsed": false
   },
   "outputs": [],
   "source": [
    "from astropy.io import fits\n",
    "from scipy import spatial as sp\n",
    "import numpy as np\n",
    "import matplotlib.pyplot as plt\n",
    "\n",
    "load_z0DSage = fits.open('tao.1951.0.fits')\n",
    "load_z1DSage = fits.open('tao.1959.0.fits')\n",
    "load_z2DSage = fits.open('tao.1961.0.fits')\n",
    "load_z3DSage = fits.open('tao.1957.0.fits')\n",
    "\n",
    "data_z0DSage = load_z0DSage[1].data\n",
    "data_z1DSage = load_z1DSage[1].data\n",
    "data_z2DSage = load_z2DSage[1].data\n",
    "data_z3DSage = load_z3DSage[1].data"
   ]
  },
  {
   "cell_type": "code",
   "execution_count": 2,
   "metadata": {
    "collapsed": false
   },
   "outputs": [],
   "source": [
    "#import pandas as pd\n",
    "#from astropy.table import Table\n",
    "#table = Table.read('tao.1951.0.fits')"
   ]
  },
  {
   "cell_type": "code",
   "execution_count": 3,
   "metadata": {
    "collapsed": false
   },
   "outputs": [],
   "source": [
    "#table.to_pandas()"
   ]
  },
  {
   "cell_type": "code",
   "execution_count": 4,
   "metadata": {
    "collapsed": true
   },
   "outputs": [],
   "source": [
    "# Dividing sample between centrals and satellites for DARK SAGE\n",
    "idx_cen_z0DSage = np.where(data_z0DSage[:]['Galaxy_Classification'] == 0) [0]\n",
    "idx_sat_z0DSage  = np.where(data_z0DSage[:]['Galaxy_Classification'] == 1) [0]\n",
    "gal_cen_z0DSage = data_z0DSage[idx_cen_z0DSage]\n",
    "gal_sat_z0DSage = data_z0DSage[idx_sat_z0DSage]\n",
    "\n",
    "idx_cen_z1DSage = np.where(data_z1DSage[:]['Galaxy_Classification'] == 0) [0]\n",
    "idx_sat_z1DSage  = np.where(data_z1DSage[:]['Galaxy_Classification'] == 1) [0]\n",
    "gal_cen_z1DSage = data_z1DSage[idx_cen_z1DSage]\n",
    "gal_sat_z1DSage = data_z1DSage[idx_sat_z1DSage]\n",
    "\n",
    "idx_cen_z2DSage = np.where(data_z2DSage[:]['Galaxy_Classification'] == 0) [0]\n",
    "idx_sat_z2DSage  = np.where(data_z2DSage[:]['Galaxy_Classification'] == 1) [0]\n",
    "gal_cen_z2DSage = data_z2DSage[idx_cen_z2DSage]\n",
    "gal_sat_z2DSage = data_z2DSage[idx_sat_z2DSage]\n",
    "\n",
    "idx_cen_z3DSage = np.where(data_z3DSage[:]['Galaxy_Classification'] == 0) [0]\n",
    "idx_sat_z3DSage  = np.where(data_z3DSage[:]['Galaxy_Classification'] == 1) [0]\n",
    "gal_cen_z3DSage = data_z3DSage[idx_cen_z3DSage]\n",
    "gal_sat_z3DSage = data_z3DSage[idx_sat_z3DSage]\n"
   ]
  },
  {
   "cell_type": "code",
   "execution_count": 5,
   "metadata": {
    "collapsed": true
   },
   "outputs": [],
   "source": [
    "#### Taking all galaxies with TSM = 0 out of sample\n",
    "TSM_idx_cen_z0DSage = np.where(gal_cen_z0DSage[:]['Total_Stellar_Mass']!=0)[0]\n",
    "gal_cen_z0DSage = gal_cen_z0DSage[TSM_idx_cen_z0DSage]\n",
    "\n",
    "TSM_idx_cen_z1DSage = np.where(gal_cen_z1DSage[:]['Total_Stellar_Mass']!=0)[0]\n",
    "gal_cen_z1DSage = gal_cen_z1DSage[TSM_idx_cen_z1DSage]\n",
    "\n",
    "TSM_idx_cen_z2DSage = np.where(gal_cen_z2DSage[:]['Total_Stellar_Mass']!=0)[0]\n",
    "gal_cen_z2DSage = gal_cen_z2DSage[TSM_idx_cen_z2DSage]\n",
    "\n",
    "TSM_idx_cen_z3DSage = np.where(gal_cen_z3DSage[:]['Total_Stellar_Mass']!=0)[0]\n",
    "gal_cen_z3DSage = gal_cen_z3DSage[TSM_idx_cen_z3DSage]\n",
    "\n",
    "\n",
    "#### Taking all galaxies with DSM = 0 out of sample\n",
    "DSM_idx_cen_z0DSage = np.where(gal_cen_z0DSage[:]['Disk_Stellar_Mass']!=0)[0]\n",
    "gal_cen_z0DSage = gal_cen_z0DSage[DSM_idx_cen_z0DSage]\n",
    "\n",
    "DSM_idx_cen_z1DSage = np.where(gal_cen_z1DSage[:]['Disk_Stellar_Mass']!=0)[0]\n",
    "gal_cen_z1DSage = gal_cen_z1DSage[DSM_idx_cen_z1DSage]\n",
    "\n",
    "DSM_idx_cen_z2DSage = np.where(gal_cen_z2DSage[:]['Disk_Stellar_Mass']!=0)[0]\n",
    "gal_cen_z2DSage = gal_cen_z2DSage[DSM_idx_cen_z2DSage]\n",
    "\n",
    "DSM_idx_cen_z3DSage = np.where(gal_cen_z3DSage[:]['Disk_Stellar_Mass']!=0)[0]\n",
    "gal_cen_z3DSage = gal_cen_z3DSage[DSM_idx_cen_z3DSage]\n"
   ]
  },
  {
   "cell_type": "code",
   "execution_count": 178,
   "metadata": {
    "collapsed": false
   },
   "outputs": [],
   "source": [
    "\n",
    "allgal_cen_DSage = [gal_cen_z0DSage, gal_cen_z1DSage, gal_cen_z2DSage, gal_cen_z3DSage]\n",
    "gal_cen = {}\n",
    "i=0\n",
    "\n",
    "for i in range(len(allgal_cen_DSage)):\n",
    "    gal_cen[\"points_z{0}\".format(i)] = np.array(zip(allgal_cen_DSage[i]['X'].ravel(),\n",
    "                                                     allgal_cen_DSage[i]['Y'].ravel(),\n",
    "                                                     allgal_cen_DSage[i]['Z'].ravel()))\n",
    "    \n",
    "    gal_cen[\"tree_z{0}\".format(i)] = sp.cKDTree(gal_cen[\"points_z{0}\".format(i)])\n",
    "\n",
    "    gal_cen[\"ck_arr_10_z{0}\".format(i)] = gal_cen[\"tree_z{0}\".format(i)].query_ball_point(gal_cen[\"points_z{0}\".format(i)], 8)\n",
    "\n",
    "    ii=0\n",
    "    gal_cen[\"ngal_arr_10_z{0}\".format(i)] = np.array([len(gal_cen[\"ck_arr_10_z{0}\".format(i)][ii])-1 for ii in range(len(gal_cen[\"ck_arr_10_z{0}\".format(i)]))]).astype(float)\n",
    "\n",
    "\n"
   ]
  },
  {
   "cell_type": "code",
   "execution_count": 172,
   "metadata": {
    "collapsed": false
   },
   "outputs": [
    {
     "name": "stdout",
     "output_type": "stream",
     "text": [
      "[ 20.  31.  16. ...,   0.   0.   0.]\n"
     ]
    }
   ],
   "source": [
    "#print gal_cen_z0DSage['Ngal_counts_R8']"
   ]
  },
  {
   "cell_type": "code",
   "execution_count": 163,
   "metadata": {
    "collapsed": false
   },
   "outputs": [
    {
     "name": "stdout",
     "output_type": "stream",
     "text": [
      "[ 20.  25.  31. ...,  68.  25.  27.]\n"
     ]
    }
   ],
   "source": [
    "#print gal_cen['ngal_arr_10_z0']"
   ]
  },
  {
   "cell_type": "code",
   "execution_count": 220,
   "metadata": {
    "collapsed": false
   },
   "outputs": [
    {
     "ename": "AttributeError",
     "evalue": "append",
     "output_type": "error",
     "traceback": [
      "\u001b[0;31m---------------------------------------------------------------------------\u001b[0m",
      "\u001b[0;31mAttributeError\u001b[0m                            Traceback (most recent call last)",
      "\u001b[0;32m<ipython-input-220-02df9c3aead7>\u001b[0m in \u001b[0;36m<module>\u001b[0;34m()\u001b[0m\n\u001b[1;32m      5\u001b[0m \u001b[0morig_cols\u001b[0m \u001b[0;34m=\u001b[0m \u001b[0mgal_cen_z0DSage\u001b[0m\u001b[0;34m.\u001b[0m\u001b[0mcolumns\u001b[0m\u001b[0;34m\u001b[0m\u001b[0m\n\u001b[1;32m      6\u001b[0m \u001b[0mnew_cols\u001b[0m \u001b[0;34m=\u001b[0m \u001b[0mfits\u001b[0m\u001b[0;34m.\u001b[0m\u001b[0mColDefs\u001b[0m\u001b[0;34m(\u001b[0m\u001b[0mcols\u001b[0m\u001b[0;34m)\u001b[0m\u001b[0;34m\u001b[0m\u001b[0m\n\u001b[0;32m----> 7\u001b[0;31m \u001b[0mnew_cols\u001b[0m\u001b[0;34m.\u001b[0m\u001b[0mappend\u001b[0m\u001b[0;34m(\u001b[0m\u001b[0morig_cols\u001b[0m\u001b[0;34m)\u001b[0m\u001b[0;34m\u001b[0m\u001b[0m\n\u001b[0m\u001b[1;32m      8\u001b[0m \u001b[0;34m\u001b[0m\u001b[0m\n\u001b[1;32m      9\u001b[0m \u001b[0;31m#hdu = fits.BinTableHDU.from_columns(new_cols)\u001b[0m\u001b[0;34m\u001b[0m\u001b[0;34m\u001b[0m\u001b[0m\n",
      "\u001b[0;32m/fs1/porrasaj/anaconda2/lib/python2.7/site-packages/astropy/io/fits/column.pyc\u001b[0m in \u001b[0;36m__getattr__\u001b[0;34m(self, name)\u001b[0m\n\u001b[1;32m   1367\u001b[0m                 \u001b[0mattr\u001b[0m\u001b[0;34m.\u001b[0m\u001b[0mappend\u001b[0m\u001b[0;34m(\u001b[0m\u001b[0mval\u001b[0m \u001b[0;32mif\u001b[0m \u001b[0mval\u001b[0m \u001b[0;32mis\u001b[0m \u001b[0;32mnot\u001b[0m \u001b[0mNone\u001b[0m \u001b[0;32melse\u001b[0m \u001b[0;34m''\u001b[0m\u001b[0;34m)\u001b[0m\u001b[0;34m\u001b[0m\u001b[0m\n\u001b[1;32m   1368\u001b[0m             \u001b[0;32mreturn\u001b[0m \u001b[0mattr\u001b[0m\u001b[0;34m\u001b[0m\u001b[0m\n\u001b[0;32m-> 1369\u001b[0;31m         \u001b[0;32mraise\u001b[0m \u001b[0mAttributeError\u001b[0m\u001b[0;34m(\u001b[0m\u001b[0mname\u001b[0m\u001b[0;34m)\u001b[0m\u001b[0;34m\u001b[0m\u001b[0m\n\u001b[0m\u001b[1;32m   1370\u001b[0m \u001b[0;34m\u001b[0m\u001b[0m\n\u001b[1;32m   1371\u001b[0m     \u001b[0;34m@\u001b[0m\u001b[0mlazyproperty\u001b[0m\u001b[0;34m\u001b[0m\u001b[0m\n",
      "\u001b[0;31mAttributeError\u001b[0m: append"
     ]
    }
   ],
   "source": [
    "cols = [] \n",
    "cols.append(\n",
    "    fits.Column(name='Ngal_counts_R8', format='D', array = gal_cen['ngal_arr_10_z0'])\n",
    "    )\n",
    "orig_cols = gal_cen_z0DSage.columns\n",
    "new_cols = fits.ColDefs(cols)\n",
    "new_cols.append(orig_cols)\n",
    "\n",
    "#hdu = fits.BinTableHDU.from_columns(new_cols)"
   ]
  },
  {
   "cell_type": "code",
   "execution_count": 219,
   "metadata": {
    "collapsed": false
   },
   "outputs": [
    {
     "name": "stdout",
     "output_type": "stream",
     "text": [
      "[ 20.  25.  31. ...,  68.  25.  27.]\n"
     ]
    }
   ],
   "source": [
    "print hdu.data['Ngal_counts_R8']"
   ]
  },
  {
   "cell_type": "raw",
   "metadata": {},
   "source": []
  },
  {
   "cell_type": "code",
   "execution_count": 164,
   "metadata": {
    "collapsed": false
   },
   "outputs": [],
   "source": [
    "\n",
    "cols = [] \n",
    "cols.append(\n",
    "    fits.Column(name='Ngal_counts_R8', format='D', array = gal_cen['ngal_arr_10_z0'])\n",
    "    )\n",
    "orig_cols = gal_cen_z0DSage.columns\n",
    "new_cols = fits.ColDefs(cols)\n",
    "hdu = fits.BinTableHDU.from_columns(orig_cols + new_cols)\n",
    "hdu.writeto('new_tao.1951.0.fits')\n"
   ]
  },
  {
   "cell_type": "code",
   "execution_count": 151,
   "metadata": {
    "collapsed": true
   },
   "outputs": [],
   "source": [
    "\n",
    "########DSAGE#########    make a function that does the binning mean and std of the mean\n",
    "failval = np.nan\n",
    "# failval = -999\n",
    "mean_func = np.nanmean\n",
    "std_func = np.nanstd\n",
    "Mvir_bins = np.linspace(0, 50, 12)\n",
    "\n",
    "def meanbin(a, b):\n",
    "    idx_Mvir = np.digitize(a, Mvir_bins)\n",
    "    mean_a = np.array([ mean_func(a[idx_Mvir==ii]) if len(a[idx_Mvir==ii]) > 0 else failval for ii in range(1, len(Mvir_bins))])\n",
    "    mean_b = np.array([ mean_func(b[idx_Mvir==ii]) if len(a[idx_Mvir==ii]) > 0 else failval for ii in range(1, len(Mvir_bins))])\n",
    "    return mean_a, mean_b\n",
    "\n",
    "\n",
    "\n",
    "def stdbin(a, b):\n",
    "    idx_Mvir = np.digitize(a, Mvir_bins)\n",
    "    std_a = np.array([ std_func(a[idx_Mvir==ii]) if len(a[idx_Mvir==ii]) > 0 else failval for ii in range(1, len(Mvir_bins))])\n",
    "    std_b = np.array([ std_func(b[idx_Mvir==ii])/np.sqrt(len(b[idx_Mvir==ii])) if len(a[idx_Mvir==ii]) > 0 else failval for ii in range(1, len(Mvir_bins))])\n",
    "    #/np.sqrt(len(b[idx_Mvir==ii]))\n",
    "    return std_a, std_b\n"
   ]
  },
  {
   "cell_type": "code",
   "execution_count": 154,
   "metadata": {
    "collapsed": false
   },
   "outputs": [],
   "source": [
    "#, gal_cen_z1DSage, gal_cen_z2DSage, gal_cen_z3DSage\n",
    "allgal_cen_DSage = [gal_cen_z0DSage]\n",
    "gal_cen_DSage = {}\n",
    "for n1 in range(len(allgal_cen_DSage)):\n",
    "    gal_cen_DSage['TSM_Ngalcounts_meanbin_z{0}'.format(n1)] = meanbin(allgal_cen_DSage[n1]['Total_Stellar_Mass'], allgal_cen_DSage[n1]['Ngal_counts_R8'])\n",
    "    gal_cen_DSage['TSM_Ngalcounts_stdbin_z{0}'.format(n1)] = stdbin(allgal_cen_DSage[n1]['Total_Stellar_Mass'], allgal_cen_DSage[n1]['Ngal_counts_R8'])\n",
    "        \n"
   ]
  },
  {
   "cell_type": "code",
   "execution_count": 156,
   "metadata": {
    "collapsed": false
   },
   "outputs": [
    {
     "data": {
      "image/png": "[encoded data removed]",
      "text/plain": [
       "<matplotlib.figure.Figure at 0x7f9a2871fed0>"
      ]
     },
     "metadata": {},
     "output_type": "display_data"
    }
   ],
   "source": [
    "\n",
    "plt.errorbar(gal_cen_DSage['TSM_Ngalcounts_meanbin_z0'][0],\n",
    "             gal_cen_DSage['TSM_Ngalcounts_meanbin_z0'][1],\n",
    "            yerr=gal_cen_DSage['TSM_Ngalcounts_stdbin_z0'][1],\n",
    "            marker='o', color='r', label='Bulge 11-12')\n",
    "\n",
    "\n",
    "#plt.xlim(0, 1)\n",
    "#plt.ylim(-1, 21)\n",
    "plt.xlabel('TSM',  fontsize=10)\n",
    "plt.ylabel('Ngal Counts for R=8Mpc/h',  fontsize=10)\n",
    "#plt.title('Central Galaxies Mvir vs. Stellar Mass ')\n",
    "plt.legend(loc=3, numpoints=1)\n",
    "#plt.axis([1e11, 1e15, 1e9, 1e12])\n",
    "\n",
    "\n",
    "plt.style.use('seaborn-notebook')\n",
    "\n",
    "plt.tight_layout()\n",
    "#plt.savefig('morphdensity_Centrals_stellarSpin_lambdavsRvir_SMbin10-12_DSAGE_z0.png', dpi=100)\n",
    "\n",
    "plt.show()\n"
   ]
  },
  {
   "cell_type": "code",
   "execution_count": null,
   "metadata": {
    "collapsed": true
   },
   "outputs": [],
   "source": []
  },
  {
   "cell_type": "code",
   "execution_count": 96,
   "metadata": {
    "collapsed": true
   },
   "outputs": [],
   "source": [
    "#Total_Bulge_Mass = gal_cen_z0DSage['Merger-driven_Bulge_Mass'] + gal_cen_z0DSage['Instability-driven_Bulge_Mass']\n",
    "#(gal_cen_z0DSage['Merger-driven_Bulge_Mass'] + gal_cen_z0DSage['Instability-driven_Bulge_Mass'])     #for total bulge mass\n",
    "# this is for disk  gal_cen_z1DSage['Disk_Stellar_Mass']\n",
    "\n",
    "morph_cen_z0DSage = gal_cen_z0DSage['Disk_Stellar_Mass']/gal_cen_z0DSage['Total_Stellar_Mass']\n",
    "morph_cen_z1DSage = gal_cen_z1DSage['Disk_Stellar_Mass']/gal_cen_z1DSage['Total_Stellar_Mass']\n",
    "morph_cen_z2DSage = gal_cen_z2DSage['Disk_Stellar_Mass']/gal_cen_z2DSage['Total_Stellar_Mass']\n",
    "morph_cen_z3DSage = gal_cen_z3DSage['Disk_Stellar_Mass']/gal_cen_z3DSage['Total_Stellar_Mass']\n",
    "\n",
    "###### Redshift 0\n",
    "bulgedom_idx_cen_z0DSage = np.where(morph_cen_z0DSage < 0.5)[0]\n",
    "bulgedom_cen_z0DSage = gal_cen_z0DSage[bulgedom_idx_cen_z0DSage]\n",
    "\n",
    "diskdom_idx_cen_z0DSage = np.where(morph_cen_z0DSage > 0.5)[0]\n",
    "diskdom_cen_z0DSage = gal_cen_z0DSage[diskdom_idx_cen_z0DSage]\n",
    "\n",
    "###### Redshift 1\n",
    "bulgedom_idx_cen_z1DSage = np.where(morph_cen_z1DSage < 0.5)[0]\n",
    "bulgedom_cen_z1DSage = gal_cen_z1DSage[bulgedom_idx_cen_z1DSage]\n",
    "\n",
    "diskdom_idx_cen_z1DSage = np.where(morph_cen_z1DSage > 0.5)[0]\n",
    "diskdom_cen_z1DSage = gal_cen_z1DSage[diskdom_idx_cen_z1DSage]\n",
    "\n",
    "###### Redshift 2\n",
    "bulgedom_idx_cen_z2DSage = np.where(morph_cen_z2DSage < 0.5)[0]\n",
    "bulgedom_cen_z2DSage = gal_cen_z2DSage[bulgedom_idx_cen_z2DSage]\n",
    "\n",
    "diskdom_idx_cen_z2DSage = np.where(morph_cen_z2DSage > 0.5)[0]\n",
    "diskdom_cen_z2DSage = gal_cen_z2DSage[diskdom_idx_cen_z2DSage]\n",
    "\n",
    "###### Redshift 3\n",
    "bulgedom_idx_cen_z3DSage = np.where(morph_cen_z3DSage < 0.5)[0]\n",
    "bulgedom_cen_z3DSage = gal_cen_z3DSage[bulgedom_idx_cen_z3DSage]\n",
    "\n",
    "diskdom_idx_cen_z3DSage = np.where(morph_cen_z3DSage > 0.5)[0]\n",
    "diskdom_cen_z3DSage = gal_cen_z3DSage[diskdom_idx_cen_z3DSage]"
   ]
  },
  {
   "cell_type": "code",
   "execution_count": 102,
   "metadata": {
    "collapsed": true
   },
   "outputs": [],
   "source": [
    "bulgedom_cen_DSage = {}\n",
    "bulge_gal_cen_DSage = [bulgedom_cen_z0DSage, bulgedom_cen_z1DSage, bulgedom_cen_z2DSage, bulgedom_cen_z3DSage]\n",
    "i=0\n",
    "for i in range(len(bulge_gal_cen_DSage)):\n",
    "    \n",
    "    bulgedom_cen_DSage[\"Mvir_z{0}\".format(i)] = 1e10*bulge_gal_cen_DSage[i]['Mvir']\n",
    "    bulgedom_cen_DSage[\"TSM_z{0}\".format(i)] = 1e10*bulge_gal_cen_DSage[i]['Total_Stellar_Mass']    \n",
    "    bulgedom_cen_DSage[\"CGMvir_z{0}\".format(i)] = 1e10*bulge_gal_cen_DSage[i]['Central_Galaxy_Mvir']\n",
    "    bulgedom_cen_DSage[\"bulgepseudo_z{0}\".format(i)] = 1e10*bulge_gal_cen_DSage[i]['Pseudobulge_Mass']\n",
    "    bulgedom_cen_DSage[\"DSM_z{0}\".format(i)] = 1e10*bulge_gal_cen_DSage[i]['Disk_Stellar_Mass']\n",
    "    bulgedom_cen_DSage[\"ColdGM_z{0}\".format(i)] = 1e10*bulge_gal_cen_DSage[i]['Cold_Gas_Mass']    \n",
    "    bulgedom_cen_DSage[\"HotGM_z{0}\".format(i)] = 1e10*bulge_gal_cen_DSage[i]['Hot_Gas_Mass']\n",
    "    bulgedom_cen_DSage[\"EjectedGM_z{0}\".format(i)] = 1e10*bulge_gal_cen_DSage[i]['Ejected_Gas_Mass']     \n",
    "    bulgedom_cen_DSage[\"Vvir_z{0}\".format(i)] = bulge_gal_cen_DSage[i]['Vvir']\n",
    "    bulgedom_cen_DSage[\"Rvir_z{0}\".format(i)] = bulge_gal_cen_DSage[i]['Rvir']    \n",
    "    bulgedom_cen_DSage[\"xpos_z{0}\".format(i)] = bulge_gal_cen_DSage[i]['X']\n",
    "    bulgedom_cen_DSage[\"ypos_z{0}\".format(i)] = bulge_gal_cen_DSage[i]['Y']\n",
    "    bulgedom_cen_DSage[\"zpos_z{0}\".format(i)] = bulge_gal_cen_DSage[i]['Z']\n",
    "    bulgedom_cen_DSage[\"xvel_z{0}\".format(i)] = bulge_gal_cen_DSage[i]['X_Velocity']\n",
    "    bulgedom_cen_DSage[\"yvel_z{0}\".format(i)] = bulge_gal_cen_DSage[i]['Y_Velocity']\n",
    "    bulgedom_cen_DSage[\"zvel_z{0}\".format(i)] = bulge_gal_cen_DSage[i]['Z_Velocity']\n",
    "    bulgedom_cen_DSage[\"xSDspin_z{0}\".format(i)] = bulge_gal_cen_DSage[i]['X_Spin_of_Stellar_Disk']\n",
    "    bulgedom_cen_DSage[\"ySDspin_z{0}\".format(i)] = bulge_gal_cen_DSage[i]['Y_Spin_of_Stellar_Disk']\n",
    "    bulgedom_cen_DSage[\"zSDspin_z{0}\".format(i)] = bulge_gal_cen_DSage[i]['Z_Spin_of_Stellar_Disk']\n",
    "    bulgedom_cen_DSage[\"xGDspin_z{0}\".format(i)] = bulge_gal_cen_DSage[i]['X_Spin_of_Gas_Disk']\n",
    "    bulgedom_cen_DSage[\"yGDspin_z{0}\".format(i)] = bulge_gal_cen_DSage[i]['Y_Spin_of_Gas_Disk']\n",
    "    bulgedom_cen_DSage[\"zGDspin_z{0}\".format(i)] = bulge_gal_cen_DSage[i]['Z_Spin_of_Gas_Disk']\n",
    "    bulgedom_cen_DSage[\"xhaloJ_z{0}\".format(i)] = bulge_gal_cen_DSage[i]['jX_Halo']\n",
    "    bulgedom_cen_DSage[\"yhaloJ_z{0}\".format(i)] = bulge_gal_cen_DSage[i]['jY_Halo']\n",
    "    bulgedom_cen_DSage[\"zhaloJ_z{0}\".format(i)] = bulge_gal_cen_DSage[i]['jZ_Halo']      \n",
    "    bulgedom_cen_DSage[\"NgalcountsR8_z{0}\".format(i)] = bulge_gal_cen_DSage[i]['Ngal_counts_R8']   \n",
    "    bulgedom_cen_DSage[\"JSD_z{0}\".format(i)] = bulge_gal_cen_DSage[i]['j_Stellar_Disk']\n",
    "    \n",
    "    bulgedom_cen_DSage[\"pos_z{0}\".format(i)] = np.sqrt(bulgedom_cen_DSage['xpos_z{0}'.format(i)]**2 + \n",
    "                                                    bulgedom_cen_DSage['ypos_z{0}'.format(i)]**2 + \n",
    "                                                    bulgedom_cen_DSage['zpos_z{0}'.format(i)]**2)\n",
    "    \n",
    "    bulgedom_cen_DSage[\"vel_z{0}\".format(i)] = np.sqrt(bulgedom_cen_DSage['xvel_z{0}'.format(i)]**2 + \n",
    "                                                    bulgedom_cen_DSage['yvel_z{0}'.format(i)]**2 + \n",
    "                                                    bulgedom_cen_DSage['zvel_z{0}'.format(i)]**2)\n",
    "    \n",
    "    bulgedom_cen_DSage[\"SDspin_z{0}\".format(i)] = np.sqrt(bulgedom_cen_DSage['xSDspin_z{0}'.format(i)]**2 + \n",
    "                                                    bulgedom_cen_DSage['ySDspin_z{0}'.format(i)]**2 + \n",
    "                                                    bulgedom_cen_DSage['zSDspin_z{0}'.format(i)]**2)\n",
    "    \n",
    "    bulgedom_cen_DSage[\"GDspin_z{0}\".format(i)] = np.sqrt(bulgedom_cen_DSage['xGDspin_z{0}'.format(i)]**2 + \n",
    "                                                    bulgedom_cen_DSage['yGDspin_z{0}'.format(i)]**2 + \n",
    "                                                    bulgedom_cen_DSage['zGDspin_z{0}'.format(i)]**2)\n",
    "    \n",
    "    \n",
    "    bulgedom_cen_DSage[\"haloJ_z{0}\".format(i)] = np.sqrt(bulgedom_cen_DSage['xhaloJ_z{0}'.format(i)]**2 + \n",
    "                                                    bulgedom_cen_DSage['yhaloJ_z{0}'.format(i)]**2 + \n",
    "                                                    bulgedom_cen_DSage['zhaloJ_z{0}'.format(i)]**2) \n",
    "  \n",
    "\n",
    "    bulgedom_cen_DSage[\"points_z{0}\".format(i)] = np.array(zip(bulgedom_cen_DSage[\"xpos_z{0}\".format(i)].ravel(),\n",
    "                                                     bulgedom_cen_DSage[\"ypos_z{0}\".format(i)].ravel(),\n",
    "                                                     bulgedom_cen_DSage[\"zpos_z{0}\".format(i)].ravel()))\n",
    "\n",
    "    bulgedom_cen_DSage[\"tree_z{0}\".format(i)] = sp.cKDTree(bulgedom_cen_DSage[\"points_z{0}\".format(i)])\n",
    "\n",
    "    bulgedom_cen_DSage[\"ck_arr_10_z{0}\".format(i)] = bulgedom_cen_DSage[\"tree_z{0}\".format(i)].query_ball_point(bulgedom_cen_DSage[\"points_z{0}\".format(i)], 8)\n",
    "\n",
    "    ii=0\n",
    "    bulgedom_cen_DSage[\"ngal_arr_10_z{0}\".format(i)] = np.array([len(bulgedom_cen_DSage[\"ck_arr_10_z{0}\".format(i)][ii])-1 for ii in range(len(bulgedom_cen_DSage[\"ck_arr_10_z{0}\".format(i)]))]).astype(float)\n",
    "\n",
    "      \n"
   ]
  },
  {
   "cell_type": "code",
   "execution_count": 104,
   "metadata": {
    "collapsed": true
   },
   "outputs": [],
   "source": [
    "diskdom_cen_DSage = {}\n",
    "ii=0\n",
    "disk_gal_cen_DSage = [diskdom_cen_z0DSage, diskdom_cen_z1DSage, diskdom_cen_z2DSage, diskdom_cen_z3DSage]\n",
    "for ii in range(len(disk_gal_cen_DSage)):\n",
    "    diskdom_cen_DSage[\"Mvir_z{0}\".format(ii)] = 1e10*disk_gal_cen_DSage[ii]['Mvir']\n",
    "    diskdom_cen_DSage[\"TSM_z{0}\".format(ii)] = 1e10*disk_gal_cen_DSage[ii]['Total_Stellar_Mass']\n",
    "    diskdom_cen_DSage[\"CGMvir_z{0}\".format(ii)] = 1e10*disk_gal_cen_DSage[ii]['Central_Galaxy_Mvir']\n",
    "    diskdom_cen_DSage[\"bulgepseudo_z{0}\".format(ii)] = 1e10*disk_gal_cen_DSage[ii]['Pseudobulge_Mass']\n",
    "    diskdom_cen_DSage[\"DSM_z{0}\".format(ii)] = 1e10*disk_gal_cen_DSage[ii]['Disk_Stellar_Mass'] \n",
    "    diskdom_cen_DSage[\"ColdGM_z{0}\".format(ii)] = 1e10*disk_gal_cen_DSage[ii]['Cold_Gas_Mass']    \n",
    "    diskdom_cen_DSage[\"HotGM_z{0}\".format(ii)] = 1e10*disk_gal_cen_DSage[ii]['Hot_Gas_Mass']\n",
    "    diskdom_cen_DSage[\"EjectedGM_z{0}\".format(ii)] = 1e10*disk_gal_cen_DSage[ii]['Ejected_Gas_Mass']       \n",
    "    diskdom_cen_DSage[\"Vvir_z{0}\".format(ii)] = disk_gal_cen_DSage[ii]['Vvir']\n",
    "    diskdom_cen_DSage[\"Rvir_z{0}\".format(ii)] = disk_gal_cen_DSage[ii]['Rvir']    \n",
    "    diskdom_cen_DSage[\"xpos_z{0}\".format(ii)] = disk_gal_cen_DSage[ii]['X']\n",
    "    diskdom_cen_DSage[\"ypos_z{0}\".format(ii)] = disk_gal_cen_DSage[ii]['Y']\n",
    "    diskdom_cen_DSage[\"zpos_z{0}\".format(ii)] = disk_gal_cen_DSage[ii]['Z']\n",
    "    diskdom_cen_DSage[\"xvel_z{0}\".format(ii)] = disk_gal_cen_DSage[ii]['X_Velocity']\n",
    "    diskdom_cen_DSage[\"yvel_z{0}\".format(ii)] = disk_gal_cen_DSage[ii]['Y_Velocity']\n",
    "    diskdom_cen_DSage[\"zvel_z{0}\".format(ii)] = disk_gal_cen_DSage[ii]['Z_Velocity']\n",
    "    diskdom_cen_DSage[\"xSDspin_z{0}\".format(ii)] = disk_gal_cen_DSage[ii]['X_Spin_of_Stellar_Disk']\n",
    "    diskdom_cen_DSage[\"ySDspin_z{0}\".format(ii)] = disk_gal_cen_DSage[ii]['Y_Spin_of_Stellar_Disk']\n",
    "    diskdom_cen_DSage[\"zSDspin_z{0}\".format(ii)] = disk_gal_cen_DSage[ii]['Z_Spin_of_Stellar_Disk']\n",
    "    diskdom_cen_DSage[\"xGDspin_z{0}\".format(ii)] = disk_gal_cen_DSage[ii]['X_Spin_of_Gas_Disk']\n",
    "    diskdom_cen_DSage[\"yGDspin_z{0}\".format(ii)] = disk_gal_cen_DSage[ii]['Y_Spin_of_Gas_Disk']\n",
    "    diskdom_cen_DSage[\"zGDspin_z{0}\".format(ii)] = disk_gal_cen_DSage[ii]['Z_Spin_of_Gas_Disk']\n",
    "    diskdom_cen_DSage[\"xhaloJ_z{0}\".format(ii)] = disk_gal_cen_DSage[ii]['jX_Halo']\n",
    "    diskdom_cen_DSage[\"yhaloJ_z{0}\".format(ii)] = disk_gal_cen_DSage[ii]['jY_Halo']\n",
    "    diskdom_cen_DSage[\"zhaloJ_z{0}\".format(ii)] = disk_gal_cen_DSage[ii]['jZ_Halo']  \n",
    "    diskdom_cen_DSage[\"NgalcountsR8_z{0}\".format(ii)] = disk_gal_cen_DSage[ii]['Ngal_counts_R8'] \n",
    "    diskdom_cen_DSage[\"JSD_z{0}\".format(ii)] = disk_gal_cen_DSage[ii]['j_Stellar_Disk']\n",
    " \n",
    "\n",
    "\n",
    "    diskdom_cen_DSage[\"pos_z{0}\".format(ii)] = np.sqrt(diskdom_cen_DSage['xpos_z{0}'.format(ii)]**2 + \n",
    "                                                    diskdom_cen_DSage['ypos_z{0}'.format(ii)]**2 + \n",
    "                                                    diskdom_cen_DSage['zpos_z{0}'.format(ii)]**2)\n",
    "    \n",
    "    diskdom_cen_DSage[\"vel_z{0}\".format(ii)] = np.sqrt(diskdom_cen_DSage['xvel_z{0}'.format(ii)]**2 + \n",
    "                                                    diskdom_cen_DSage['yvel_z{0}'.format(ii)]**2 + \n",
    "                                                    diskdom_cen_DSage['zvel_z{0}'.format(ii)]**2)\n",
    "\n",
    "    \n",
    "    diskdom_cen_DSage[\"SDspin_z{0}\".format(ii)] = np.sqrt(diskdom_cen_DSage['xSDspin_z{0}'.format(ii)]**2 + \n",
    "                                                    diskdom_cen_DSage['ySDspin_z{0}'.format(ii)]**2 + \n",
    "                                                    diskdom_cen_DSage['zSDspin_z{0}'.format(ii)]**2)\n",
    "    \n",
    "    diskdom_cen_DSage[\"GDspin_z{0}\".format(ii)] = np.sqrt(diskdom_cen_DSage['xGDspin_z{0}'.format(ii)]**2 + \n",
    "                                                    diskdom_cen_DSage['yGDspin_z{0}'.format(ii)]**2 + \n",
    "                                                    diskdom_cen_DSage['zGDspin_z{0}'.format(ii)]**2)\n",
    "    \n",
    "    \n",
    "    diskdom_cen_DSage[\"haloJ_z{0}\".format(ii)] = np.sqrt(diskdom_cen_DSage['xhaloJ_z{0}'.format(ii)]**2 + \n",
    "                                                    diskdom_cen_DSage['yhaloJ_z{0}'.format(ii)]**2 + \n",
    "                                                    diskdom_cen_DSage['zhaloJ_z{0}'.format(ii)]**2)   \n",
    "    \n",
    "    diskdom_cen_DSage[\"points_z{0}\".format(ii)] = np.array(zip(diskdom_cen_DSage[\"xpos_z{0}\".format(ii)].ravel(),\n",
    "                                                     diskdom_cen_DSage[\"ypos_z{0}\".format(ii)].ravel(),\n",
    "                                                     diskdom_cen_DSage[\"zpos_z{0}\".format(ii)].ravel()))\n",
    "    \n",
    "    diskdom_cen_DSage[\"tree_z{0}\".format(ii)] = sp.cKDTree(diskdom_cen_DSage[\"points_z{0}\".format(ii)])\n",
    "\n",
    "    diskdom_cen_DSage[\"ck_arr_10_z{0}\".format(ii)] = diskdom_cen_DSage[\"tree_z{0}\".format(ii)].query_ball_point(diskdom_cen_DSage[\"points_z{0}\".format(ii)], 8)\n",
    "\n",
    "    iii=0\n",
    "    diskdom_cen_DSage[\"ngal_arr_10_z{0}\".format(ii)] = np.array([len(diskdom_cen_DSage[\"ck_arr_10_z{0}\".format(ii)][iii])-1 for iii in range(len(diskdom_cen_DSage[\"ck_arr_10_z{0}\".format(ii)]))]).astype(float)\n",
    "\n",
    "   \n",
    "    \n",
    "    \n",
    "    \n",
    "    "
   ]
  },
  {
   "cell_type": "code",
   "execution_count": 105,
   "metadata": {
    "collapsed": true
   },
   "outputs": [],
   "source": [
    "i = 0\n",
    "j = 0\n",
    "for i in range(len(bulge_gal_cen_DSage)):     \n",
    "    bulgedom_cen_DSage[\"slambda_z{0}\".format(i)] = bulgedom_cen_DSage[\"JSD_z{0}\".format(i)]/(np.sqrt(2)*bulgedom_cen_DSage[\"Vvir_z{0}\".format(i)]*\n",
    "                                                                bulgedom_cen_DSage[\"Rvir_z{0}\".format(i)])\n",
    "\n",
    "\n",
    "n1 = 0\n",
    "n2 = 0\n",
    "for n1 in range(len(disk_gal_cen_DSage)):\n",
    "    diskdom_cen_DSage[\"slambda_z{0}\".format(n1)] = diskdom_cen_DSage[\"JSD_z{0}\".format(n1)]/(np.sqrt(2)*diskdom_cen_DSage[\"Vvir_z{0}\".format(n1)]*\n",
    "                                                                diskdom_cen_DSage[\"Rvir_z{0}\".format(n1)])\n",
    "\n"
   ]
  },
  {
   "cell_type": "code",
   "execution_count": 106,
   "metadata": {
    "collapsed": true
   },
   "outputs": [],
   "source": [
    "########DSAGE#########    make a function that does the binning mean and std of the mean\n",
    "failval = np.nan\n",
    "# failval = -999\n",
    "mean_func = np.nanmean\n",
    "std_func = np.nanstd\n",
    "Mvir_bins = np.linspace(0, 50, 12)\n",
    "\n",
    "def meanbin(a, b):\n",
    "    idx_Mvir = np.digitize(a, Mvir_bins)\n",
    "    mean_a = np.array([ mean_func(a[idx_Mvir==ii]) if len(a[idx_Mvir==ii]) > 0 else failval for ii in range(1, len(Mvir_bins))])\n",
    "    mean_b = np.array([ mean_func(b[idx_Mvir==ii]) if len(a[idx_Mvir==ii]) > 0 else failval for ii in range(1, len(Mvir_bins))])\n",
    "    return mean_a, mean_b\n",
    "\n",
    "\n",
    "\n",
    "def stdbin(a, b):\n",
    "    idx_Mvir = np.digitize(a, Mvir_bins)\n",
    "    std_a = np.array([ std_func(a[idx_Mvir==ii]) if len(a[idx_Mvir==ii]) > 0 else failval for ii in range(1, len(Mvir_bins))])\n",
    "    std_b = np.array([ std_func(b[idx_Mvir==ii])/np.sqrt(len(b[idx_Mvir==ii])) if len(a[idx_Mvir==ii]) > 0 else failval for ii in range(1, len(Mvir_bins))])\n",
    "    #std_meanb = np.array(std_b/np.sqrt(len(b[idx_Mvir==k])) for k in range(1, len(Mvir_bins)))\n",
    "    return std_a, std_b"
   ]
  },
  {
   "cell_type": "code",
   "execution_count": 107,
   "metadata": {
    "collapsed": false
   },
   "outputs": [],
   "source": [
    "n1 = 0\n",
    "n2 = 0\n",
    "m1 = 0\n",
    "m2 = 0\n",
    "\n",
    "for n1 in range(len(bulge_gal_cen_DSage)):\n",
    "    bulgedom_cen_DSage['slambda_Ngalcounts_meanbin_z{0}'.format(n1)] = meanbin(bulgedom_cen_DSage['slambda_z{0}'.format(n1)], bulgedom_cen_DSage['NgalcountsR8_z{0}'.format(n1)])\n",
    "    bulgedom_cen_DSage['slambda_Ngalcounts_stdbin_z{0}'.format(n1)] = stdbin(bulgedom_cen_DSage['slambda_z{0}'.format(n1)], bulgedom_cen_DSage['NgalcountsR8_z{0}'.format(n1)])\n",
    "        \n",
    "\n",
    "        \n",
    "\n",
    "for m1 in range(len(disk_gal_cen_DSage)):\n",
    "    diskdom_cen_DSage['slambda_Ngalcounts_meanbin_z{0}'.format(m1)] = meanbin(diskdom_cen_DSage['slambda_z{0}'.format(m1)], diskdom_cen_DSage['NgalcountsR8_z{0}'.format(m1)])\n",
    "    diskdom_cen_DSage['slambda_Ngalcounts_stdbin_z{0}'.format(m1)] = stdbin(diskdom_cen_DSage['slambda_z{0}'.format(m1)], diskdom_cen_DSage['NgalcountsR8_z{0}'.format(m1)])\n"
   ]
  },
  {
   "cell_type": "code",
   "execution_count": 108,
   "metadata": {
    "collapsed": false
   },
   "outputs": [
    {
     "data": {
      "text/plain": [
       "<matplotlib.figure.Figure at 0x7f9988c14dd0>"
      ]
     },
     "metadata": {},
     "output_type": "display_data"
    },
    {
     "data": {
      "image/png": "[encoded data removed]",
      "text/plain": [
       "<matplotlib.figure.Figure at 0x7f99f9a90490>"
      ]
     },
     "metadata": {},
     "output_type": "display_data"
    }
   ],
   "source": [
    "plt.figure(figsize=(10, 8))\n",
    "fig = plt.figure(facecolor='white')\n",
    "\n",
    "plt.subplot(221)\n",
    "plt.errorbar(bulgedom_cen_DSage['slambda_Ngalcounts_meanbin_z0'][0],\n",
    "             bulgedom_cen_DSage['slambda_Ngalcounts_meanbin_z0'][1],\n",
    "            yerr=bulgedom_cen_DSage['slambda_Ngalcounts_stdbin_z0'][1],\n",
    "            marker='o', color='r', label='Bulge 10-11')\n",
    "\n",
    "plt.errorbar(diskdom_cen_DSage['slambda_Ngalcounts_meanbin_z0'][0],\n",
    "             diskdom_cen_DSage['slambda_Ngalcounts_meanbin_z0'][1],\n",
    "            yerr=diskdom_cen_DSage['slambda_Ngalcounts_stdbin_z0'][1],\n",
    "            marker='o', color='b', label='Disk 10-11')\n",
    "\n",
    "plt.title('Stellar Mass bins at z=0')\n",
    "#plt.xlim(0, 1)\n",
    "#plt.ylim(-1, 21)\n",
    "plt.xlabel('slambda',  fontsize=10)\n",
    "plt.ylabel('Ngal Counts for R=8Mpc/h',  fontsize=10)\n",
    "#plt.title('Central Galaxies Mvir vs. Stellar Mass ')\n",
    "plt.legend(loc=3, numpoints=1)\n",
    "#plt.axis([1e11, 1e15, 1e9, 1e12])\n",
    "\n",
    "plt.subplot(222)\n",
    "plt.errorbar(bulgedom_cen_DSage['slambda_Ngalcounts_meanbin_z0'][0],\n",
    "             bulgedom_cen_DSage['slambda_Ngalcounts_meanbin_z0'][1],\n",
    "            yerr=bulgedom_cen_DSage['slambda_Ngalcounts_stdbin_z0'][1],\n",
    "            marker='o', color='r', label='Bulge 11-12')\n",
    "\n",
    "plt.errorbar(diskdom_cen_DSage['slambda_Ngalcounts_meanbin_z0'][0],\n",
    "             diskdom_cen_DSage['slambda_Ngalcounts_meanbin_z0'][1],\n",
    "            yerr=diskdom_cen_DSage['slambda_Ngalcounts_stdbin_z0'][1],\n",
    "            marker='o', color='b', label='Disk 11-12')\n",
    "\n",
    "\n",
    "#plt.xlim(0, 1)\n",
    "#plt.ylim(-1, 21)\n",
    "plt.xlabel('slambda',  fontsize=10)\n",
    "plt.ylabel('Ngal Counts for R=8Mpc/h',  fontsize=10)\n",
    "#plt.title('Central Galaxies Mvir vs. Stellar Mass ')\n",
    "plt.legend(loc=3, numpoints=1)\n",
    "#plt.axis([1e11, 1e15, 1e9, 1e12])\n",
    "\n",
    "\n",
    "plt.subplots_adjust(top=0.92, bottom=0.001, left=0.10, right=0.95, hspace=0.6,\n",
    "                    wspace=0.35)\n",
    "plt.style.use('seaborn-notebook')\n",
    "\n",
    "plt.tight_layout()\n",
    "#plt.savefig('morphdensity_Centrals_stellarSpin_lambdavsRvir_SMbin10-12_DSAGE_z0.png', dpi=100)\n",
    "\n",
    "plt.show()"
   ]
  },
  {
   "cell_type": "code",
   "execution_count": null,
   "metadata": {
    "collapsed": true
   },
   "outputs": [],
   "source": []
  },
  {
   "cell_type": "markdown",
   "metadata": {},
   "source": [
    "# Binning Stellar Mass"
   ]
  },
  {
   "cell_type": "code",
   "execution_count": 109,
   "metadata": {
    "collapsed": true
   },
   "outputs": [],
   "source": [
    "##################################### BULGE MASS #################################\n",
    "bulgemassbin_cen_DSage = {}\n",
    "i=0\n",
    "    \n",
    "for i in range(len(bulge_gal_cen_DSage)):\n",
    "    bulgemassbin_cen_DSage[\"bulge_idx_z{0}_SM7_8\".format(i)] = np.where(np.logical_and(bulgedom_cen_DSage[\"TSM_z{0}\".format(i)] >= 1e7, \n",
    "                                                                                     bulgedom_cen_DSage[\"TSM_z{0}\".format(i)] <= 1e8))[0]\n",
    "    \n",
    "    bulgemassbin_cen_DSage[\"bulge_idx_z{0}_SM8_9\".format(i)] = np.where(np.logical_and(bulgedom_cen_DSage[\"TSM_z{0}\".format(i)] > 1e8, \n",
    "                                                                                     bulgedom_cen_DSage[\"TSM_z{0}\".format(i)] <= 1e9))[0]\n",
    "    \n",
    "    bulgemassbin_cen_DSage[\"bulge_idx_z{0}_SM9_10\".format(i)] = np.where(np.logical_and(bulgedom_cen_DSage[\"TSM_z{0}\".format(i)] > 1e9, \n",
    "                                                                                     bulgedom_cen_DSage[\"TSM_z{0}\".format(i)] <= 1e10))[0]\n",
    "    \n",
    "    bulgemassbin_cen_DSage[\"bulge_idx_z{0}_SM10_11\".format(i)] = np.where(np.logical_and(bulgedom_cen_DSage[\"TSM_z{0}\".format(i)] > 1e10, \n",
    "                                                                                     bulgedom_cen_DSage[\"TSM_z{0}\".format(i)] <= 1e11))[0] \n",
    "   \n",
    "    bulgemassbin_cen_DSage[\"bulge_idx_z{0}_SM11_12\".format(i)] = np.where(np.logical_and(bulgedom_cen_DSage[\"TSM_z{0}\".format(i)] > 1e11, \n",
    "                                                                                     bulgedom_cen_DSage[\"TSM_z{0}\".format(i)] <= 1e12))[0]\n",
    "\n",
    "    \n",
    "    bulgemassbin_cen_DSage[\"bulgedom_z{0}_SM7_8\".format(i)] = bulge_gal_cen_DSage[i][bulgemassbin_cen_DSage[\"bulge_idx_z{0}_SM7_8\".format(i)]]\n",
    "    bulgemassbin_cen_DSage[\"bulgedom_z{0}_SM8_9\".format(i)] = bulge_gal_cen_DSage[i][bulgemassbin_cen_DSage[\"bulge_idx_z{0}_SM8_9\".format(i)]]\n",
    "    bulgemassbin_cen_DSage[\"bulgedom_z{0}_SM9_10\".format(i)] = bulge_gal_cen_DSage[i][bulgemassbin_cen_DSage[\"bulge_idx_z{0}_SM9_10\".format(i)]]\n",
    "    bulgemassbin_cen_DSage[\"bulgedom_z{0}_SM10_11\".format(i)] = bulge_gal_cen_DSage[i][bulgemassbin_cen_DSage[\"bulge_idx_z{0}_SM10_11\".format(i)]]  \n",
    "    bulgemassbin_cen_DSage[\"bulgedom_z{0}_SM11_12\".format(i)] = bulge_gal_cen_DSage[i][bulgemassbin_cen_DSage[\"bulge_idx_z{0}_SM11_12\".format(i)]]\n"
   ]
  },
  {
   "cell_type": "code",
   "execution_count": 110,
   "metadata": {
    "collapsed": true
   },
   "outputs": [],
   "source": [
    "################################################ DISK MASS ####################################################\n",
    "diskmassbin_cen_DSage = {}\n",
    "i=0\n",
    "    \n",
    "for i in range(len(disk_gal_cen_DSage)):\n",
    "    diskmassbin_cen_DSage[\"disk_idx_z{0}_SM7_8\".format(i)] = np.where(np.logical_and(diskdom_cen_DSage[\"TSM_z{0}\".format(i)] >= 1e7, \n",
    "                                                                                     diskdom_cen_DSage[\"TSM_z{0}\".format(i)] <= 1e8))[0]\n",
    "    \n",
    "    diskmassbin_cen_DSage[\"disk_idx_z{0}_SM8_9\".format(i)] = np.where(np.logical_and(diskdom_cen_DSage[\"TSM_z{0}\".format(i)] > 1e8, \n",
    "                                                                                     diskdom_cen_DSage[\"TSM_z{0}\".format(i)] <= 1e9))[0]\n",
    "    \n",
    "    diskmassbin_cen_DSage[\"disk_idx_z{0}_SM9_10\".format(i)] = np.where(np.logical_and(diskdom_cen_DSage[\"TSM_z{0}\".format(i)] > 1e9, \n",
    "                                                                                     diskdom_cen_DSage[\"TSM_z{0}\".format(i)] <= 1e10))[0]\n",
    "    \n",
    "    diskmassbin_cen_DSage[\"disk_idx_z{0}_SM10_11\".format(i)] = np.where(np.logical_and(diskdom_cen_DSage[\"TSM_z{0}\".format(i)] > 1e10, \n",
    "                                                                                     diskdom_cen_DSage[\"TSM_z{0}\".format(i)] <= 1e11))[0]\n",
    "                                                                                   \n",
    "    \n",
    "    diskmassbin_cen_DSage[\"disk_idx_z{0}_SM11_12\".format(i)] = np.where(np.logical_and(diskdom_cen_DSage[\"TSM_z{0}\".format(i)] > 1e11, \n",
    "                                                                                     diskdom_cen_DSage[\"TSM_z{0}\".format(i)] <= 1e12))[0]\n",
    "\n",
    "    \n",
    "    diskmassbin_cen_DSage[\"diskdom_z{0}_SM7_8\".format(i)] = disk_gal_cen_DSage[i][diskmassbin_cen_DSage[\"disk_idx_z{0}_SM7_8\".format(i)]]\n",
    "    diskmassbin_cen_DSage[\"diskdom_z{0}_SM8_9\".format(i)] = disk_gal_cen_DSage[i][diskmassbin_cen_DSage[\"disk_idx_z{0}_SM8_9\".format(i)]]\n",
    "    diskmassbin_cen_DSage[\"diskdom_z{0}_SM9_10\".format(i)] = disk_gal_cen_DSage[i][diskmassbin_cen_DSage[\"disk_idx_z{0}_SM9_10\".format(i)]]\n",
    "    diskmassbin_cen_DSage[\"diskdom_z{0}_SM10_11\".format(i)] = disk_gal_cen_DSage[i][diskmassbin_cen_DSage[\"disk_idx_z{0}_SM10_11\".format(i)]] \n",
    "    diskmassbin_cen_DSage[\"diskdom_z{0}_SM11_12\".format(i)] = disk_gal_cen_DSage[i][diskmassbin_cen_DSage[\"disk_idx_z{0}_SM11_12\".format(i)]]\n",
    "\n",
    "\n",
    "\n"
   ]
  },
  {
   "cell_type": "code",
   "execution_count": 111,
   "metadata": {
    "collapsed": false
   },
   "outputs": [],
   "source": [
    "#bulge_gal_cen_DSage = [bulgedom_cen_z0DSage, bulgedom_cen_z1DSage, bulgedom_cen_z2DSage, bulgedom_cen_z3DSage]\n",
    "i = 0\n",
    "j = 0\n",
    "for i in range(len(bulge_gal_cen_DSage)):\n",
    "    for j in range(5):\n",
    "        j = j+ 7\n",
    "        bulgedom_cen_DSage[\"Mvir_z{0}_SM{1}_{2}\".format(i,j,j+1)] = 1e10*bulgemassbin_cen_DSage['bulgedom_z{0}_SM{1}_{2}'.format(i,j,j+1)]['Mvir']\n",
    "        bulgedom_cen_DSage[\"TSM_z{0}_SM{1}_{2}\".format(i,j,j+1)] = 1e10*bulgemassbin_cen_DSage['bulgedom_z{0}_SM{1}_{2}'.format(i,j,j+1)]['Total_Stellar_Mass']\n",
    "        bulgedom_cen_DSage[\"CGMvir_z{0}_SM{1}_{2}\".format(i,j,j+1)] = 1e10*bulgemassbin_cen_DSage['bulgedom_z{0}_SM{1}_{2}'.format(i,j,j+1)]['Central_Galaxy_Mvir']\n",
    "        bulgedom_cen_DSage[\"bulgepseudo_z{0}_SM{1}_{2}\".format(i,j,j+1)] = 1e10*bulgemassbin_cen_DSage['bulgedom_z{0}_SM{1}_{2}'.format(i,j,j+1)]['Pseudobulge_Mass']\n",
    "        bulgedom_cen_DSage[\"DSM_z{0}_SM{1}_{2}\".format(i,j,j+1)] = 1e10*bulgemassbin_cen_DSage['bulgedom_z{0}_SM{1}_{2}'.format(i,j,j+1)]['Disk_Stellar_Mass']            \n",
    "        bulgedom_cen_DSage[\"Vvir_z{0}_SM{1}_{2}\".format(i,j,j+1)] = bulgemassbin_cen_DSage['bulgedom_z{0}_SM{1}_{2}'.format(i,j,j+1)]['Vvir']\n",
    "        bulgedom_cen_DSage[\"Rvir_z{0}_SM{1}_{2}\".format(i,j,j+1)] = bulgemassbin_cen_DSage['bulgedom_z{0}_SM{1}_{2}'.format(i,j,j+1)]['Rvir']\n",
    "        bulgedom_cen_DSage[\"xpos_z{0}_SM{1}_{2}\".format(i,j,j+1)] = bulgemassbin_cen_DSage['bulgedom_z{0}_SM{1}_{2}'.format(i,j,j+1)]['X']\n",
    "        bulgedom_cen_DSage[\"ypos_z{0}_SM{1}_{2}\".format(i,j,j+1)] = bulgemassbin_cen_DSage['bulgedom_z{0}_SM{1}_{2}'.format(i,j,j+1)]['Y']\n",
    "        bulgedom_cen_DSage[\"zpos_z{0}_SM{1}_{2}\".format(i,j,j+1)] = bulgemassbin_cen_DSage['bulgedom_z{0}_SM{1}_{2}'.format(i,j,j+1)]['Z']\n",
    "        bulgedom_cen_DSage[\"xvel_z{0}_SM{1}_{2}\".format(i,j,j+1)] = bulgemassbin_cen_DSage['bulgedom_z{0}_SM{1}_{2}'.format(i,j,j+1)]['X_Velocity']\n",
    "        bulgedom_cen_DSage[\"yvel_z{0}_SM{1}_{2}\".format(i,j,j+1)] = bulgemassbin_cen_DSage['bulgedom_z{0}_SM{1}_{2}'.format(i,j,j+1)]['Y_Velocity']\n",
    "        bulgedom_cen_DSage[\"zvel_z{0}_SM{1}_{2}\".format(i,j,j+1)] = bulgemassbin_cen_DSage['bulgedom_z{0}_SM{1}_{2}'.format(i,j,j+1)]['Z_Velocity']\n",
    "        bulgedom_cen_DSage[\"xSDspin_z{0}_SM{1}_{2}\".format(i,j,j+1)] = bulgemassbin_cen_DSage['bulgedom_z{0}_SM{1}_{2}'.format(i,j,j+1)]['X_Spin_of_Stellar_Disk']\n",
    "        bulgedom_cen_DSage[\"ySDspin_z{0}_SM{1}_{2}\".format(i,j,j+1)] = bulgemassbin_cen_DSage['bulgedom_z{0}_SM{1}_{2}'.format(i,j,j+1)]['Y_Spin_of_Stellar_Disk']\n",
    "        bulgedom_cen_DSage[\"zSDspin_z{0}_SM{1}_{2}\".format(i,j,j+1)] = bulgemassbin_cen_DSage['bulgedom_z{0}_SM{1}_{2}'.format(i,j,j+1)]['Z_Spin_of_Stellar_Disk']\n",
    "        bulgedom_cen_DSage[\"xGDspin_z{0}_SM{1}_{2}\".format(i,j,j+1)] = bulgemassbin_cen_DSage['bulgedom_z{0}_SM{1}_{2}'.format(i,j,j+1)]['X_Spin_of_Gas_Disk']\n",
    "        bulgedom_cen_DSage[\"yGDspin_z{0}_SM{1}_{2}\".format(i,j,j+1)] = bulgemassbin_cen_DSage['bulgedom_z{0}_SM{1}_{2}'.format(i,j,j+1)]['Y_Spin_of_Gas_Disk']\n",
    "        bulgedom_cen_DSage[\"zGDspin_z{0}_SM{1}_{2}\".format(i,j,j+1)] = bulgemassbin_cen_DSage['bulgedom_z{0}_SM{1}_{2}'.format(i,j,j+1)]['Z_Spin_of_Gas_Disk']\n",
    "        bulgedom_cen_DSage[\"xhaloJ_z{0}_SM{1}_{2}\".format(i,j,j+1)] = bulgemassbin_cen_DSage['bulgedom_z{0}_SM{1}_{2}'.format(i,j,j+1)]['jX_Halo']\n",
    "        bulgedom_cen_DSage[\"yhaloJ_z{0}_SM{1}_{2}\".format(i,j,j+1)] = bulgemassbin_cen_DSage['bulgedom_z{0}_SM{1}_{2}'.format(i,j,j+1)]['jY_Halo']\n",
    "        bulgedom_cen_DSage[\"zhaloJ_z{0}_SM{1}_{2}\".format(i,j,j+1)] = bulgemassbin_cen_DSage['bulgedom_z{0}_SM{1}_{2}'.format(i,j,j+1)]['jZ_Halo']      \n",
    "        bulgedom_cen_DSage[\"NgalcountsR8_z{0}_SM{1}_{2}\".format(i,j,j+1)] = bulgemassbin_cen_DSage['bulgedom_z{0}_SM{1}_{2}'.format(i,j,j+1)]['Ngal_counts_R8']\n",
    "        bulgedom_cen_DSage[\"totparicles_z{0}_SM{1}_{2}\".format(i,j,j+1)] = bulgemassbin_cen_DSage['bulgedom_z{0}_SM{1}_{2}'.format(i,j,j+1)]['Total_Particles']\n",
    "    \n",
    "        bulgedom_cen_DSage[\"JSD_z{0}_SM{1}_{2}\".format(i,j,j+1)] = bulgemassbin_cen_DSage['bulgedom_z{0}_SM{1}_{2}'.format(i,j,j+1)]['j_Stellar_Disk']        \n",
    "        \n",
    "        \n",
    "        bulgedom_cen_DSage[\"pos_z{0}_SM{1}_{2}\".format(i,j,j+1)] = np.sqrt(bulgedom_cen_DSage['xpos_z{0}_SM{1}_{2}'.format(i,j,j+1)]**2 + \n",
    "                                                    bulgedom_cen_DSage['ypos_z{0}_SM{1}_{2}'.format(i,j,j+1)]**2 + \n",
    "                                                    bulgedom_cen_DSage['zpos_z{0}_SM{1}_{2}'.format(i,j,j+1)]**2)\n",
    "    \n",
    "        bulgedom_cen_DSage[\"vel_z{0}_SM{1}_{2}\".format(i,j,j+1)] = np.sqrt(bulgedom_cen_DSage['xvel_z{0}_SM{1}_{2}'.format(i,j,j+1)]**2 + \n",
    "                                                    bulgedom_cen_DSage['yvel_z{0}_SM{1}_{2}'.format(i,j,j+1)]**2 + \n",
    "                                                    bulgedom_cen_DSage['zvel_z{0}_SM{1}_{2}'.format(i,j,j+1)]**2)\n",
    "    \n",
    "        bulgedom_cen_DSage[\"SDspin_z{0}_SM{1}_{2}\".format(i,j,j+1)] = np.sqrt(bulgedom_cen_DSage['xSDspin_z{0}_SM{1}_{2}'.format(i,j,j+1)]**2 + \n",
    "                                                    bulgedom_cen_DSage['ySDspin_z{0}_SM{1}_{2}'.format(i,j,j+1)]**2 + \n",
    "                                                    bulgedom_cen_DSage['zSDspin_z{0}_SM{1}_{2}'.format(i,j,j+1)]**2)\n",
    "    \n",
    "        bulgedom_cen_DSage[\"GDspin_z{0}_SM{1}_{2}\".format(i,j,j+1)] = np.sqrt(bulgedom_cen_DSage['xGDspin_z{0}_SM{1}_{2}'.format(i,j,j+1)]**2 + \n",
    "                                                    bulgedom_cen_DSage['yGDspin_z{0}_SM{1}_{2}'.format(i,j,j+1)]**2 + \n",
    "                                                    bulgedom_cen_DSage['zGDspin_z{0}_SM{1}_{2}'.format(i,j,j+1)]**2)\n",
    "    \n",
    "        bulgedom_cen_DSage[\"haloJ_z{0}_SM{1}_{2}\".format(i,j,j+1)] = np.sqrt(bulgedom_cen_DSage['xhaloJ_z{0}_SM{1}_{2}'.format(i,j,j+1)]**2 + \n",
    "                                                    bulgedom_cen_DSage['yhaloJ_z{0}_SM{1}_{2}'.format(i,j,j+1)]**2 + \n",
    "                                                    bulgedom_cen_DSage['zhaloJ_z{0}_SM{1}_{2}'.format(i,j,j+1)]**2) \n",
    "    \n"
   ]
  },
  {
   "cell_type": "code",
   "execution_count": 112,
   "metadata": {
    "collapsed": true
   },
   "outputs": [],
   "source": [
    "#disk_gal_cen_DSage = [diskdom_cen_z0DSage, diskdom_cen_z1DSage, diskdom_cen_z2DSage, diskdom_cen_z3DSage]\n",
    "i=0\n",
    "j=0\n",
    "for i in range(len(disk_gal_cen_DSage)):\n",
    "    for j in range(5):\n",
    "        j = j + 7\n",
    "        diskdom_cen_DSage[\"Mvir_z{0}_SM{1}_{2}\".format(i,j,j+1)] = 1e10*diskmassbin_cen_DSage['diskdom_z{0}_SM{1}_{2}'.format(i,j,j+1)]['Mvir']\n",
    "        diskdom_cen_DSage[\"TSM_z{0}_SM{1}_{2}\".format(i,j,j+1)] = 1e10*diskmassbin_cen_DSage['diskdom_z{0}_SM{1}_{2}'.format(i,j,j+1)]['Total_Stellar_Mass']\n",
    "        diskdom_cen_DSage[\"CGMvir_z{0}_SM{1}_{2}\".format(i,j,j+1)] = 1e10*diskmassbin_cen_DSage['diskdom_z{0}_SM{1}_{2}'.format(i,j,j+1)]['Central_Galaxy_Mvir']\n",
    "        diskdom_cen_DSage[\"bulgepseudo_z{0}_SM{1}_{2}\".format(i,j,j+1)] = 1e10*diskmassbin_cen_DSage['diskdom_z{0}_SM{1}_{2}'.format(i,j,j+1)]['Pseudobulge_Mass']\n",
    "        diskdom_cen_DSage[\"DSM_z{0}_SM{1}_{2}\".format(i,j,j+1)] = 1e10*diskmassbin_cen_DSage['diskdom_z{0}_SM{1}_{2}'.format(i,j,j+1)]['Disk_Stellar_Mass']                    \n",
    "        diskdom_cen_DSage[\"Vvir_z{0}_SM{1}_{2}\".format(i,j,j+1)] = diskmassbin_cen_DSage['diskdom_z{0}_SM{1}_{2}'.format(i,j,j+1)]['Vvir']\n",
    "        diskdom_cen_DSage[\"Rvir_z{0}_SM{1}_{2}\".format(i,j,j+1)] = diskmassbin_cen_DSage['diskdom_z{0}_SM{1}_{2}'.format(i,j,j+1)]['Rvir']            \n",
    "        diskdom_cen_DSage[\"xpos_z{0}_SM{1}_{2}\".format(i,j,j+1)] = diskmassbin_cen_DSage['diskdom_z{0}_SM{1}_{2}'.format(i,j,j+1)]['X']\n",
    "        diskdom_cen_DSage[\"ypos_z{0}_SM{1}_{2}\".format(i,j,j+1)] = diskmassbin_cen_DSage['diskdom_z{0}_SM{1}_{2}'.format(i,j,j+1)]['Y']\n",
    "        diskdom_cen_DSage[\"zpos_z{0}_SM{1}_{2}\".format(i,j,j+1)] = diskmassbin_cen_DSage['diskdom_z{0}_SM{1}_{2}'.format(i,j,j+1)]['Z']\n",
    "        diskdom_cen_DSage[\"xvel_z{0}_SM{1}_{2}\".format(i,j,j+1)] = diskmassbin_cen_DSage['diskdom_z{0}_SM{1}_{2}'.format(i,j,j+1)]['X_Velocity']\n",
    "        diskdom_cen_DSage[\"yvel_z{0}_SM{1}_{2}\".format(i,j,j+1)] = diskmassbin_cen_DSage['diskdom_z{0}_SM{1}_{2}'.format(i,j,j+1)]['Y_Velocity']\n",
    "        diskdom_cen_DSage[\"zvel_z{0}_SM{1}_{2}\".format(i,j,j+1)] = diskmassbin_cen_DSage['diskdom_z{0}_SM{1}_{2}'.format(i,j,j+1)]['Z_Velocity']\n",
    "        diskdom_cen_DSage[\"xSDspin_z{0}_SM{1}_{2}\".format(i,j,j+1)] = diskmassbin_cen_DSage['diskdom_z{0}_SM{1}_{2}'.format(i,j,j+1)]['X_Spin_of_Stellar_Disk']\n",
    "        diskdom_cen_DSage[\"ySDspin_z{0}_SM{1}_{2}\".format(i,j,j+1)] = diskmassbin_cen_DSage['diskdom_z{0}_SM{1}_{2}'.format(i,j,j+1)]['Y_Spin_of_Stellar_Disk']\n",
    "        diskdom_cen_DSage[\"zSDspin_z{0}_SM{1}_{2}\".format(i,j,j+1)] = diskmassbin_cen_DSage['diskdom_z{0}_SM{1}_{2}'.format(i,j,j+1)]['Z_Spin_of_Stellar_Disk']\n",
    "        diskdom_cen_DSage[\"xGDspin_z{0}_SM{1}_{2}\".format(i,j,j+1)] = diskmassbin_cen_DSage['diskdom_z{0}_SM{1}_{2}'.format(i,j,j+1)]['X_Spin_of_Gas_Disk']\n",
    "        diskdom_cen_DSage[\"yGDspin_z{0}_SM{1}_{2}\".format(i,j,j+1)] = diskmassbin_cen_DSage['diskdom_z{0}_SM{1}_{2}'.format(i,j,j+1)]['Y_Spin_of_Gas_Disk']\n",
    "        diskdom_cen_DSage[\"zGDspin_z{0}_SM{1}_{2}\".format(i,j,j+1)] = diskmassbin_cen_DSage['diskdom_z{0}_SM{1}_{2}'.format(i,j,j+1)]['Z_Spin_of_Gas_Disk']\n",
    "        diskdom_cen_DSage[\"xhaloJ_z{0}_SM{1}_{2}\".format(i,j,j+1)] = diskmassbin_cen_DSage['diskdom_z{0}_SM{1}_{2}'.format(i,j,j+1)]['jX_Halo']\n",
    "        diskdom_cen_DSage[\"yhaloJ_z{0}_SM{1}_{2}\".format(i,j,j+1)] = diskmassbin_cen_DSage['diskdom_z{0}_SM{1}_{2}'.format(i,j,j+1)]['jY_Halo']\n",
    "        diskdom_cen_DSage[\"zhaloJ_z{0}_SM{1}_{2}\".format(i,j,j+1)] = diskmassbin_cen_DSage['diskdom_z{0}_SM{1}_{2}'.format(i,j,j+1)]['jZ_Halo']      \n",
    "        diskdom_cen_DSage[\"NgalcountsR8_z{0}_SM{1}_{2}\".format(i,j,j+1)] = diskmassbin_cen_DSage['diskdom_z{0}_SM{1}_{2}'.format(i,j,j+1)]['Ngal_counts_R8']    \n",
    "        diskdom_cen_DSage[\"totparicles_z{0}_SM{1}_{2}\".format(i,j,j+1)] = diskmassbin_cen_DSage['diskdom_z{0}_SM{1}_{2}'.format(i,j,j+1)]['Total_Particles']    \n",
    "        diskdom_cen_DSage[\"JSD_z{0}_SM{1}_{2}\".format(i,j,j+1)] = diskmassbin_cen_DSage['diskdom_z{0}_SM{1}_{2}'.format(i,j,j+1)]['j_Stellar_Disk']        \n",
    "        \n",
    "        \n",
    "        \n",
    "        diskdom_cen_DSage[\"pos_z{0}_SM{1}_{2}\".format(i,j,j+1)] = np.sqrt(diskdom_cen_DSage['xpos_z{0}_SM{1}_{2}'.format(i,j,j+1)]**2 + \n",
    "                                                    diskdom_cen_DSage['ypos_z{0}_SM{1}_{2}'.format(i,j,j+1)]**2 + \n",
    "                                                    diskdom_cen_DSage['zpos_z{0}_SM{1}_{2}'.format(i,j,j+1)]**2)\n",
    "    \n",
    "        diskdom_cen_DSage[\"vel_z{0}_SM{1}_{2}\".format(i,j,j+1)] = np.sqrt(diskdom_cen_DSage['xvel_z{0}_SM{1}_{2}'.format(i,j,j+1)]**2 + \n",
    "                                                    diskdom_cen_DSage['yvel_z{0}_SM{1}_{2}'.format(i,j,j+1)]**2 + \n",
    "                                                    diskdom_cen_DSage['zvel_z{0}_SM{1}_{2}'.format(i,j,j+1)]**2)\n",
    "    \n",
    "        diskdom_cen_DSage[\"SDspin_z{0}_SM{1}_{2}\".format(i,j,j+1)] = np.sqrt(diskdom_cen_DSage['xSDspin_z{0}_SM{1}_{2}'.format(i,j,j+1)]**2 + \n",
    "                                                    diskdom_cen_DSage['ySDspin_z{0}_SM{1}_{2}'.format(i,j,j+1)]**2 + \n",
    "                                                    diskdom_cen_DSage['zSDspin_z{0}_SM{1}_{2}'.format(i,j,j+1)]**2)\n",
    "    \n",
    "        diskdom_cen_DSage[\"GDspin_z{0}_SM{1}_{2}\".format(i,j,j+1)] = np.sqrt(diskdom_cen_DSage['xGDspin_z{0}_SM{1}_{2}'.format(i,j,j+1)]**2 + \n",
    "                                                    diskdom_cen_DSage['yGDspin_z{0}_SM{1}_{2}'.format(i,j,j+1)]**2 + \n",
    "                                                    diskdom_cen_DSage['zGDspin_z{0}_SM{1}_{2}'.format(i,j,j+1)]**2)\n",
    "    \n",
    "        diskdom_cen_DSage[\"haloJ_z{0}_SM{1}_{2}\".format(i,j,j+1)] = np.sqrt(diskdom_cen_DSage['xhaloJ_z{0}_SM{1}_{2}'.format(i,j,j+1)]**2 + \n",
    "                                                    diskdom_cen_DSage['yhaloJ_z{0}_SM{1}_{2}'.format(i,j,j+1)]**2 + \n",
    "                                                    diskdom_cen_DSage['zhaloJ_z{0}_SM{1}_{2}'.format(i,j,j+1)]**2) \n",
    "    \n",
    "\n",
    "    \n",
    "    "
   ]
  },
  {
   "cell_type": "markdown",
   "metadata": {},
   "source": [
    "# Calculating Lambda Spin"
   ]
  },
  {
   "cell_type": "markdown",
   "metadata": {},
   "source": [
    "# Disk Lambda"
   ]
  },
  {
   "cell_type": "code",
   "execution_count": 113,
   "metadata": {
    "collapsed": true
   },
   "outputs": [],
   "source": [
    "i = 0\n",
    "j = 0\n",
    "for i in range(len(bulge_gal_cen_DSage)):\n",
    "    for j in range(5):\n",
    "        j = j + 7        \n",
    "        bulgedom_cen_DSage[\"slambda_z{0}_SM{1}_{2}\".format(i,j,j+1)] = bulgedom_cen_DSage[\"JSD_z{0}_SM{1}_{2}\".format(i,j,j+1)]/(np.sqrt(2)*bulgedom_cen_DSage[\"Vvir_z{0}_SM{1}_{2}\".format(i,j,j+1)]*\n",
    "                                                                bulgedom_cen_DSage[\"Rvir_z{0}_SM{1}_{2}\".format(i,j,j+1)])\n",
    "\n",
    "\n",
    "n1 = 0\n",
    "n2 = 0\n",
    "for n1 in range(len(disk_gal_cen_DSage)):\n",
    "    for n2 in range(5):\n",
    "        n2 = n2 + 7\n",
    "        diskdom_cen_DSage[\"slambda_z{0}_SM{1}_{2}\".format(n1,n2,n2+1)] = diskdom_cen_DSage[\"JSD_z{0}_SM{1}_{2}\".format(n1,n2,n2+1)]/(np.sqrt(2)*diskdom_cen_DSage[\"Vvir_z{0}_SM{1}_{2}\".format(n1,n2,n2+1)]*\n",
    "                                                                diskdom_cen_DSage[\"Rvir_z{0}_SM{1}_{2}\".format(n1,n2,n2+1)])\n",
    "\n"
   ]
  },
  {
   "cell_type": "code",
   "execution_count": 114,
   "metadata": {
    "collapsed": false
   },
   "outputs": [],
   "source": [
    "########DSAGE#########    make a function that does the binning mean and std of the mean\n",
    "failval = np.nan\n",
    "# failval = -999\n",
    "mean_func = np.nanmean\n",
    "std_func = np.nanstd\n",
    "Mvir_bins = np.linspace(0, 50, 12)\n",
    "\n",
    "def meanbin(a, b):\n",
    "    idx_Mvir = np.digitize(a, Mvir_bins)\n",
    "    mean_a = np.array([ mean_func(a[idx_Mvir==ii]) if len(a[idx_Mvir==ii]) > 0 else failval for ii in range(1, len(Mvir_bins))])\n",
    "    mean_b = np.array([ mean_func(b[idx_Mvir==ii]) if len(a[idx_Mvir==ii]) > 0 else failval for ii in range(1, len(Mvir_bins))])\n",
    "    return mean_a, mean_b\n",
    "\n",
    "\n",
    "\n",
    "def stdbin(a, b):\n",
    "    idx_Mvir = np.digitize(a, Mvir_bins)\n",
    "    std_a = np.array([ std_func(a[idx_Mvir==ii]) if len(a[idx_Mvir==ii]) > 0 else failval for ii in range(1, len(Mvir_bins))])\n",
    "    std_b = np.array([ std_func(b[idx_Mvir==ii])/np.sqrt(len(b[idx_Mvir==ii])) if len(a[idx_Mvir==ii]) > 0 else failval for ii in range(1, len(Mvir_bins))])\n",
    "    #std_meanb = np.array(std_b/np.sqrt(len(b[idx_Mvir==k])) for k in range(1, len(Mvir_bins)))\n",
    "    return std_a, std_b"
   ]
  },
  {
   "cell_type": "code",
   "execution_count": null,
   "metadata": {
    "collapsed": true
   },
   "outputs": [],
   "source": []
  },
  {
   "cell_type": "code",
   "execution_count": 115,
   "metadata": {
    "collapsed": false
   },
   "outputs": [],
   "source": [
    "n1 = 0\n",
    "n2 = 0\n",
    "m1 = 0\n",
    "m2 = 0\n",
    "\n",
    "for n1 in range(len(bulge_gal_cen_DSage)):\n",
    "    for n2 in range(4):\n",
    "        n2 = n2 + 8\n",
    "        bulgedom_cen_DSage['slambda_Ngalcounts_meanbin_z{0}_SM{1}_{2}'.format(n1,n2,n2+1)] = meanbin(bulgedom_cen_DSage['slambda_z{0}_SM{1}_{2}'.format(n1,n2,n2+1)], bulgedom_cen_DSage['NgalcountsR8_z{0}_SM{1}_{2}'.format(n1,n2,n2+1)])\n",
    "        bulgedom_cen_DSage['slambda_Ngalcounts_stdbin_z{0}_SM{1}_{2}'.format(n1,n2,n2+1)] = stdbin(bulgedom_cen_DSage['slambda_z{0}_SM{1}_{2}'.format(n1,n2,n2+1)], bulgedom_cen_DSage['NgalcountsR8_z{0}_SM{1}_{2}'.format(n1,n2,n2+1)])\n",
    "        \n",
    "\n",
    "        \n",
    "\n",
    "for m1 in range(len(disk_gal_cen_DSage)):\n",
    "    for m2 in range(4):\n",
    "        m2 = m2 + 8\n",
    "        diskdom_cen_DSage['slambda_Ngalcounts_meanbin_z{0}_SM{1}_{2}'.format(m1,m2,m2+1)] = meanbin(diskdom_cen_DSage['slambda_z{0}_SM{1}_{2}'.format(m1,m2,m2+1)], diskdom_cen_DSage['NgalcountsR8_z{0}_SM{1}_{2}'.format(m1,m2,m2+1)])\n",
    "        diskdom_cen_DSage['slambda_Ngalcounts_stdbin_z{0}_SM{1}_{2}'.format(m1,m2,m2+1)] = stdbin(diskdom_cen_DSage['slambda_z{0}_SM{1}_{2}'.format(m1,m2,m2+1)], diskdom_cen_DSage['NgalcountsR8_z{0}_SM{1}_{2}'.format(m1,m2,m2+1)])\n"
   ]
  },
  {
   "cell_type": "code",
   "execution_count": 116,
   "metadata": {
    "collapsed": false,
    "scrolled": false
   },
   "outputs": [
    {
     "data": {
      "text/plain": [
       "<matplotlib.figure.Figure at 0x7f9a30a4e450>"
      ]
     },
     "metadata": {},
     "output_type": "display_data"
    },
    {
     "data": {
      "image/png": "[encoded data removed]",
      "text/plain": [
       "<matplotlib.figure.Figure at 0x7f9988e22350>"
      ]
     },
     "metadata": {},
     "output_type": "display_data"
    }
   ],
   "source": [
    "plt.figure(figsize=(10, 8))\n",
    "fig = plt.figure(facecolor='white')\n",
    "\n",
    "plt.subplot(221)\n",
    "plt.errorbar(bulgedom_cen_DSage['slambda_Ngalcounts_meanbin_z0_SM10_11'][0],\n",
    "             bulgedom_cen_DSage['slambda_Ngalcounts_meanbin_z0_SM10_11'][1],\n",
    "            yerr=bulgedom_cen_DSage['slambda_Ngalcounts_stdbin_z0_SM10_11'][1],\n",
    "            marker='o', color='r', label='Bulge 10-11')\n",
    "\n",
    "plt.errorbar(diskdom_cen_DSage['slambda_Ngalcounts_meanbin_z0_SM10_11'][0],\n",
    "             diskdom_cen_DSage['slambda_Ngalcounts_meanbin_z0_SM10_11'][1],\n",
    "            yerr=diskdom_cen_DSage['slambda_Ngalcounts_stdbin_z0_SM10_11'][1],\n",
    "            marker='o', color='b', label='Disk 10-11')\n",
    "\n",
    "plt.title('Stellar Mass bins at z=0')\n",
    "#plt.xlim(0, 1)\n",
    "#plt.ylim(-1, 21)\n",
    "plt.xlabel('$\\lambda_{Disk Bullock}$',  fontsize=10)\n",
    "plt.ylabel('Ngal Counts for R=8Mpc/h',  fontsize=10)\n",
    "#plt.title('Central Galaxies Mvir vs. Stellar Mass ')\n",
    "plt.legend(loc=3, numpoints=1)\n",
    "#plt.axis([1e11, 1e15, 1e9, 1e12])\n",
    "\n",
    "plt.subplot(222)\n",
    "plt.errorbar(bulgedom_cen_DSage['slambda_Ngalcounts_meanbin_z0_SM11_12'][0],\n",
    "             bulgedom_cen_DSage['slambda_Ngalcounts_meanbin_z0_SM11_12'][1],\n",
    "            yerr=bulgedom_cen_DSage['slambda_Ngalcounts_stdbin_z0_SM11_12'][1],\n",
    "            marker='o', color='r', label='Bulge 11-12')\n",
    "\n",
    "plt.errorbar(diskdom_cen_DSage['slambda_Ngalcounts_meanbin_z0_SM11_12'][0],\n",
    "             diskdom_cen_DSage['slambda_Ngalcounts_meanbin_z0_SM11_12'][1],\n",
    "            yerr=diskdom_cen_DSage['slambda_Ngalcounts_stdbin_z0_SM11_12'][1],\n",
    "            marker='o', color='b', label='Disk 11-12')\n",
    "\n",
    "\n",
    "#plt.xlim(0, 1)\n",
    "#plt.ylim(-1, 21)\n",
    "plt.xlabel('$\\lambda_{Disk Bullock}$',  fontsize=10)\n",
    "plt.ylabel('Ngal Counts for R=8Mpc/h',  fontsize=10)\n",
    "#plt.title('Central Galaxies Mvir vs. Stellar Mass ')\n",
    "plt.legend(loc=3, numpoints=1)\n",
    "#plt.axis([1e11, 1e15, 1e9, 1e12])\n",
    "\n",
    "\n",
    "plt.subplots_adjust(top=0.92, bottom=0.001, left=0.10, right=0.95, hspace=0.6,\n",
    "                    wspace=0.35)\n",
    "plt.style.use('seaborn-notebook')\n",
    "\n",
    "plt.tight_layout()\n",
    "#plt.savefig('morphdensity_Centrals_stellarSpin_lambdavsRvir_SMbin10-12_DSAGE_z0.png', dpi=100)\n",
    "\n",
    "plt.show()"
   ]
  },
  {
   "cell_type": "code",
   "execution_count": 117,
   "metadata": {
    "collapsed": false
   },
   "outputs": [
    {
     "data": {
      "text/plain": [
       "<matplotlib.figure.Figure at 0x7f9a287d8c10>"
      ]
     },
     "metadata": {},
     "output_type": "display_data"
    },
    {
     "data": {
      "image/png": "[encoded data removed]",
      "text/plain": [
       "<matplotlib.figure.Figure at 0x7f9a287d8c50>"
      ]
     },
     "metadata": {},
     "output_type": "display_data"
    }
   ],
   "source": [
    "plt.figure(figsize=(10, 8))\n",
    "fig = plt.figure(facecolor='white')\n",
    "\n",
    "plt.subplot(221)\n",
    "plt.errorbar(bulgedom_cen_DSage['slambda_Ngalcounts_meanbin_z0_SM11_12'][0],\n",
    "             bulgedom_cen_DSage['slambda_Ngalcounts_meanbin_z0_SM11_12'][1],\n",
    "            yerr=bulgedom_cen_DSage['slambda_Ngalcounts_stdbin_z0_SM11_12'][1],\n",
    "            marker='o', color='r', label='Bulge z=0')\n",
    "\n",
    "plt.errorbar(diskdom_cen_DSage['slambda_Ngalcounts_meanbin_z0_SM11_12'][0],\n",
    "             diskdom_cen_DSage['slambda_Ngalcounts_meanbin_z0_SM11_12'][1],\n",
    "            yerr=diskdom_cen_DSage['slambda_Ngalcounts_stdbin_z0_SM11_12'][1],\n",
    "            marker='o', color='b', label='Disk z=0')\n",
    "\n",
    "plt.title('Stellar Mass bins at 11-12')\n",
    "#plt.xlim(0, 1)\n",
    "plt.ylim(0, 25)\n",
    "plt.xlabel('$\\lambda_{Disk Bullock}$',  fontsize=10)\n",
    "plt.ylabel('Ngal Counts for R=8Mpc/h',  fontsize=10)\n",
    "#plt.title('Central Galaxies Mvir vs. Stellar Mass ')\n",
    "plt.legend(loc=3, numpoints=1)\n",
    "#plt.axis([1e11, 1e15, 1e9, 1e12])\n",
    "\n",
    "plt.subplot(222)\n",
    "plt.errorbar(bulgedom_cen_DSage['slambda_Ngalcounts_meanbin_z1_SM11_12'][0],\n",
    "             bulgedom_cen_DSage['slambda_Ngalcounts_meanbin_z1_SM11_12'][1],\n",
    "            yerr=bulgedom_cen_DSage['slambda_Ngalcounts_stdbin_z1_SM11_12'][1],\n",
    "            marker='o', color='r', label='Bulge z=1')\n",
    "\n",
    "plt.errorbar(diskdom_cen_DSage['slambda_Ngalcounts_meanbin_z1_SM11_12'][0],\n",
    "             diskdom_cen_DSage['slambda_Ngalcounts_meanbin_z1_SM11_12'][1],\n",
    "            yerr=diskdom_cen_DSage['slambda_Ngalcounts_stdbin_z1_SM11_12'][1],\n",
    "            marker='o', color='b', label='Disk z=1')\n",
    "\n",
    "\n",
    "#plt.xlim(0, 1)\n",
    "plt.ylim(0, 25)\n",
    "plt.xlabel('$\\lambda_{Disk Bullock}$',  fontsize=10)\n",
    "plt.ylabel('Ngal Counts for R=8Mpc/h',  fontsize=10)\n",
    "#plt.title('Central Galaxies Mvir vs. Stellar Mass ')\n",
    "plt.legend(loc=3, numpoints=1)\n",
    "#plt.axis([1e11, 1e15, 1e9, 1e12])\n",
    "\n",
    "\n",
    "plt.subplot(223)\n",
    "plt.errorbar(bulgedom_cen_DSage['slambda_Ngalcounts_meanbin_z2_SM11_12'][0],\n",
    "             bulgedom_cen_DSage['slambda_Ngalcounts_meanbin_z2_SM11_12'][1],\n",
    "            yerr=bulgedom_cen_DSage['slambda_Ngalcounts_stdbin_z2_SM11_12'][1],\n",
    "            marker='o', color='r', label='Bulge z=2')\n",
    "\n",
    "plt.errorbar(diskdom_cen_DSage['slambda_Ngalcounts_meanbin_z2_SM11_12'][0],\n",
    "             diskdom_cen_DSage['slambda_Ngalcounts_meanbin_z2_SM11_12'][1],\n",
    "            yerr=diskdom_cen_DSage['slambda_Ngalcounts_stdbin_z2_SM11_12'][1],\n",
    "            marker='o', color='b', label='Disk z=2')\n",
    "\n",
    "\n",
    "#plt.xlim(0, 1)\n",
    "plt.ylim(0, 25)\n",
    "plt.xlabel('$\\lambda_{Disk Bullock}$',  fontsize=10)\n",
    "plt.ylabel('Ngal Counts for R=8Mpc/h',  fontsize=10)\n",
    "#plt.title('Central Galaxies Mvir vs. Stellar Mass ')\n",
    "plt.legend(loc=3, numpoints=1)\n",
    "#plt.axis([1e11, 1e15, 1e9, 1e12])\n",
    "\n",
    "plt.subplot(224)\n",
    "plt.errorbar(bulgedom_cen_DSage['slambda_Ngalcounts_meanbin_z3_SM11_12'][0],\n",
    "             bulgedom_cen_DSage['slambda_Ngalcounts_meanbin_z3_SM11_12'][1],\n",
    "            yerr=bulgedom_cen_DSage['slambda_Ngalcounts_stdbin_z3_SM11_12'][1],\n",
    "            marker='o', color='r', label='Bulge z=3')\n",
    "\n",
    "plt.errorbar(diskdom_cen_DSage['slambda_Ngalcounts_meanbin_z3_SM11_12'][0],\n",
    "             diskdom_cen_DSage['slambda_Ngalcounts_meanbin_z3_SM11_12'][1],\n",
    "            yerr=diskdom_cen_DSage['slambda_Ngalcounts_stdbin_z3_SM11_12'][1],\n",
    "            marker='o', color='b', label='Disk z=3')\n",
    "\n",
    "\n",
    "#plt.xlim(0, 1)\n",
    "plt.ylim(0, 25)\n",
    "plt.xlabel('$\\lambda_{Disk Bullock}$',  fontsize=10)\n",
    "plt.ylabel('Ngal Counts for R=8Mpc/h',  fontsize=10)\n",
    "#plt.title('Central Galaxies Mvir vs. Stellar Mass ')\n",
    "plt.legend(loc=3, numpoints=1)\n",
    "#plt.axis([1e11, 1e15, 1e9, 1e12])\n",
    "\n",
    "\n",
    "\n",
    "plt.subplots_adjust(top=0.92, bottom=0.001, left=0.10, right=0.95, hspace=0.6,\n",
    "                    wspace=0.35)\n",
    "plt.style.use('seaborn-notebook')\n",
    "\n",
    "plt.tight_layout()\n",
    "#plt.savefig('morphdensity_Centrals_stellarSpin_lambdavsRvir_SMbin11-12_DSAGE_z0toz3.png', dpi=100)\n",
    "\n",
    "plt.show()"
   ]
  },
  {
   "cell_type": "markdown",
   "metadata": {
    "collapsed": true
   },
   "source": [
    "# Halo lambda"
   ]
  },
  {
   "cell_type": "code",
   "execution_count": 18,
   "metadata": {
    "collapsed": false
   },
   "outputs": [],
   "source": [
    "i = 0\n",
    "j = 0\n",
    "for i in range(len(bulge_gal_cen_DSage)):\n",
    "    for j in range(4):\n",
    "        j = j + 8       \n",
    "        bulgedom_cen_DSage[\"hlambda_z{0}_SM{1}_{2}\".format(i,j,j+1)] = bulgedom_cen_DSage[\"haloJ_z{0}_SM{1}_{2}\".format(i,j,j+1)]/(np.sqrt(2)*bulgedom_cen_DSage[\"Vvir_z{0}_SM{1}_{2}\".format(i,j,j+1)]*\n",
    "                                                                bulgedom_cen_DSage[\"Rvir_z{0}_SM{1}_{2}\".format(i,j,j+1)])\n",
    "\n",
    "\n",
    "n1 = 0\n",
    "n2 = 0\n",
    "for n1 in range(len(disk_gal_cen_DSage)):\n",
    "    for n2 in range(4):\n",
    "        n2 = n2 + 8\n",
    "        diskdom_cen_DSage[\"hlambda_z{0}_SM{1}_{2}\".format(n1,n2,n2+1)] = diskdom_cen_DSage[\"haloJ_z{0}_SM{1}_{2}\".format(n1,n2,n2+1)]/(np.sqrt(2)*diskdom_cen_DSage[\"Vvir_z{0}_SM{1}_{2}\".format(n1,n2,n2+1)]*\n",
    "                                                                diskdom_cen_DSage[\"Rvir_z{0}_SM{1}_{2}\".format(n1,n2,n2+1)])\n",
    "\n",
    " "
   ]
  },
  {
   "cell_type": "code",
   "execution_count": 19,
   "metadata": {
    "collapsed": false
   },
   "outputs": [],
   "source": [
    "Mvir_bins = np.linspace(0, 0.175, 10)\n",
    "n1 = 0\n",
    "n2 = 0\n",
    "m1 = 0\n",
    "m2 = 0\n",
    "\n",
    "for n1 in range(len(bulge_gal_cen_DSage)):\n",
    "    for n2 in range(4):\n",
    "        n2 = n2 + 8\n",
    "        bulgedom_cen_DSage['hlambda_Ngalcounts_meanbin_z{0}_SM{1}_{2}'.format(n1,n2,n2+1)] = meanbin(bulgedom_cen_DSage['hlambda_z{0}_SM{1}_{2}'.format(n1,n2,n2+1)], bulgedom_cen_DSage['NgalcountsR8_z{0}_SM{1}_{2}'.format(n1,n2,n2+1)])\n",
    "        bulgedom_cen_DSage['hlambda_Ngalcounts_stdbin_z{0}_SM{1}_{2}'.format(n1,n2,n2+1)] = stdbin(bulgedom_cen_DSage['hlambda_z{0}_SM{1}_{2}'.format(n1,n2,n2+1)], bulgedom_cen_DSage['NgalcountsR8_z{0}_SM{1}_{2}'.format(n1,n2,n2+1)])\n",
    "        \n",
    "\n",
    "        \n",
    "\n",
    "for m1 in range(len(disk_gal_cen_DSage)):\n",
    "    for m2 in range(4):\n",
    "        m2 = m2 + 8\n",
    "        diskdom_cen_DSage['hlambda_Ngalcounts_meanbin_z{0}_SM{1}_{2}'.format(m1,m2,m2+1)] = meanbin(diskdom_cen_DSage['hlambda_z{0}_SM{1}_{2}'.format(m1,m2,m2+1)], diskdom_cen_DSage['NgalcountsR8_z{0}_SM{1}_{2}'.format(m1,m2,m2+1)])\n",
    "        diskdom_cen_DSage['hlambda_Ngalcounts_stdbin_z{0}_SM{1}_{2}'.format(m1,m2,m2+1)] = stdbin(diskdom_cen_DSage['hlambda_z{0}_SM{1}_{2}'.format(m1,m2,m2+1)], diskdom_cen_DSage['NgalcountsR8_z{0}_SM{1}_{2}'.format(m1,m2,m2+1)])\n",
    "\n"
   ]
  },
  {
   "cell_type": "code",
   "execution_count": 20,
   "metadata": {
    "collapsed": false
   },
   "outputs": [
    {
     "data": {
      "text/plain": [
       "<matplotlib.figure.Figure at 0x7fd8042b5b90>"
      ]
     },
     "metadata": {},
     "output_type": "display_data"
    },
    {
     "data": {
      "image/png": "[encoded data removed]",
      "text/plain": [
       "<matplotlib.figure.Figure at 0x7fd736e1b750>"
      ]
     },
     "metadata": {},
     "output_type": "display_data"
    }
   ],
   "source": [
    "plt.figure(figsize=(10, 8))\n",
    "fig = plt.figure(facecolor='white')\n",
    "\n",
    "plt.subplot(221)\n",
    "plt.errorbar(bulgedom_cen_DSage['hlambda_Ngalcounts_meanbin_z0_SM10_11'][0],\n",
    "             bulgedom_cen_DSage['hlambda_Ngalcounts_meanbin_z0_SM10_11'][1],\n",
    "            yerr=bulgedom_cen_DSage['hlambda_Ngalcounts_stdbin_z0_SM10_11'][1],\n",
    "            marker='o', color='r', label='Bulge 10-11')\n",
    "\n",
    "plt.errorbar(diskdom_cen_DSage['hlambda_Ngalcounts_meanbin_z0_SM10_11'][0],\n",
    "             diskdom_cen_DSage['hlambda_Ngalcounts_meanbin_z0_SM10_11'][1],\n",
    "            yerr=diskdom_cen_DSage['hlambda_Ngalcounts_stdbin_z0_SM10_11'][1],\n",
    "            marker='o', color='b', label='Disk 10-11')\n",
    "\n",
    "plt.title('Stellar Mass bins at z=0')\n",
    "#plt.xlim(0, 1)\n",
    "plt.ylim(12, 22)\n",
    "plt.xlabel('$\\lambda_{Halo Bullock}$',  fontsize=10)\n",
    "plt.ylabel('Ngal Counts for R=8Mpc/h',  fontsize=10)\n",
    "#plt.title('Central Galaxies Mvir vs. Stellar Mass ')\n",
    "plt.legend(loc=3, numpoints=1)\n",
    "#plt.axis([1e11, 1e15, 1e9, 1e12])\n",
    "\n",
    "plt.subplot(222)\n",
    "plt.errorbar(bulgedom_cen_DSage['hlambda_Ngalcounts_meanbin_z0_SM11_12'][0],\n",
    "             bulgedom_cen_DSage['hlambda_Ngalcounts_meanbin_z0_SM11_12'][1],\n",
    "            yerr=bulgedom_cen_DSage['hlambda_Ngalcounts_stdbin_z0_SM11_12'][1],\n",
    "            marker='o', color='r', label='Bulge 11-12')\n",
    "\n",
    "plt.errorbar(diskdom_cen_DSage['hlambda_Ngalcounts_meanbin_z0_SM11_12'][0],\n",
    "             diskdom_cen_DSage['hlambda_Ngalcounts_meanbin_z0_SM11_12'][1],\n",
    "            yerr=diskdom_cen_DSage['hlambda_Ngalcounts_stdbin_z0_SM11_12'][1],\n",
    "            marker='o', color='b', label='Disk 11-12')\n",
    "\n",
    "\n",
    "#plt.xlim(0, 1)\n",
    "plt.ylim(12, 22)\n",
    "plt.xlabel('$\\lambda_{Halo Bullock}$',  fontsize=10)\n",
    "plt.ylabel('Ngal Counts for R=8Mpc/h',  fontsize=10)\n",
    "#plt.title('Central Galaxies Mvir vs. Stellar Mass ')\n",
    "plt.legend(loc=3, numpoints=1)\n",
    "#plt.axis([1e11, 1e15, 1e9, 1e12])\n",
    "\n",
    "\n",
    "plt.subplots_adjust(top=0.92, bottom=0.001, left=0.10, right=0.95, hspace=0.6,\n",
    "                    wspace=0.35)\n",
    "plt.style.use('seaborn-notebook')\n",
    "\n",
    "plt.tight_layout()\n",
    "#plt.savefig('morphdensity_Centrals_haloSpin_lambdavsRvir_SMbin10-12_DSAGE_z0.png', dpi=100)\n",
    "\n",
    "plt.show()"
   ]
  },
  {
   "cell_type": "code",
   "execution_count": 21,
   "metadata": {
    "collapsed": false
   },
   "outputs": [
    {
     "data": {
      "text/plain": [
       "<matplotlib.figure.Figure at 0x7fd736922c50>"
      ]
     },
     "metadata": {},
     "output_type": "display_data"
    },
    {
     "data": {
      "image/png": "[encoded data removed]",
      "text/plain": [
       "<matplotlib.figure.Figure at 0x7fd736922c90>"
      ]
     },
     "metadata": {},
     "output_type": "display_data"
    }
   ],
   "source": [
    "plt.figure(figsize=(10, 8))\n",
    "fig = plt.figure(facecolor='white')\n",
    "\n",
    "plt.subplot(221)\n",
    "plt.errorbar(bulgedom_cen_DSage['hlambda_Ngalcounts_meanbin_z0_SM11_12'][0],\n",
    "             bulgedom_cen_DSage['hlambda_Ngalcounts_meanbin_z0_SM11_12'][1],\n",
    "            yerr=bulgedom_cen_DSage['hlambda_Ngalcounts_stdbin_z0_SM11_12'][1],\n",
    "            marker='o', color='r', label='Bulge z=0')\n",
    "\n",
    "plt.errorbar(diskdom_cen_DSage['hlambda_Ngalcounts_meanbin_z0_SM11_12'][0],\n",
    "             diskdom_cen_DSage['hlambda_Ngalcounts_meanbin_z0_SM11_12'][1],\n",
    "            yerr=diskdom_cen_DSage['hlambda_Ngalcounts_stdbin_z0_SM11_12'][1],\n",
    "            marker='o', color='b', label='Disk z=0')\n",
    "\n",
    "plt.title('Stellar Mass bins at 11-12')\n",
    "plt.xlim(0, 0.15)\n",
    "plt.ylim(0, 30)\n",
    "plt.xlabel('$\\lambda_{Halo Bullock}$',  fontsize=10)\n",
    "plt.ylabel('Ngal Counts for R=8Mpc/h',  fontsize=10)\n",
    "#plt.title('Central Galaxies Mvir vs. Stellar Mass ')\n",
    "plt.legend(loc=3, numpoints=1)\n",
    "#plt.axis([1e11, 1e15, 1e9, 1e12])\n",
    "\n",
    "plt.subplot(222)\n",
    "plt.errorbar(bulgedom_cen_DSage['hlambda_Ngalcounts_meanbin_z1_SM11_12'][0],\n",
    "             bulgedom_cen_DSage['hlambda_Ngalcounts_meanbin_z1_SM11_12'][1],\n",
    "            yerr=bulgedom_cen_DSage['hlambda_Ngalcounts_stdbin_z1_SM11_12'][1],\n",
    "            marker='o', color='r', label='Bulge z=1')\n",
    "\n",
    "plt.errorbar(diskdom_cen_DSage['hlambda_Ngalcounts_meanbin_z1_SM11_12'][0],\n",
    "             diskdom_cen_DSage['hlambda_Ngalcounts_meanbin_z1_SM11_12'][1],\n",
    "            yerr=diskdom_cen_DSage['hlambda_Ngalcounts_stdbin_z1_SM11_12'][1],\n",
    "            marker='o', color='b', label='Disk z=1')\n",
    "\n",
    "\n",
    "plt.xlim(0, 0.15)\n",
    "plt.ylim(0, 30)\n",
    "plt.xlabel('$\\lambda_{Halo Bullock}$',  fontsize=10)\n",
    "plt.ylabel('Ngal Counts for R=8Mpc/h',  fontsize=10)\n",
    "#plt.title('Central Galaxies Mvir vs. Stellar Mass ')\n",
    "plt.legend(loc=3, numpoints=1)\n",
    "#plt.axis([1e11, 1e15, 1e9, 1e12])\n",
    "\n",
    "\n",
    "plt.subplot(223)\n",
    "plt.errorbar(bulgedom_cen_DSage['hlambda_Ngalcounts_meanbin_z2_SM11_12'][0],\n",
    "             bulgedom_cen_DSage['hlambda_Ngalcounts_meanbin_z2_SM11_12'][1],\n",
    "            yerr=bulgedom_cen_DSage['hlambda_Ngalcounts_stdbin_z2_SM11_12'][1],\n",
    "            marker='o', color='r', label='Bulge z=2')\n",
    "\n",
    "plt.errorbar(diskdom_cen_DSage['hlambda_Ngalcounts_meanbin_z2_SM11_12'][0],\n",
    "             diskdom_cen_DSage['hlambda_Ngalcounts_meanbin_z2_SM11_12'][1],\n",
    "            yerr=diskdom_cen_DSage['hlambda_Ngalcounts_stdbin_z2_SM11_12'][1],\n",
    "            marker='o', color='b', label='Disk z=2')\n",
    "\n",
    "\n",
    "plt.xlim(0, 0.15)\n",
    "plt.ylim(0, 30)\n",
    "plt.xlabel('$\\lambda_{Halo Bullock}$',  fontsize=10)\n",
    "plt.ylabel('Ngal Counts for R=8Mpc/h',  fontsize=10)\n",
    "#plt.title('Central Galaxies Mvir vs. Stellar Mass ')\n",
    "plt.legend(loc=3, numpoints=1)\n",
    "#plt.axis([1e11, 1e15, 1e9, 1e12])\n",
    "\n",
    "plt.subplot(224)\n",
    "plt.errorbar(bulgedom_cen_DSage['hlambda_Ngalcounts_meanbin_z3_SM11_12'][0],\n",
    "             bulgedom_cen_DSage['hlambda_Ngalcounts_meanbin_z3_SM11_12'][1],\n",
    "            yerr=bulgedom_cen_DSage['hlambda_Ngalcounts_stdbin_z3_SM11_12'][1],\n",
    "            marker='o', color='r', label='Bulge z=3')\n",
    "\n",
    "plt.errorbar(diskdom_cen_DSage['hlambda_Ngalcounts_meanbin_z3_SM11_12'][0],\n",
    "             diskdom_cen_DSage['hlambda_Ngalcounts_meanbin_z3_SM11_12'][1],\n",
    "            yerr=diskdom_cen_DSage['hlambda_Ngalcounts_stdbin_z3_SM11_12'][1],\n",
    "            marker='o', color='b', label='Disk z=3')\n",
    "\n",
    "\n",
    "plt.xlim(0, 0.15)\n",
    "plt.ylim(0, 30)\n",
    "plt.xlabel('$\\lambda_{Halo Bullock}$',  fontsize=10)\n",
    "plt.ylabel('Ngal Counts for R=8Mpc/h',  fontsize=10)\n",
    "#plt.title('Central Galaxies Mvir vs. Stellar Mass ')\n",
    "plt.legend(loc=3, numpoints=1)\n",
    "#plt.axis([1e11, 1e15, 1e9, 1e12])\n",
    "\n",
    "\n",
    "\n",
    "plt.subplots_adjust(top=0.92, bottom=0.001, left=0.10, right=0.95, hspace=0.6,\n",
    "                    wspace=0.35)\n",
    "plt.style.use('seaborn-notebook')\n",
    "\n",
    "plt.tight_layout()\n",
    "#plt.savefig('morphdensity_Centrals_haloSpin_lambdavsRvir_SMbin11-12_DSAGE_z0toz3.png', dpi=100)\n",
    "\n",
    "plt.show()"
   ]
  },
  {
   "cell_type": "markdown",
   "metadata": {},
   "source": [
    "# Binning low and high density"
   ]
  },
  {
   "cell_type": "code",
   "execution_count": null,
   "metadata": {
    "collapsed": true
   },
   "outputs": [],
   "source": [
    "##################################### BULGE MASS #################################\n",
    "bulgemassbin_cen_DSage = {}\n",
    "i=0\n",
    "   \n",
    "    ['NgalcountsR8_z0_SM11_12'] > 20\n",
    "    \n",
    "for i in range(len(bulge_gal_cen_DSage)):\n",
    "    \n",
    "    bulgemassbin_cen_DSage[\"bulge_idxhi_z{0}_SM10_11\".format(i)] = np.where(bulgedom_cen_DSage[\"NgalcountsR8_z{0}\".format(i)] > 20)[0]\n",
    "    \n",
    "    bulgemassbin_cen_DSage[\"bulge_idxhi_z{0}_SM11_12\".format(i)] = np.where(bulgedom_cen_DSage[\"NgalcountsR8_z{0}\".format(i)] > 20)[0] \n",
    "                                                             \n",
    "    \n",
    "    bulgemassbin_cen_DSage[\"bulge_idxlo_z{0}_SM10_11\".format(i)] = np.where(bulgedom_cen_DSage[\"NgalcountsR8_z{0}\".format(i)] < 12)[0] \n",
    "                                                                                     \n",
    "   \n",
    "    bulgemassbin_cen_DSage[\"bulge_idxlo_z{0}_SM11_12\".format(i)] = np.where(bulgedom_cen_DSage[\"NgalcountsR8_z{0}\".format(i)] < 12)[0] \n",
    "                                                                                     \n",
    "\n",
    "    bulgemassbin_cen_DSage[\"bulgedomhi_z{0}_SM8_9\".format(i)] = bulge_gal_cen_DSage[i][bulgemassbin_cen_DSage[\"bulge_idxhi_z{0}_SM10_11\".format(i)]]\n",
    "    bulgemassbin_cen_DSage[\"bulgedomhi_z{0}_SM9_10\".format(i)] = bulge_gal_cen_DSage[i][bulgemassbin_cen_DSage[\"bulge_idxhi_z{0}_SM11_12\".format(i)]]\n",
    "    bulgemassbin_cen_DSage[\"bulgedomlo_z{0}_SM10_11\".format(i)] = bulge_gal_cen_DSage[i][bulgemassbin_cen_DSage[\"bulge_idxlo_z{0}_SM10_11\".format(i)]]  \n",
    "    bulgemassbin_cen_DSage[\"bulgedomlo_z{0}_SM11_12\".format(i)] = bulge_gal_cen_DSage[i][bulgemassbin_cen_DSage[\"bulge_idxlo_z{0}_SM11_12\".format(i)]]\n"
   ]
  },
  {
   "cell_type": "code",
   "execution_count": null,
   "metadata": {
    "collapsed": true
   },
   "outputs": [],
   "source": []
  },
  {
   "cell_type": "code",
   "execution_count": null,
   "metadata": {
    "collapsed": true
   },
   "outputs": [],
   "source": []
  },
  {
   "cell_type": "code",
   "execution_count": null,
   "metadata": {
    "collapsed": true
   },
   "outputs": [],
   "source": []
  },
  {
   "cell_type": "code",
   "execution_count": null,
   "metadata": {
    "collapsed": true
   },
   "outputs": [],
   "source": []
  },
  {
   "cell_type": "code",
   "execution_count": 61,
   "metadata": {
    "collapsed": true
   },
   "outputs": [],
   "source": [
    "a_highden = np.where(bulgedom_cen_DSage['NgalcountsR8_z0_SM11_12'] > 20)[0]\n",
    "a_lowden = np.where(bulgedom_cen_DSage['NgalcountsR8_z0_SM11_12'] < 12)[0]"
   ]
  },
  {
   "cell_type": "code",
   "execution_count": 63,
   "metadata": {
    "collapsed": false
   },
   "outputs": [
    {
     "name": "stdout",
     "output_type": "stream",
     "text": [
      "37594\n",
      "[    8     9    14 ..., 37591 37592 37593]\n"
     ]
    }
   ],
   "source": [
    "print len(bulgedom_cen_DSage['NgalcountsR8_z0_SM11_12'])\n",
    "print len(a)"
   ]
  },
  {
   "cell_type": "code",
   "execution_count": null,
   "metadata": {
    "collapsed": true
   },
   "outputs": [],
   "source": [
    "Nbins_global = 100\n",
    "Nbins_small = 30     #this is in case some samples need a more refined binning\n",
    "dmin = 0.0\n",
    "dmax = 1000\n",
    "binwidth_cen = float((dmax-dmin)/Nbins_global)\n",
    "binwidth_cen_s = float((dmax-dmin)/Nbins_small)    #this is in case some samples need a more refined binning\n",
    "bins_cen = np.linspace(dmin, dmax, Nbins_global+1)\n",
    "bins_cen_s = np.linspace(dmin, dmax, Nbins_small + 1)  #this is in case some samples need a more refined binning\n",
    "\n",
    "n=0\n",
    "m=0 \n",
    "\n",
    "def normalizing(a):\n",
    "    \n",
    "    Ntotal_cen = float(len(a))\n",
    "    hist_arg1_cen = np.histogram(a, bins_cen)\n",
    "    hist_cen = hist_arg1_cen[0]/(binwidth_cen*Ntotal_cen)   #to have the same probability for different width sizes, divide by delta d which is your width length \n",
    "    return hist_cen\n",
    "\n"
   ]
  },
  {
   "cell_type": "code",
   "execution_count": null,
   "metadata": {
    "collapsed": true
   },
   "outputs": [],
   "source": []
  },
  {
   "cell_type": "code",
   "execution_count": null,
   "metadata": {
    "collapsed": true
   },
   "outputs": [],
   "source": []
  },
  {
   "cell_type": "code",
   "execution_count": null,
   "metadata": {
    "collapsed": true
   },
   "outputs": [],
   "source": []
  },
  {
   "cell_type": "code",
   "execution_count": null,
   "metadata": {
    "collapsed": true
   },
   "outputs": [],
   "source": []
  },
  {
   "cell_type": "code",
   "execution_count": null,
   "metadata": {
    "collapsed": true
   },
   "outputs": [],
   "source": []
  },
  {
   "cell_type": "code",
   "execution_count": null,
   "metadata": {
    "collapsed": true
   },
   "outputs": [],
   "source": []
  },
  {
   "cell_type": "code",
   "execution_count": null,
   "metadata": {
    "collapsed": true
   },
   "outputs": [],
   "source": []
  },
  {
   "cell_type": "code",
   "execution_count": 27,
   "metadata": {
    "collapsed": false
   },
   "outputs": [
    {
     "name": "stdout",
     "output_type": "stream",
     "text": [
      "396790\n"
     ]
    }
   ],
   "source": [
    "\n",
    "\n",
    "\"\"\"\n",
    "ck_arr_8 = tree.query_ball_point(points, 8)\n",
    "ck_arr_6 = tree.query_ball_point(points, 6)\n",
    "ck_arr_4 = tree.query_ball_point(points, 4)\n",
    "ck_arr_2 = tree.query_ball_point(points, 2)\n",
    "\n",
    "\n",
    "ii=0\n",
    "ngal_arr_8 = np.array([len(ck_arr_8[ii])-1 for ii in range(len(ck_arr_8))]).astype(float)\n",
    "ii=0\n",
    "ngal_arr_6 = np.array([len(ck_arr_6[ii])-1 for ii in range(len(ck_arr_6))]).astype(float)\n",
    "ii=0\n",
    "ngal_arr_4 = np.array([len(ck_arr_4[ii])-1 for ii in range(len(ck_arr_4))]).astype(float)\n",
    "ii=0\n",
    "ngal_arr_2 = np.array([len(ck_arr_2[ii])-1 for ii in range(len(ck_arr_2))]).astype(float)\n",
    "\"\"\"\n",
    "\n",
    "#print len(ngal_arr_10)\n",
    "\n",
    "#print ngal_arr\n",
    "\n",
    "#print(ngal_arr[ngal_arr <= 10].size)"
   ]
  },
  {
   "cell_type": "code",
   "execution_count": null,
   "metadata": {
    "collapsed": true
   },
   "outputs": [],
   "source": []
  },
  {
   "cell_type": "code",
   "execution_count": 38,
   "metadata": {
    "collapsed": false,
    "scrolled": true
   },
   "outputs": [
    {
     "data": {
      "image/png": "[encoded data removed]",
      "text/plain": [
       "<matplotlib.figure.Figure at 0x7fc8b9ad1890>"
      ]
     },
     "metadata": {},
     "output_type": "display_data"
    }
   ],
   "source": [
    "plt.plot(bulgedom_cen_DSage['haloJ_z0'], ngal_arr_10, '.')\n",
    "\n",
    "plt.show()\n",
    "\n",
    "\n",
    "#plot disk/total to ncounts of galaxies"
   ]
  },
  {
   "cell_type": "code",
   "execution_count": 12,
   "metadata": {
    "collapsed": false
   },
   "outputs": [],
   "source": [
    "galcounts_1_2_10 = (ngal_arr_10[(ngal_arr_10 >= 1) & (ngal_arr_10 <= 2)].size)\n",
    "galcounts_3_4_10 = (ngal_arr_10[(ngal_arr_10 >= 3) & (ngal_arr_10 <= 4)].size)\n",
    "galcounts_5_8_10 = (ngal_arr_10[(ngal_arr_10 >= 5) & (ngal_arr_10 <= 8)].size)\n",
    "\n",
    "galcounts_1_2_8 = (ngal_arr_8[(ngal_arr_8 >= 1) & (ngal_arr_8 <= 2)].size)\n",
    "galcounts_3_4_8 = (ngal_arr_8[(ngal_arr_8 >= 3) & (ngal_arr_8 <= 4)].size)\n",
    "galcounts_5_8_8 = (ngal_arr_8[(ngal_arr_8 >= 5) & (ngal_arr_8 <= 8)].size)\n",
    "\n",
    "galcounts_1_2_6 = (ngal_arr_6[(ngal_arr_6 >= 1) & (ngal_arr_6 <= 2)].size)\n",
    "galcounts_3_4_6 = (ngal_arr_6[(ngal_arr_6 >= 3) & (ngal_arr_6 <= 4)].size)\n",
    "galcounts_5_8_6 = (ngal_arr_6[(ngal_arr_6 >= 5) & (ngal_arr_6 <= 8)].size)\n",
    "\n",
    "galcounts_1_2_4 = (ngal_arr_4[(ngal_arr_4 >= 1) & (ngal_arr_4 <= 2)].size)\n",
    "galcounts_3_4_4 = (ngal_arr_4[(ngal_arr_4 >= 3) & (ngal_arr_4 <= 4)].size)\n",
    "galcounts_5_8_4 = (ngal_arr_4[(ngal_arr_4 >= 5) & (ngal_arr_4 <= 8)].size)\n",
    "\n",
    "galcounts_1_2_2 = (ngal_arr_2[(ngal_arr_2 >= 1) & (ngal_arr_2 <= 2)].size)\n",
    "galcounts_3_4_2 = (ngal_arr_2[(ngal_arr_2 >= 3) & (ngal_arr_2 <= 4)].size)\n",
    "galcounts_5_8_2 = (ngal_arr_2[(ngal_arr_2 >= 5) & (ngal_arr_2 <= 8)].size)\n",
    "\n",
    "# ngal_arr.max()"
   ]
  },
  {
   "cell_type": "code",
   "execution_count": 22,
   "metadata": {
    "collapsed": false,
    "scrolled": true
   },
   "outputs": [
    {
     "data": {
      "image/png": "[encoded data removed]",
      "text/plain": [
       "<matplotlib.figure.Figure at 0x7fc8cfee2610>"
      ]
     },
     "metadata": {},
     "output_type": "display_data"
    }
   ],
   "source": [
    "plt.plot(10, galcounts_1_2_10, '-o',\n",
    "         8, galcounts_1_2_8, '-o',\n",
    "         6, galcounts_1_2_6,'-o',\n",
    "         4, galcounts_1_2_4,'-o',\n",
    "         2,galcounts_1_2_2,'-o')\n",
    "\n",
    "plt.plot(10, galcounts_3_4_10, '.',\n",
    "         8, galcounts_3_4_8, '.',\n",
    "         6, galcounts_3_4_6,'.',\n",
    "         4, galcounts_3_4_4,'.', \n",
    "         2,galcounts_3_4_2,'.')\n",
    "#plt.plot(10, galcounts_5_8_10, '.', 8, galcounts_5_8_8, '.', 6, galcounts_5_8_6,'.', 4, galcounts_5_8_4,'.', 2,galcounts_5_8_2,'.')\n",
    "\n",
    "#  10, galcounts_3_4_10, \n",
    "         \n",
    "#galcounts_5_8_10)\n",
    "\n",
    "\n",
    "\n",
    "plt.show()"
   ]
  },
  {
   "cell_type": "code",
   "execution_count": 27,
   "metadata": {
    "collapsed": false
   },
   "outputs": [
    {
     "data": {
      "text/plain": [
       "(191047,)"
      ]
     },
     "execution_count": 27,
     "metadata": {},
     "output_type": "execute_result"
    }
   ],
   "source": [
    "ck_arr_conc = np.unique(np.concatenate(ck_arr[ngal_arr <= 10]))\n",
    "ck_arr_conc.shape"
   ]
  },
  {
   "cell_type": "code",
   "execution_count": 28,
   "metadata": {
    "collapsed": false
   },
   "outputs": [
    {
     "data": {
      "text/plain": [
       "array([     2,      3,      6, ..., 396786, 396787, 396789])"
      ]
     },
     "execution_count": 28,
     "metadata": {},
     "output_type": "execute_result"
    }
   ],
   "source": [
    "ck_arr_conc"
   ]
  },
  {
   "cell_type": "code",
   "execution_count": null,
   "metadata": {
    "collapsed": true
   },
   "outputs": [],
   "source": [
    "diskdom_cen_DSage['xGDspin_z{0}'.format(ii)]"
   ]
  },
  {
   "cell_type": "code",
   "execution_count": 40,
   "metadata": {
    "collapsed": false
   },
   "outputs": [],
   "source": [
    "AA = bulgedom_cen_z2DSage[0]"
   ]
  },
  {
   "cell_type": "code",
   "execution_count": 46,
   "metadata": {
    "collapsed": false
   },
   "outputs": [
    {
     "data": {
      "text/plain": [
       "<bound method FITS_record.field of (5.1952199999999999, 2.57246, 0.29255300000000001, 2.3302100000000001, 1.4519, 0.0054855800000000003, 0.105836, 0.0451511, 0.015679499999999999, 2.3590200000000001, 0.098121200000000006, 0.19075700000000001, 0.17133200000000001, 0.079533699999999999, 0.0050393199999999999, 0.086759000000000003, 0.050130399999999999, 0.00039650500000000001, 0.0053310400000000004, 0.00029598200000000003, 0.0016618900000000001, 0, 0.00503566, 0.00084911299999999997, 0.0026757999999999999, 0.0033154600000000001, 0.0012013799999999999, 0.0011381399999999999, 0.090704999999999994, -0.081667299999999998, -0.084241700000000003, 0.0, 0.0, -1.0, 0.207791, 254.43799999999999, 95.326999999999998, 614.05700000000002, 730.53200000000004, 279.56999999999999, -0.20409099999999999, -0.31021500000000002, -0.92850100000000002, 0.20409099999999999, 0.31021500000000002, 0.92850100000000002, 87.1845, 0.077730199999999999, 219.63200000000001, 216.839, 216.839, 132.86199999999999, -1.4673700000000001, 1.3625499999999999, -0.93816699999999997, 1198, 1198, 87.1845, 0.0, 0.0, 0.0, 6.4283461570739702, 11.7073860168457, 31.8118495941162, 126.16500000000001, -380.459, -347.59899999999999, 32, 64000000026, 64000000026, 1895)>"
      ]
     },
     "execution_count": 46,
     "metadata": {},
     "output_type": "execute_result"
    }
   ],
   "source": []
  },
  {
   "cell_type": "code",
   "execution_count": null,
   "metadata": {
    "collapsed": true
   },
   "outputs": [],
   "source": []
  },
  {
   "cell_type": "code",
   "execution_count": null,
   "metadata": {
    "collapsed": true
   },
   "outputs": [],
   "source": []
  },
  {
   "cell_type": "code",
   "execution_count": null,
   "metadata": {
    "collapsed": true
   },
   "outputs": [],
   "source": []
  },
  {
   "cell_type": "code",
   "execution_count": null,
   "metadata": {
    "collapsed": true
   },
   "outputs": [],
   "source": []
  }
 ],
 "metadata": {
  "kernelspec": {
   "display_name": "Python [conda root]",
   "language": "python",
   "name": "conda-root-py"
  },
  "language_info": {
   "codemirror_mode": {
    "name": "ipython",
    "version": 2
   },
   "file_extension": ".py",
   "mimetype": "text/x-python",
   "name": "python",
   "nbconvert_exporter": "python",
   "pygments_lexer": "ipython2",
   "version": "2.7.13"
  }
 },
 "nbformat": 4,
 "nbformat_minor": 2
}
