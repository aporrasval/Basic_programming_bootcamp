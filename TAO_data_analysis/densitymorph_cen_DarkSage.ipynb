{
 "cells": [
  {
   "cell_type": "code",
   "execution_count": 1,
   "metadata": {
    "collapsed": true
   },
   "outputs": [],
   "source": [
    "from astropy.io import fits\n",
    "from scipy import spatial as sp\n",
    "import numpy as np\n",
    "import matplotlib.pyplot as plt\n",
    "\n",
    "load_z0DSage = fits.open('tao.1951.0.fits')\n",
    "load_z1DSage = fits.open('tao.1959.0.fits')\n",
    "load_z2DSage= fits.open('tao.1961.0.fits')\n",
    "load_z3DSage = fits.open('tao.1957.0.fits')\n",
    "\n",
    "data_z0DSage = load_z0DSage[1].data\n",
    "data_z1DSage = load_z1DSage[1].data\n",
    "data_z2DSage = load_z2DSage[1].data\n",
    "data_z3DSage = load_z3DSage[1].data"
   ]
  },
  {
   "cell_type": "code",
   "execution_count": 2,
   "metadata": {
    "collapsed": true
   },
   "outputs": [],
   "source": [
    "# Dividing sample between centrals and satellites for DARK SAGE\n",
    "idx_cen_z0DSage = np.where(data_z0DSage[:]['Galaxy_Classification'] == 0) [0]\n",
    "idx_sat_z0DSage  = np.where(data_z0DSage[:]['Galaxy_Classification'] == 1) [0]\n",
    "gal_cen_z0DSage = data_z0DSage[idx_cen_z0DSage]\n",
    "gal_sat_z0DSage = data_z0DSage[idx_sat_z0DSage]\n",
    "\n",
    "idx_cen_z1DSage = np.where(data_z1DSage[:]['Galaxy_Classification'] == 0) [0]\n",
    "idx_sat_z1DSage  = np.where(data_z1DSage[:]['Galaxy_Classification'] == 1) [0]\n",
    "gal_cen_z1DSage = data_z1DSage[idx_cen_z1DSage]\n",
    "gal_sat_z1DSage = data_z1DSage[idx_sat_z1DSage]\n",
    "\n",
    "idx_cen_z2DSage = np.where(data_z2DSage[:]['Galaxy_Classification'] == 0) [0]\n",
    "idx_sat_z2DSage  = np.where(data_z2DSage[:]['Galaxy_Classification'] == 1) [0]\n",
    "gal_cen_z2DSage = data_z2DSage[idx_cen_z2DSage]\n",
    "gal_sat_z2DSage = data_z2DSage[idx_sat_z2DSage]\n",
    "\n",
    "idx_cen_z3DSage = np.where(data_z3DSage[:]['Galaxy_Classification'] == 0) [0]\n",
    "idx_sat_z3DSage  = np.where(data_z3DSage[:]['Galaxy_Classification'] == 1) [0]\n",
    "gal_cen_z3DSage = data_z3DSage[idx_cen_z3DSage]\n",
    "gal_sat_z3DSage = data_z3DSage[idx_sat_z3DSage]\n"
   ]
  },
  {
   "cell_type": "code",
   "execution_count": 3,
   "metadata": {
    "collapsed": true
   },
   "outputs": [],
   "source": [
    "#### Taking all galaxies with TSM = 0 out of sample\n",
    "TSM_idx_cen_z0DSage = np.where(gal_cen_z0DSage[:]['Total_Stellar_Mass']!=0)[0]\n",
    "gal_cen_z0DSage = gal_cen_z0DSage[TSM_idx_cen_z0DSage]\n",
    "\n",
    "TSM_idx_cen_z1DSage = np.where(gal_cen_z1DSage[:]['Total_Stellar_Mass']!=0)[0]\n",
    "gal_cen_z1DSage = gal_cen_z1DSage[TSM_idx_cen_z1DSage]\n",
    "\n",
    "TSM_idx_cen_z2DSage = np.where(gal_cen_z2DSage[:]['Total_Stellar_Mass']!=0)[0]\n",
    "gal_cen_z2DSage = gal_cen_z2DSage[TSM_idx_cen_z2DSage]\n",
    "\n",
    "TSM_idx_cen_z3DSage = np.where(gal_cen_z3DSage[:]['Total_Stellar_Mass']!=0)[0]\n",
    "gal_cen_z3DSage = gal_cen_z3DSage[TSM_idx_cen_z3DSage]\n",
    "\n",
    "\n",
    "#### Taking all galaxies with DSM = 0 out of sample\n",
    "DSM_idx_cen_z0DSage = np.where(gal_cen_z0DSage[:]['Disk_Stellar_Mass']!=0)[0]\n",
    "gal_cen_z0DSage = gal_cen_z0DSage[DSM_idx_cen_z0DSage]\n",
    "\n",
    "DSM_idx_cen_z1DSage = np.where(gal_cen_z1DSage[:]['Disk_Stellar_Mass']!=0)[0]\n",
    "gal_cen_z1DSage = gal_cen_z1DSage[DSM_idx_cen_z1DSage]\n",
    "\n",
    "DSM_idx_cen_z2DSage = np.where(gal_cen_z2DSage[:]['Disk_Stellar_Mass']!=0)[0]\n",
    "gal_cen_z2DSage = gal_cen_z2DSage[DSM_idx_cen_z2DSage]\n",
    "\n",
    "DSM_idx_cen_z3DSage = np.where(gal_cen_z3DSage[:]['Disk_Stellar_Mass']!=0)[0]\n",
    "gal_cen_z3DSage = gal_cen_z3DSage[DSM_idx_cen_z3DSage]\n"
   ]
  },
  {
   "cell_type": "code",
   "execution_count": 4,
   "metadata": {
    "collapsed": true
   },
   "outputs": [],
   "source": [
    "morph_cen_z0DSage = gal_cen_z0DSage['Disk_Stellar_Mass']/gal_cen_z0DSage['Total_Stellar_Mass']\n",
    "morph_cen_z1DSage = gal_cen_z1DSage['Disk_Stellar_Mass']/gal_cen_z1DSage['Total_Stellar_Mass']\n",
    "morph_cen_z2DSage = gal_cen_z2DSage['Disk_Stellar_Mass']/gal_cen_z2DSage['Total_Stellar_Mass']\n",
    "morph_cen_z3DSage = gal_cen_z3DSage['Disk_Stellar_Mass']/gal_cen_z3DSage['Total_Stellar_Mass']\n",
    "\n",
    "###### Redshift 0\n",
    "bulgedom_idx_cen_z0DSage = np.where(morph_cen_z0DSage < 0.5)[0]\n",
    "bulgedom_cen_z0DSage = gal_cen_z0DSage[bulgedom_idx_cen_z0DSage]\n",
    "\n",
    "diskdom_idx_cen_z0DSage = np.where(morph_cen_z0DSage > 0.5)[0]\n",
    "diskdom_cen_z0DSage = gal_cen_z0DSage[diskdom_idx_cen_z0DSage]\n",
    "\n",
    "###### Redshift 1\n",
    "bulgedom_idx_cen_z1DSage = np.where(morph_cen_z1DSage < 0.5)[0]\n",
    "bulgedom_cen_z1DSage = gal_cen_z1DSage[bulgedom_idx_cen_z1DSage]\n",
    "\n",
    "diskdom_idx_cen_z1DSage = np.where(morph_cen_z1DSage > 0.5)[0]\n",
    "diskdom_cen_z1DSage = gal_cen_z1DSage[diskdom_idx_cen_z1DSage]\n",
    "\n",
    "###### Redshift 2\n",
    "bulgedom_idx_cen_z2DSage = np.where(morph_cen_z2DSage < 0.5)[0]\n",
    "bulgedom_cen_z2DSage = gal_cen_z2DSage[bulgedom_idx_cen_z2DSage]\n",
    "\n",
    "diskdom_idx_cen_z2DSage = np.where(morph_cen_z2DSage > 0.5)[0]\n",
    "diskdom_cen_z2DSage = gal_cen_z2DSage[diskdom_idx_cen_z2DSage]\n",
    "\n",
    "###### Redshift 3\n",
    "bulgedom_idx_cen_z3DSage = np.where(morph_cen_z3DSage < 0.5)[0]\n",
    "bulgedom_cen_z3DSage = gal_cen_z3DSage[bulgedom_idx_cen_z3DSage]\n",
    "\n",
    "diskdom_idx_cen_z3DSage = np.where(morph_cen_z3DSage > 0.5)[0]\n",
    "diskdom_cen_z3DSage = gal_cen_z3DSage[diskdom_idx_cen_z3DSage]"
   ]
  },
  {
   "cell_type": "code",
   "execution_count": 5,
   "metadata": {
    "collapsed": true
   },
   "outputs": [],
   "source": [
    "bulgedom_cen_DSage = {}\n",
    "bulge_gal_cen_DSage = [bulgedom_cen_z0DSage, bulgedom_cen_z1DSage, bulgedom_cen_z2DSage, bulgedom_cen_z3DSage]\n",
    "i=0\n",
    "for i in range(len(bulge_gal_cen_DSage)):\n",
    "    \n",
    "    bulgedom_cen_DSage[\"Mvir_z{0}\".format(i)] = 1e10*bulge_gal_cen_DSage[i]['Mvir']\n",
    "    bulgedom_cen_DSage[\"TSM_z{0}\".format(i)] = 1e10*bulge_gal_cen_DSage[i]['Total_Stellar_Mass']    \n",
    "    bulgedom_cen_DSage[\"CGMvir_z{0}\".format(i)] = 1e10*bulge_gal_cen_DSage[i]['Central_Galaxy_Mvir']\n",
    "    bulgedom_cen_DSage[\"bulgepseudo_z{0}\".format(i)] = 1e10*bulge_gal_cen_DSage[i]['Pseudobulge_Mass']\n",
    "    bulgedom_cen_DSage[\"DSM_z{0}\".format(i)] = 1e10*bulge_gal_cen_DSage[i]['Disk_Stellar_Mass']\n",
    "    bulgedom_cen_DSage[\"ColdGM_z{0}\".format(i)] = 1e10*bulge_gal_cen_DSage[i]['Cold_Gas_Mass']    \n",
    "    bulgedom_cen_DSage[\"HotGM_z{0}\".format(i)] = 1e10*bulge_gal_cen_DSage[i]['Hot_Gas_Mass']\n",
    "    bulgedom_cen_DSage[\"EjectedGM_z{0}\".format(i)] = 1e10*bulge_gal_cen_DSage[i]['Ejected_Gas_Mass']     \n",
    "    bulgedom_cen_DSage[\"Vvir_z{0}\".format(i)] = bulge_gal_cen_DSage[i]['Vvir']\n",
    "    bulgedom_cen_DSage[\"Rvir_z{0}\".format(i)] = bulge_gal_cen_DSage[i]['Rvir']    \n",
    "    bulgedom_cen_DSage[\"xpos_z{0}\".format(i)] = bulge_gal_cen_DSage[i]['X']\n",
    "    bulgedom_cen_DSage[\"ypos_z{0}\".format(i)] = bulge_gal_cen_DSage[i]['Y']\n",
    "    bulgedom_cen_DSage[\"zpos_z{0}\".format(i)] = bulge_gal_cen_DSage[i]['Z']\n",
    "    bulgedom_cen_DSage[\"xvel_z{0}\".format(i)] = bulge_gal_cen_DSage[i]['X_Velocity']\n",
    "    bulgedom_cen_DSage[\"yvel_z{0}\".format(i)] = bulge_gal_cen_DSage[i]['Y_Velocity']\n",
    "    bulgedom_cen_DSage[\"zvel_z{0}\".format(i)] = bulge_gal_cen_DSage[i]['Z_Velocity']\n",
    "    bulgedom_cen_DSage[\"xSDspin_z{0}\".format(i)] = bulge_gal_cen_DSage[i]['X_Spin_of_Stellar_Disk']\n",
    "    bulgedom_cen_DSage[\"ySDspin_z{0}\".format(i)] = bulge_gal_cen_DSage[i]['Y_Spin_of_Stellar_Disk']\n",
    "    bulgedom_cen_DSage[\"zSDspin_z{0}\".format(i)] = bulge_gal_cen_DSage[i]['Z_Spin_of_Stellar_Disk']\n",
    "    bulgedom_cen_DSage[\"xGDspin_z{0}\".format(i)] = bulge_gal_cen_DSage[i]['X_Spin_of_Gas_Disk']\n",
    "    bulgedom_cen_DSage[\"yGDspin_z{0}\".format(i)] = bulge_gal_cen_DSage[i]['Y_Spin_of_Gas_Disk']\n",
    "    bulgedom_cen_DSage[\"zGDspin_z{0}\".format(i)] = bulge_gal_cen_DSage[i]['Z_Spin_of_Gas_Disk']\n",
    "    bulgedom_cen_DSage[\"xhaloJ_z{0}\".format(i)] = bulge_gal_cen_DSage[i]['jX_Halo']\n",
    "    bulgedom_cen_DSage[\"yhaloJ_z{0}\".format(i)] = bulge_gal_cen_DSage[i]['jY_Halo']\n",
    "    bulgedom_cen_DSage[\"zhaloJ_z{0}\".format(i)] = bulge_gal_cen_DSage[i]['jZ_Halo']      \n",
    "    #bulgedom_cen_DSage[\"NgalcountsR8_z{0}\".format(i)] = bulge_gal_cen_DSage[i]['Ngal_counts_R8']   \n",
    "    bulgedom_cen_DSage[\"JSD_z{0}\".format(i)] = bulge_gal_cen_DSage[i]['j_Stellar_Disk']\n",
    "    \n",
    "    bulgedom_cen_DSage[\"pos_z{0}\".format(i)] = np.sqrt(bulgedom_cen_DSage['xpos_z{0}'.format(i)]**2 + \n",
    "                                                    bulgedom_cen_DSage['ypos_z{0}'.format(i)]**2 + \n",
    "                                                    bulgedom_cen_DSage['zpos_z{0}'.format(i)]**2)\n",
    "    \n",
    "    bulgedom_cen_DSage[\"vel_z{0}\".format(i)] = np.sqrt(bulgedom_cen_DSage['xvel_z{0}'.format(i)]**2 + \n",
    "                                                    bulgedom_cen_DSage['yvel_z{0}'.format(i)]**2 + \n",
    "                                                    bulgedom_cen_DSage['zvel_z{0}'.format(i)]**2)\n",
    "    \n",
    "    bulgedom_cen_DSage[\"SDspin_z{0}\".format(i)] = np.sqrt(bulgedom_cen_DSage['xSDspin_z{0}'.format(i)]**2 + \n",
    "                                                    bulgedom_cen_DSage['ySDspin_z{0}'.format(i)]**2 + \n",
    "                                                    bulgedom_cen_DSage['zSDspin_z{0}'.format(i)]**2)\n",
    "    \n",
    "    bulgedom_cen_DSage[\"GDspin_z{0}\".format(i)] = np.sqrt(bulgedom_cen_DSage['xGDspin_z{0}'.format(i)]**2 + \n",
    "                                                    bulgedom_cen_DSage['yGDspin_z{0}'.format(i)]**2 + \n",
    "                                                    bulgedom_cen_DSage['zGDspin_z{0}'.format(i)]**2)\n",
    "    \n",
    "    \n",
    "    bulgedom_cen_DSage[\"haloJ_z{0}\".format(i)] = np.sqrt(bulgedom_cen_DSage['xhaloJ_z{0}'.format(i)]**2 + \n",
    "                                                    bulgedom_cen_DSage['yhaloJ_z{0}'.format(i)]**2 + \n",
    "                                                    bulgedom_cen_DSage['zhaloJ_z{0}'.format(i)]**2) \n",
    "  \n",
    "\n",
    "    bulgedom_cen_DSage[\"points_z{0}\".format(i)] = np.array(zip(bulgedom_cen_DSage[\"xpos_z{0}\".format(i)].ravel(),\n",
    "                                                     bulgedom_cen_DSage[\"ypos_z{0}\".format(i)].ravel(),\n",
    "                                                     bulgedom_cen_DSage[\"zpos_z{0}\".format(i)].ravel()))\n",
    "\n",
    "   \n"
   ]
  },
  {
   "cell_type": "code",
   "execution_count": 6,
   "metadata": {
    "collapsed": true
   },
   "outputs": [],
   "source": [
    "diskdom_cen_DSage = {}\n",
    "ii=0\n",
    "disk_gal_cen_DSage = [diskdom_cen_z0DSage, diskdom_cen_z1DSage, diskdom_cen_z2DSage, diskdom_cen_z3DSage]\n",
    "for ii in range(len(disk_gal_cen_DSage)):\n",
    "    diskdom_cen_DSage[\"Mvir_z{0}\".format(ii)] = 1e10*disk_gal_cen_DSage[ii]['Mvir']\n",
    "    diskdom_cen_DSage[\"TSM_z{0}\".format(ii)] = 1e10*disk_gal_cen_DSage[ii]['Total_Stellar_Mass']\n",
    "    diskdom_cen_DSage[\"CGMvir_z{0}\".format(ii)] = 1e10*disk_gal_cen_DSage[ii]['Central_Galaxy_Mvir']\n",
    "    diskdom_cen_DSage[\"bulgepseudo_z{0}\".format(ii)] = 1e10*disk_gal_cen_DSage[ii]['Pseudobulge_Mass']\n",
    "    diskdom_cen_DSage[\"DSM_z{0}\".format(ii)] = 1e10*disk_gal_cen_DSage[ii]['Disk_Stellar_Mass'] \n",
    "    diskdom_cen_DSage[\"ColdGM_z{0}\".format(i)] = 1e10*disk_gal_cen_DSage[i]['Cold_Gas_Mass']    \n",
    "    diskdom_cen_DSage[\"HotGM_z{0}\".format(i)] = 1e10*disk_gal_cen_DSage[i]['Hot_Gas_Mass']\n",
    "    diskdom_cen_DSage[\"EjectedGM_z{0}\".format(i)] = 1e10*disk_gal_cen_DSage[i]['Ejected_Gas_Mass']       \n",
    "    diskdom_cen_DSage[\"Vvir_z{0}\".format(ii)] = disk_gal_cen_DSage[ii]['Vvir']\n",
    "    diskdom_cen_DSage[\"Rvir_z{0}\".format(ii)] = disk_gal_cen_DSage[ii]['Rvir']    \n",
    "    diskdom_cen_DSage[\"xpos_z{0}\".format(ii)] = disk_gal_cen_DSage[ii]['X']\n",
    "    diskdom_cen_DSage[\"ypos_z{0}\".format(ii)] = disk_gal_cen_DSage[ii]['Y']\n",
    "    diskdom_cen_DSage[\"zpos_z{0}\".format(ii)] = disk_gal_cen_DSage[ii]['Z']\n",
    "    diskdom_cen_DSage[\"xvel_z{0}\".format(ii)] = disk_gal_cen_DSage[ii]['X_Velocity']\n",
    "    diskdom_cen_DSage[\"yvel_z{0}\".format(ii)] = disk_gal_cen_DSage[ii]['Y_Velocity']\n",
    "    diskdom_cen_DSage[\"zvel_z{0}\".format(ii)] = disk_gal_cen_DSage[ii]['Z_Velocity']\n",
    "    diskdom_cen_DSage[\"xSDspin_z{0}\".format(ii)] = disk_gal_cen_DSage[ii]['X_Spin_of_Stellar_Disk']\n",
    "    diskdom_cen_DSage[\"ySDspin_z{0}\".format(ii)] = disk_gal_cen_DSage[ii]['Y_Spin_of_Stellar_Disk']\n",
    "    diskdom_cen_DSage[\"zSDspin_z{0}\".format(ii)] = disk_gal_cen_DSage[ii]['Z_Spin_of_Stellar_Disk']\n",
    "    diskdom_cen_DSage[\"xGDspin_z{0}\".format(ii)] = disk_gal_cen_DSage[ii]['X_Spin_of_Gas_Disk']\n",
    "    diskdom_cen_DSage[\"yGDspin_z{0}\".format(ii)] = disk_gal_cen_DSage[ii]['Y_Spin_of_Gas_Disk']\n",
    "    diskdom_cen_DSage[\"zGDspin_z{0}\".format(ii)] = disk_gal_cen_DSage[ii]['Z_Spin_of_Gas_Disk']\n",
    "    diskdom_cen_DSage[\"xhaloJ_z{0}\".format(ii)] = disk_gal_cen_DSage[ii]['jX_Halo']\n",
    "    diskdom_cen_DSage[\"yhaloJ_z{0}\".format(ii)] = disk_gal_cen_DSage[ii]['jY_Halo']\n",
    "    diskdom_cen_DSage[\"zhaloJ_z{0}\".format(ii)] = disk_gal_cen_DSage[ii]['jZ_Halo']  \n",
    "    #diskdom_cen_DSage[\"NgalcountsR8_z{0}\".format(i)] = disk_gal_cen_DSage[i]['Ngal_counts_R8'] \n",
    "    diskdom_cen_DSage[\"JSD_z{0}\".format(ii)] = disk_gal_cen_DSage[ii]['j_Stellar_Disk']\n",
    " \n",
    "\n",
    "\n",
    "    diskdom_cen_DSage[\"pos_z{0}\".format(ii)] = np.sqrt(diskdom_cen_DSage['xpos_z{0}'.format(ii)]**2 + \n",
    "                                                    diskdom_cen_DSage['ypos_z{0}'.format(ii)]**2 + \n",
    "                                                    diskdom_cen_DSage['zpos_z{0}'.format(ii)]**2)\n",
    "    \n",
    "    diskdom_cen_DSage[\"vel_z{0}\".format(ii)] = np.sqrt(diskdom_cen_DSage['xvel_z{0}'.format(ii)]**2 + \n",
    "                                                    diskdom_cen_DSage['yvel_z{0}'.format(ii)]**2 + \n",
    "                                                    diskdom_cen_DSage['zvel_z{0}'.format(ii)]**2)\n",
    "\n",
    "    \n",
    "    diskdom_cen_DSage[\"SDspin_z{0}\".format(ii)] = np.sqrt(diskdom_cen_DSage['xSDspin_z{0}'.format(ii)]**2 + \n",
    "                                                    diskdom_cen_DSage['ySDspin_z{0}'.format(ii)]**2 + \n",
    "                                                    diskdom_cen_DSage['zSDspin_z{0}'.format(ii)]**2)\n",
    "    \n",
    "    diskdom_cen_DSage[\"GDspin_z{0}\".format(ii)] = np.sqrt(diskdom_cen_DSage['xGDspin_z{0}'.format(ii)]**2 + \n",
    "                                                    diskdom_cen_DSage['yGDspin_z{0}'.format(ii)]**2 + \n",
    "                                                    diskdom_cen_DSage['zGDspin_z{0}'.format(ii)]**2)\n",
    "    \n",
    "    \n",
    "    diskdom_cen_DSage[\"haloJ_z{0}\".format(ii)] = np.sqrt(diskdom_cen_DSage['xhaloJ_z{0}'.format(ii)]**2 + \n",
    "                                                    diskdom_cen_DSage['yhaloJ_z{0}'.format(ii)]**2 + \n",
    "                                                    diskdom_cen_DSage['zhaloJ_z{0}'.format(ii)]**2)   \n",
    "    \n",
    "    diskdom_cen_DSage[\"points_z{0}\".format(ii)] = np.array(zip(diskdom_cen_DSage[\"xpos_z{0}\".format(ii)].ravel(),\n",
    "                                                     diskdom_cen_DSage[\"ypos_z{0}\".format(ii)].ravel(),\n",
    "                                                     diskdom_cen_DSage[\"zpos_z{0}\".format(ii)].ravel()))\n",
    "    \n",
    "    diskdom_cen_DSage[\"tree_z{0}\".format(ii)] = sp.cKDTree(diskdom_cen_DSage[\"points_z{0}\".format(ii)])\n",
    "\n",
    "    diskdom_cen_DSage[\"ck_arr_10_z{0}\".format(ii)] = diskdom_cen_DSage[\"tree_z{0}\".format(ii)].query_ball_point(diskdom_cen_DSage[\"points_z{0}\".format(ii)], 8)\n",
    "\n",
    "    iii=0\n",
    "    diskdom_cen_DSage[\"ngal_arr_10_z{0}\".format(ii)] = np.array([len(diskdom_cen_DSage[\"ck_arr_10_z{0}\".format(ii)][iii])-1 for iii in range(len(diskdom_cen_DSage[\"ck_arr_10_z{0}\".format(ii)]))]).astype(float)\n",
    "\n",
    "   "
   ]
  },
  {
   "cell_type": "markdown",
   "metadata": {},
   "source": [
    "# Binning stellar mass"
   ]
  },
  {
   "cell_type": "code",
   "execution_count": 7,
   "metadata": {
    "collapsed": true
   },
   "outputs": [],
   "source": [
    "##################################### BULGE MASS #################################\n",
    "bulgemassbin_cen_DSage = {}\n",
    "i=0\n",
    "    \n",
    "for i in range(len(bulge_gal_cen_DSage)):\n",
    "    bulgemassbin_cen_DSage[\"bulge_idx_z{0}_SM7_8\".format(i)] = np.where(np.logical_and(bulgedom_cen_DSage[\"TSM_z{0}\".format(i)] >= 1e7, \n",
    "                                                                                     bulgedom_cen_DSage[\"TSM_z{0}\".format(i)] <= 1e8))[0]\n",
    "    \n",
    "    bulgemassbin_cen_DSage[\"bulge_idx_z{0}_SM8_9\".format(i)] = np.where(np.logical_and(bulgedom_cen_DSage[\"TSM_z{0}\".format(i)] > 1e8, \n",
    "                                                                                     bulgedom_cen_DSage[\"TSM_z{0}\".format(i)] <= 1e9))[0]\n",
    "    \n",
    "    bulgemassbin_cen_DSage[\"bulge_idx_z{0}_SM9_10\".format(i)] = np.where(np.logical_and(bulgedom_cen_DSage[\"TSM_z{0}\".format(i)] > 1e9, \n",
    "                                                                                     bulgedom_cen_DSage[\"TSM_z{0}\".format(i)] <= 1e10))[0]\n",
    "    \n",
    "    bulgemassbin_cen_DSage[\"bulge_idx_z{0}_SM10_11\".format(i)] = np.where(np.logical_and(bulgedom_cen_DSage[\"TSM_z{0}\".format(i)] > 1e10, \n",
    "                                                                                     bulgedom_cen_DSage[\"TSM_z{0}\".format(i)] <= 1e11))[0] \n",
    "   \n",
    "    bulgemassbin_cen_DSage[\"bulge_idx_z{0}_SM11_12\".format(i)] = np.where(np.logical_and(bulgedom_cen_DSage[\"TSM_z{0}\".format(i)] > 1e11, \n",
    "                                                                                     bulgedom_cen_DSage[\"TSM_z{0}\".format(i)] <= 1e12))[0]\n",
    "\n",
    "    \n",
    "    bulgemassbin_cen_DSage[\"bulgedom_z{0}_SM7_8\".format(i)] = bulge_gal_cen_DSage[i][bulgemassbin_cen_DSage[\"bulge_idx_z{0}_SM7_8\".format(i)]]\n",
    "    bulgemassbin_cen_DSage[\"bulgedom_z{0}_SM8_9\".format(i)] = bulge_gal_cen_DSage[i][bulgemassbin_cen_DSage[\"bulge_idx_z{0}_SM8_9\".format(i)]]\n",
    "    bulgemassbin_cen_DSage[\"bulgedom_z{0}_SM9_10\".format(i)] = bulge_gal_cen_DSage[i][bulgemassbin_cen_DSage[\"bulge_idx_z{0}_SM9_10\".format(i)]]\n",
    "    bulgemassbin_cen_DSage[\"bulgedom_z{0}_SM10_11\".format(i)] = bulge_gal_cen_DSage[i][bulgemassbin_cen_DSage[\"bulge_idx_z{0}_SM10_11\".format(i)]]  \n",
    "    bulgemassbin_cen_DSage[\"bulgedom_z{0}_SM11_12\".format(i)] = bulge_gal_cen_DSage[i][bulgemassbin_cen_DSage[\"bulge_idx_z{0}_SM11_12\".format(i)]]\n"
   ]
  },
  {
   "cell_type": "code",
   "execution_count": 8,
   "metadata": {
    "collapsed": true
   },
   "outputs": [],
   "source": [
    "################################################ DISK MASS ####################################################\n",
    "diskmassbin_cen_DSage = {}\n",
    "i=0\n",
    "    \n",
    "for i in range(len(disk_gal_cen_DSage)):\n",
    "    diskmassbin_cen_DSage[\"disk_idx_z{0}_SM7_8\".format(i)] = np.where(np.logical_and(diskdom_cen_DSage[\"TSM_z{0}\".format(i)] >= 1e7, \n",
    "                                                                                     diskdom_cen_DSage[\"TSM_z{0}\".format(i)] <= 1e8))[0]\n",
    "    \n",
    "    diskmassbin_cen_DSage[\"disk_idx_z{0}_SM8_9\".format(i)] = np.where(np.logical_and(diskdom_cen_DSage[\"TSM_z{0}\".format(i)] > 1e8, \n",
    "                                                                                     diskdom_cen_DSage[\"TSM_z{0}\".format(i)] <= 1e9))[0]\n",
    "    \n",
    "    diskmassbin_cen_DSage[\"disk_idx_z{0}_SM9_10\".format(i)] = np.where(np.logical_and(diskdom_cen_DSage[\"TSM_z{0}\".format(i)] > 1e9, \n",
    "                                                                                     diskdom_cen_DSage[\"TSM_z{0}\".format(i)] <= 1e10))[0]\n",
    "    \n",
    "    diskmassbin_cen_DSage[\"disk_idx_z{0}_SM10_11\".format(i)] = np.where(np.logical_and(diskdom_cen_DSage[\"TSM_z{0}\".format(i)] > 1e10, \n",
    "                                                                                     diskdom_cen_DSage[\"TSM_z{0}\".format(i)] <= 1e11))[0]\n",
    "                                                                                   \n",
    "    \n",
    "    diskmassbin_cen_DSage[\"disk_idx_z{0}_SM11_12\".format(i)] = np.where(np.logical_and(diskdom_cen_DSage[\"TSM_z{0}\".format(i)] > 1e11, \n",
    "                                                                                     diskdom_cen_DSage[\"TSM_z{0}\".format(i)] <= 1e12))[0]\n",
    "\n",
    "    \n",
    "    diskmassbin_cen_DSage[\"diskdom_z{0}_SM7_8\".format(i)] = disk_gal_cen_DSage[i][diskmassbin_cen_DSage[\"disk_idx_z{0}_SM7_8\".format(i)]]\n",
    "    diskmassbin_cen_DSage[\"diskdom_z{0}_SM8_9\".format(i)] = disk_gal_cen_DSage[i][diskmassbin_cen_DSage[\"disk_idx_z{0}_SM8_9\".format(i)]]\n",
    "    diskmassbin_cen_DSage[\"diskdom_z{0}_SM9_10\".format(i)] = disk_gal_cen_DSage[i][diskmassbin_cen_DSage[\"disk_idx_z{0}_SM9_10\".format(i)]]\n",
    "    diskmassbin_cen_DSage[\"diskdom_z{0}_SM10_11\".format(i)] = disk_gal_cen_DSage[i][diskmassbin_cen_DSage[\"disk_idx_z{0}_SM10_11\".format(i)]] \n",
    "    diskmassbin_cen_DSage[\"diskdom_z{0}_SM11_12\".format(i)] = disk_gal_cen_DSage[i][diskmassbin_cen_DSage[\"disk_idx_z{0}_SM11_12\".format(i)]]\n",
    "\n",
    "\n",
    "\n"
   ]
  },
  {
   "cell_type": "code",
   "execution_count": 9,
   "metadata": {
    "collapsed": true
   },
   "outputs": [],
   "source": [
    "#bulge_gal_cen_DSage = [bulgedom_cen_z0DSage, bulgedom_cen_z1DSage, bulgedom_cen_z2DSage, bulgedom_cen_z3DSage]\n",
    "i = 0\n",
    "j = 0\n",
    "for i in range(len(bulge_gal_cen_DSage)):\n",
    "    for j in range(5):\n",
    "        j = j+ 7\n",
    "        bulgedom_cen_DSage[\"Mvir_z{0}_SM{1}_{2}\".format(i,j,j+1)] = 1e10*bulgemassbin_cen_DSage['bulgedom_z{0}_SM{1}_{2}'.format(i,j,j+1)]['Mvir']\n",
    "        bulgedom_cen_DSage[\"TSM_z{0}_SM{1}_{2}\".format(i,j,j+1)] = 1e10*bulgemassbin_cen_DSage['bulgedom_z{0}_SM{1}_{2}'.format(i,j,j+1)]['Total_Stellar_Mass']\n",
    "        bulgedom_cen_DSage[\"CGMvir_z{0}_SM{1}_{2}\".format(i,j,j+1)] = 1e10*bulgemassbin_cen_DSage['bulgedom_z{0}_SM{1}_{2}'.format(i,j,j+1)]['Central_Galaxy_Mvir']\n",
    "        bulgedom_cen_DSage[\"bulgepseudo_z{0}_SM{1}_{2}\".format(i,j,j+1)] = 1e10*bulgemassbin_cen_DSage['bulgedom_z{0}_SM{1}_{2}'.format(i,j,j+1)]['Pseudobulge_Mass']\n",
    "        bulgedom_cen_DSage[\"DSM_z{0}_SM{1}_{2}\".format(i,j,j+1)] = 1e10*bulgemassbin_cen_DSage['bulgedom_z{0}_SM{1}_{2}'.format(i,j,j+1)]['Disk_Stellar_Mass']            \n",
    "        bulgedom_cen_DSage[\"Vvir_z{0}_SM{1}_{2}\".format(i,j,j+1)] = bulgemassbin_cen_DSage['bulgedom_z{0}_SM{1}_{2}'.format(i,j,j+1)]['Vvir']\n",
    "        bulgedom_cen_DSage[\"Rvir_z{0}_SM{1}_{2}\".format(i,j,j+1)] = bulgemassbin_cen_DSage['bulgedom_z{0}_SM{1}_{2}'.format(i,j,j+1)]['Rvir']\n",
    "        bulgedom_cen_DSage[\"xpos_z{0}_SM{1}_{2}\".format(i,j,j+1)] = bulgemassbin_cen_DSage['bulgedom_z{0}_SM{1}_{2}'.format(i,j,j+1)]['X']\n",
    "        bulgedom_cen_DSage[\"ypos_z{0}_SM{1}_{2}\".format(i,j,j+1)] = bulgemassbin_cen_DSage['bulgedom_z{0}_SM{1}_{2}'.format(i,j,j+1)]['Y']\n",
    "        bulgedom_cen_DSage[\"zpos_z{0}_SM{1}_{2}\".format(i,j,j+1)] = bulgemassbin_cen_DSage['bulgedom_z{0}_SM{1}_{2}'.format(i,j,j+1)]['Z']\n",
    "        bulgedom_cen_DSage[\"xvel_z{0}_SM{1}_{2}\".format(i,j,j+1)] = bulgemassbin_cen_DSage['bulgedom_z{0}_SM{1}_{2}'.format(i,j,j+1)]['X_Velocity']\n",
    "        bulgedom_cen_DSage[\"yvel_z{0}_SM{1}_{2}\".format(i,j,j+1)] = bulgemassbin_cen_DSage['bulgedom_z{0}_SM{1}_{2}'.format(i,j,j+1)]['Y_Velocity']\n",
    "        bulgedom_cen_DSage[\"zvel_z{0}_SM{1}_{2}\".format(i,j,j+1)] = bulgemassbin_cen_DSage['bulgedom_z{0}_SM{1}_{2}'.format(i,j,j+1)]['Z_Velocity']\n",
    "        bulgedom_cen_DSage[\"xSDspin_z{0}_SM{1}_{2}\".format(i,j,j+1)] = bulgemassbin_cen_DSage['bulgedom_z{0}_SM{1}_{2}'.format(i,j,j+1)]['X_Spin_of_Stellar_Disk']\n",
    "        bulgedom_cen_DSage[\"ySDspin_z{0}_SM{1}_{2}\".format(i,j,j+1)] = bulgemassbin_cen_DSage['bulgedom_z{0}_SM{1}_{2}'.format(i,j,j+1)]['Y_Spin_of_Stellar_Disk']\n",
    "        bulgedom_cen_DSage[\"zSDspin_z{0}_SM{1}_{2}\".format(i,j,j+1)] = bulgemassbin_cen_DSage['bulgedom_z{0}_SM{1}_{2}'.format(i,j,j+1)]['Z_Spin_of_Stellar_Disk']\n",
    "        bulgedom_cen_DSage[\"xGDspin_z{0}_SM{1}_{2}\".format(i,j,j+1)] = bulgemassbin_cen_DSage['bulgedom_z{0}_SM{1}_{2}'.format(i,j,j+1)]['X_Spin_of_Gas_Disk']\n",
    "        bulgedom_cen_DSage[\"yGDspin_z{0}_SM{1}_{2}\".format(i,j,j+1)] = bulgemassbin_cen_DSage['bulgedom_z{0}_SM{1}_{2}'.format(i,j,j+1)]['Y_Spin_of_Gas_Disk']\n",
    "        bulgedom_cen_DSage[\"zGDspin_z{0}_SM{1}_{2}\".format(i,j,j+1)] = bulgemassbin_cen_DSage['bulgedom_z{0}_SM{1}_{2}'.format(i,j,j+1)]['Z_Spin_of_Gas_Disk']\n",
    "        bulgedom_cen_DSage[\"xhaloJ_z{0}_SM{1}_{2}\".format(i,j,j+1)] = bulgemassbin_cen_DSage['bulgedom_z{0}_SM{1}_{2}'.format(i,j,j+1)]['jX_Halo']\n",
    "        bulgedom_cen_DSage[\"yhaloJ_z{0}_SM{1}_{2}\".format(i,j,j+1)] = bulgemassbin_cen_DSage['bulgedom_z{0}_SM{1}_{2}'.format(i,j,j+1)]['jY_Halo']\n",
    "        bulgedom_cen_DSage[\"zhaloJ_z{0}_SM{1}_{2}\".format(i,j,j+1)] = bulgemassbin_cen_DSage['bulgedom_z{0}_SM{1}_{2}'.format(i,j,j+1)]['jZ_Halo']      \n",
    "        #bulgedom_cen_DSage[\"NgalcountsR8_z{0}_SM{1}_{2}\".format(i,j,j+1)] = bulgemassbin_cen_DSage['bulgedom_z{0}_SM{1}_{2}'.format(i,j,j+1)]['Ngal_counts_R8']\n",
    "        bulgedom_cen_DSage[\"totparicles_z{0}_SM{1}_{2}\".format(i,j,j+1)] = bulgemassbin_cen_DSage['bulgedom_z{0}_SM{1}_{2}'.format(i,j,j+1)]['Total_Particles']\n",
    "    \n",
    "        bulgedom_cen_DSage[\"JSD_z{0}_SM{1}_{2}\".format(i,j,j+1)] = bulgemassbin_cen_DSage['bulgedom_z{0}_SM{1}_{2}'.format(i,j,j+1)]['j_Stellar_Disk']        \n",
    "        \n",
    "        \n",
    "        bulgedom_cen_DSage[\"pos_z{0}_SM{1}_{2}\".format(i,j,j+1)] = np.sqrt(bulgedom_cen_DSage['xpos_z{0}_SM{1}_{2}'.format(i,j,j+1)]**2 + \n",
    "                                                    bulgedom_cen_DSage['ypos_z{0}_SM{1}_{2}'.format(i,j,j+1)]**2 + \n",
    "                                                    bulgedom_cen_DSage['zpos_z{0}_SM{1}_{2}'.format(i,j,j+1)]**2)\n",
    "    \n",
    "        bulgedom_cen_DSage[\"vel_z{0}_SM{1}_{2}\".format(i,j,j+1)] = np.sqrt(bulgedom_cen_DSage['xvel_z{0}_SM{1}_{2}'.format(i,j,j+1)]**2 + \n",
    "                                                    bulgedom_cen_DSage['yvel_z{0}_SM{1}_{2}'.format(i,j,j+1)]**2 + \n",
    "                                                    bulgedom_cen_DSage['zvel_z{0}_SM{1}_{2}'.format(i,j,j+1)]**2)\n",
    "    \n",
    "        bulgedom_cen_DSage[\"SDspin_z{0}_SM{1}_{2}\".format(i,j,j+1)] = np.sqrt(bulgedom_cen_DSage['xSDspin_z{0}_SM{1}_{2}'.format(i,j,j+1)]**2 + \n",
    "                                                    bulgedom_cen_DSage['ySDspin_z{0}_SM{1}_{2}'.format(i,j,j+1)]**2 + \n",
    "                                                    bulgedom_cen_DSage['zSDspin_z{0}_SM{1}_{2}'.format(i,j,j+1)]**2)\n",
    "    \n",
    "        bulgedom_cen_DSage[\"GDspin_z{0}_SM{1}_{2}\".format(i,j,j+1)] = np.sqrt(bulgedom_cen_DSage['xGDspin_z{0}_SM{1}_{2}'.format(i,j,j+1)]**2 + \n",
    "                                                    bulgedom_cen_DSage['yGDspin_z{0}_SM{1}_{2}'.format(i,j,j+1)]**2 + \n",
    "                                                    bulgedom_cen_DSage['zGDspin_z{0}_SM{1}_{2}'.format(i,j,j+1)]**2)\n",
    "    \n",
    "        bulgedom_cen_DSage[\"haloJ_z{0}_SM{1}_{2}\".format(i,j,j+1)] = np.sqrt(bulgedom_cen_DSage['xhaloJ_z{0}_SM{1}_{2}'.format(i,j,j+1)]**2 + \n",
    "                                                    bulgedom_cen_DSage['yhaloJ_z{0}_SM{1}_{2}'.format(i,j,j+1)]**2 + \n",
    "                                                    bulgedom_cen_DSage['zhaloJ_z{0}_SM{1}_{2}'.format(i,j,j+1)]**2) \n",
    "    \n"
   ]
  },
  {
   "cell_type": "code",
   "execution_count": 10,
   "metadata": {
    "collapsed": true
   },
   "outputs": [],
   "source": [
    "#disk_gal_cen_DSage = [diskdom_cen_z0DSage, diskdom_cen_z1DSage, diskdom_cen_z2DSage, diskdom_cen_z3DSage]\n",
    "i=0\n",
    "j=0\n",
    "for i in range(len(disk_gal_cen_DSage)):\n",
    "    for j in range(5):\n",
    "        j = j + 7\n",
    "        diskdom_cen_DSage[\"Mvir_z{0}_SM{1}_{2}\".format(i,j,j+1)] = 1e10*diskmassbin_cen_DSage['diskdom_z{0}_SM{1}_{2}'.format(i,j,j+1)]['Mvir']\n",
    "        diskdom_cen_DSage[\"TSM_z{0}_SM{1}_{2}\".format(i,j,j+1)] = 1e10*diskmassbin_cen_DSage['diskdom_z{0}_SM{1}_{2}'.format(i,j,j+1)]['Total_Stellar_Mass']\n",
    "        diskdom_cen_DSage[\"CGMvir_z{0}_SM{1}_{2}\".format(i,j,j+1)] = 1e10*diskmassbin_cen_DSage['diskdom_z{0}_SM{1}_{2}'.format(i,j,j+1)]['Central_Galaxy_Mvir']\n",
    "        diskdom_cen_DSage[\"bulgepseudo_z{0}_SM{1}_{2}\".format(i,j,j+1)] = 1e10*diskmassbin_cen_DSage['diskdom_z{0}_SM{1}_{2}'.format(i,j,j+1)]['Pseudobulge_Mass']\n",
    "        diskdom_cen_DSage[\"DSM_z{0}_SM{1}_{2}\".format(i,j,j+1)] = 1e10*diskmassbin_cen_DSage['diskdom_z{0}_SM{1}_{2}'.format(i,j,j+1)]['Disk_Stellar_Mass']                    \n",
    "        diskdom_cen_DSage[\"Vvir_z{0}_SM{1}_{2}\".format(i,j,j+1)] = diskmassbin_cen_DSage['diskdom_z{0}_SM{1}_{2}'.format(i,j,j+1)]['Vvir']\n",
    "        diskdom_cen_DSage[\"Rvir_z{0}_SM{1}_{2}\".format(i,j,j+1)] = diskmassbin_cen_DSage['diskdom_z{0}_SM{1}_{2}'.format(i,j,j+1)]['Rvir']            \n",
    "        diskdom_cen_DSage[\"xpos_z{0}_SM{1}_{2}\".format(i,j,j+1)] = diskmassbin_cen_DSage['diskdom_z{0}_SM{1}_{2}'.format(i,j,j+1)]['X']\n",
    "        diskdom_cen_DSage[\"ypos_z{0}_SM{1}_{2}\".format(i,j,j+1)] = diskmassbin_cen_DSage['diskdom_z{0}_SM{1}_{2}'.format(i,j,j+1)]['Y']\n",
    "        diskdom_cen_DSage[\"zpos_z{0}_SM{1}_{2}\".format(i,j,j+1)] = diskmassbin_cen_DSage['diskdom_z{0}_SM{1}_{2}'.format(i,j,j+1)]['Z']\n",
    "        diskdom_cen_DSage[\"xvel_z{0}_SM{1}_{2}\".format(i,j,j+1)] = diskmassbin_cen_DSage['diskdom_z{0}_SM{1}_{2}'.format(i,j,j+1)]['X_Velocity']\n",
    "        diskdom_cen_DSage[\"yvel_z{0}_SM{1}_{2}\".format(i,j,j+1)] = diskmassbin_cen_DSage['diskdom_z{0}_SM{1}_{2}'.format(i,j,j+1)]['Y_Velocity']\n",
    "        diskdom_cen_DSage[\"zvel_z{0}_SM{1}_{2}\".format(i,j,j+1)] = diskmassbin_cen_DSage['diskdom_z{0}_SM{1}_{2}'.format(i,j,j+1)]['Z_Velocity']\n",
    "        diskdom_cen_DSage[\"xSDspin_z{0}_SM{1}_{2}\".format(i,j,j+1)] = diskmassbin_cen_DSage['diskdom_z{0}_SM{1}_{2}'.format(i,j,j+1)]['X_Spin_of_Stellar_Disk']\n",
    "        diskdom_cen_DSage[\"ySDspin_z{0}_SM{1}_{2}\".format(i,j,j+1)] = diskmassbin_cen_DSage['diskdom_z{0}_SM{1}_{2}'.format(i,j,j+1)]['Y_Spin_of_Stellar_Disk']\n",
    "        diskdom_cen_DSage[\"zSDspin_z{0}_SM{1}_{2}\".format(i,j,j+1)] = diskmassbin_cen_DSage['diskdom_z{0}_SM{1}_{2}'.format(i,j,j+1)]['Z_Spin_of_Stellar_Disk']\n",
    "        diskdom_cen_DSage[\"xGDspin_z{0}_SM{1}_{2}\".format(i,j,j+1)] = diskmassbin_cen_DSage['diskdom_z{0}_SM{1}_{2}'.format(i,j,j+1)]['X_Spin_of_Gas_Disk']\n",
    "        diskdom_cen_DSage[\"yGDspin_z{0}_SM{1}_{2}\".format(i,j,j+1)] = diskmassbin_cen_DSage['diskdom_z{0}_SM{1}_{2}'.format(i,j,j+1)]['Y_Spin_of_Gas_Disk']\n",
    "        diskdom_cen_DSage[\"zGDspin_z{0}_SM{1}_{2}\".format(i,j,j+1)] = diskmassbin_cen_DSage['diskdom_z{0}_SM{1}_{2}'.format(i,j,j+1)]['Z_Spin_of_Gas_Disk']\n",
    "        diskdom_cen_DSage[\"xhaloJ_z{0}_SM{1}_{2}\".format(i,j,j+1)] = diskmassbin_cen_DSage['diskdom_z{0}_SM{1}_{2}'.format(i,j,j+1)]['jX_Halo']\n",
    "        diskdom_cen_DSage[\"yhaloJ_z{0}_SM{1}_{2}\".format(i,j,j+1)] = diskmassbin_cen_DSage['diskdom_z{0}_SM{1}_{2}'.format(i,j,j+1)]['jY_Halo']\n",
    "        diskdom_cen_DSage[\"zhaloJ_z{0}_SM{1}_{2}\".format(i,j,j+1)] = diskmassbin_cen_DSage['diskdom_z{0}_SM{1}_{2}'.format(i,j,j+1)]['jZ_Halo']      \n",
    "        #diskdom_cen_DSage[\"NgalcountsR8_z{0}_SM{1}_{2}\".format(i,j,j+1)] = diskmassbin_cen_DSage['diskdom_z{0}_SM{1}_{2}'.format(i,j,j+1)]['Ngal_counts_R8']    \n",
    "        diskdom_cen_DSage[\"totparicles_z{0}_SM{1}_{2}\".format(i,j,j+1)] = diskmassbin_cen_DSage['diskdom_z{0}_SM{1}_{2}'.format(i,j,j+1)]['Total_Particles']    \n",
    "        diskdom_cen_DSage[\"JSD_z{0}_SM{1}_{2}\".format(i,j,j+1)] = diskmassbin_cen_DSage['diskdom_z{0}_SM{1}_{2}'.format(i,j,j+1)]['j_Stellar_Disk']        \n",
    "        \n",
    "        \n",
    "        \n",
    "        diskdom_cen_DSage[\"pos_z{0}_SM{1}_{2}\".format(i,j,j+1)] = np.sqrt(diskdom_cen_DSage['xpos_z{0}_SM{1}_{2}'.format(i,j,j+1)]**2 + \n",
    "                                                    diskdom_cen_DSage['ypos_z{0}_SM{1}_{2}'.format(i,j,j+1)]**2 + \n",
    "                                                    diskdom_cen_DSage['zpos_z{0}_SM{1}_{2}'.format(i,j,j+1)]**2)\n",
    "    \n",
    "        diskdom_cen_DSage[\"vel_z{0}_SM{1}_{2}\".format(i,j,j+1)] = np.sqrt(diskdom_cen_DSage['xvel_z{0}_SM{1}_{2}'.format(i,j,j+1)]**2 + \n",
    "                                                    diskdom_cen_DSage['yvel_z{0}_SM{1}_{2}'.format(i,j,j+1)]**2 + \n",
    "                                                    diskdom_cen_DSage['zvel_z{0}_SM{1}_{2}'.format(i,j,j+1)]**2)\n",
    "    \n",
    "        diskdom_cen_DSage[\"SDspin_z{0}_SM{1}_{2}\".format(i,j,j+1)] = np.sqrt(diskdom_cen_DSage['xSDspin_z{0}_SM{1}_{2}'.format(i,j,j+1)]**2 + \n",
    "                                                    diskdom_cen_DSage['ySDspin_z{0}_SM{1}_{2}'.format(i,j,j+1)]**2 + \n",
    "                                                    diskdom_cen_DSage['zSDspin_z{0}_SM{1}_{2}'.format(i,j,j+1)]**2)\n",
    "    \n",
    "        diskdom_cen_DSage[\"GDspin_z{0}_SM{1}_{2}\".format(i,j,j+1)] = np.sqrt(diskdom_cen_DSage['xGDspin_z{0}_SM{1}_{2}'.format(i,j,j+1)]**2 + \n",
    "                                                    diskdom_cen_DSage['yGDspin_z{0}_SM{1}_{2}'.format(i,j,j+1)]**2 + \n",
    "                                                    diskdom_cen_DSage['zGDspin_z{0}_SM{1}_{2}'.format(i,j,j+1)]**2)\n",
    "    \n",
    "        diskdom_cen_DSage[\"haloJ_z{0}_SM{1}_{2}\".format(i,j,j+1)] = np.sqrt(diskdom_cen_DSage['xhaloJ_z{0}_SM{1}_{2}'.format(i,j,j+1)]**2 + \n",
    "                                                    diskdom_cen_DSage['yhaloJ_z{0}_SM{1}_{2}'.format(i,j,j+1)]**2 + \n",
    "                                                    diskdom_cen_DSage['zhaloJ_z{0}_SM{1}_{2}'.format(i,j,j+1)]**2) \n",
    "    \n",
    "\n",
    "    \n",
    "    "
   ]
  },
  {
   "cell_type": "markdown",
   "metadata": {},
   "source": [
    "# Disk lambda"
   ]
  },
  {
   "cell_type": "code",
   "execution_count": 11,
   "metadata": {
    "collapsed": true
   },
   "outputs": [],
   "source": [
    "i = 0\n",
    "j = 0\n",
    "for i in range(len(bulge_gal_cen_DSage)):\n",
    "    for j in range(5):\n",
    "        j = j + 7        \n",
    "        bulgedom_cen_DSage[\"slambda_z{0}_SM{1}_{2}\".format(i,j,j+1)] = bulgedom_cen_DSage[\"JSD_z{0}_SM{1}_{2}\".format(i,j,j+1)]/(np.sqrt(2)*bulgedom_cen_DSage[\"Vvir_z{0}_SM{1}_{2}\".format(i,j,j+1)]*\n",
    "                                                                bulgedom_cen_DSage[\"Rvir_z{0}_SM{1}_{2}\".format(i,j,j+1)])\n",
    "\n",
    "\n",
    "n1 = 0\n",
    "n2 = 0\n",
    "for n1 in range(len(disk_gal_cen_DSage)):\n",
    "    for n2 in range(5):\n",
    "        n2 = n2 + 7\n",
    "        diskdom_cen_DSage[\"slambda_z{0}_SM{1}_{2}\".format(n1,n2,n2+1)] = diskdom_cen_DSage[\"JSD_z{0}_SM{1}_{2}\".format(n1,n2,n2+1)]/(np.sqrt(2)*diskdom_cen_DSage[\"Vvir_z{0}_SM{1}_{2}\".format(n1,n2,n2+1)]*\n",
    "                                                                diskdom_cen_DSage[\"Rvir_z{0}_SM{1}_{2}\".format(n1,n2,n2+1)])\n",
    "\n"
   ]
  },
  {
   "cell_type": "code",
   "execution_count": 17,
   "metadata": {
    "collapsed": true
   },
   "outputs": [],
   "source": [
    "########DSAGE#########    make a function that does the binning mean and std of the mean\n",
    "failval = np.nan\n",
    "# failval = -999\n",
    "mean_func = np.nanmean\n",
    "std_func = np.nanstd\n",
    "Mvir_bins = np.linspace(0, 50, 12)\n",
    "\n",
    "def meanbin(a, b):\n",
    "    idx_Mvir = np.digitize(a, Mvir_bins)\n",
    "    mean_a = np.array([ mean_func(a[idx_Mvir==ii]) if len(a[idx_Mvir==ii]) > 0 else failval for ii in range(1, len(Mvir_bins))])\n",
    "    mean_b = np.array([ mean_func(b[idx_Mvir==ii]) if len(a[idx_Mvir==ii]) > 0 else failval for ii in range(1, len(Mvir_bins))])\n",
    "    return mean_a, mean_b\n",
    "\n",
    "\n",
    "\n",
    "def stdbin(a, b):\n",
    "    idx_Mvir = np.digitize(a, Mvir_bins)\n",
    "    std_a = np.array([ std_func(a[idx_Mvir==ii]) if len(a[idx_Mvir==ii]) > 0 else failval for ii in range(1, len(Mvir_bins))])\n",
    "    std_b = np.array([ std_func(b[idx_Mvir==ii])/np.sqrt(len(b[idx_Mvir==ii])) if len(a[idx_Mvir==ii]) > 0 else failval for ii in range(1, len(Mvir_bins))])\n",
    "    #/np.sqrt(len(b[idx_Mvir==ii]))\n",
    "    return std_a, std_b"
   ]
  },
  {
   "cell_type": "code",
   "execution_count": 18,
   "metadata": {
    "collapsed": true
   },
   "outputs": [],
   "source": [
    "i = 0\n",
    "j = 0\n",
    "for i in range(len(bulge_gal_cen_DSage)):\n",
    "    for j in range(4):\n",
    "        j = j + 8 \n",
    "\n",
    "\n",
    "        bulgedom_cen_DSage[\"points_z{0}_SM{1}_{2}\".format(i,j,j+1)] = np.array(zip(bulgedom_cen_DSage[\"xpos_z{0}_SM{1}_{2}\".format(i,j,j+1)].ravel(), \n",
    "                                                                           bulgedom_cen_DSage[\"ypos_z{0}_SM{1}_{2}\".format(i,j,j+1)].ravel(), \n",
    "                                                                           bulgedom_cen_DSage[\"zpos_z{0}_SM{1}_{2}\".format(i,j,j+1)].ravel()))\n",
    "        \n",
    "        bulgedom_cen_DSage[\"tree_z{0}_SM{1}_{2}\".format(i,j,j+1)] = sp.cKDTree(bulgedom_cen_DSage[\"points_z{0}_SM{1}_{2}\".format(i,j,j+1)])\n",
    "\n",
    "\n",
    "        bulgedom_cen_DSage[\"ck_arr_10_z{0}_SM{1}_{2}\".format(i,j,j+1)] = bulgedom_cen_DSage[\"tree_z{0}_SM{1}_{2}\".format(i,j,j+1)].query_ball_point(bulgedom_cen_DSage[\"points_z{0}_SM{1}_{2}\".format(i,j,j+1)], 8)\n",
    "\n",
    "        ii=0\n",
    "        bulgedom_cen_DSage[\"ngal_arr_10_z{0}_SM{1}_{2}\".format(i,j,j+1)] = np.array([len(bulgedom_cen_DSage[\"ck_arr_10_z{0}_SM{1}_{2}\".format(i,j,j+1)][ii])-1 for ii in range(len(bulgedom_cen_DSage[\"ck_arr_10_z{0}_SM{1}_{2}\".format(i,j,j+1)]))]).astype(float)\n"
   ]
  },
  {
   "cell_type": "code",
   "execution_count": 19,
   "metadata": {
    "collapsed": true
   },
   "outputs": [],
   "source": [
    "i = 0\n",
    "j = 0\n",
    "for i in range(len(disk_gal_cen_DSage)):\n",
    "    for j in range(4):\n",
    "        j = j + 8 \n",
    "\n",
    "\n",
    "        diskdom_cen_DSage[\"points_z{0}_SM{1}_{2}\".format(i,j,j+1)] = np.array(zip(diskdom_cen_DSage[\"xpos_z{0}_SM{1}_{2}\".format(i,j,j+1)].ravel(), \n",
    "                                                                           diskdom_cen_DSage[\"ypos_z{0}_SM{1}_{2}\".format(i,j,j+1)].ravel(), \n",
    "                                                                           diskdom_cen_DSage[\"zpos_z{0}_SM{1}_{2}\".format(i,j,j+1)].ravel()))\n",
    "        \n",
    "        diskdom_cen_DSage[\"tree_z{0}_SM{1}_{2}\".format(i,j,j+1)] = sp.cKDTree(diskdom_cen_DSage[\"points_z{0}_SM{1}_{2}\".format(i,j,j+1)])\n",
    "\n",
    "\n",
    "        diskdom_cen_DSage[\"ck_arr_10_z{0}_SM{1}_{2}\".format(i,j,j+1)] = diskdom_cen_DSage[\"tree_z{0}_SM{1}_{2}\".format(i,j,j+1)].query_ball_point(diskdom_cen_DSage[\"points_z{0}_SM{1}_{2}\".format(i,j,j+1)], 8)\n",
    "\n",
    "        ii=0\n",
    "        diskdom_cen_DSage[\"ngal_arr_10_z{0}_SM{1}_{2}\".format(i,j,j+1)] = np.array([len(diskdom_cen_DSage[\"ck_arr_10_z{0}_SM{1}_{2}\".format(i,j,j+1)][ii])-1 for ii in range(len(diskdom_cen_DSage[\"ck_arr_10_z{0}_SM{1}_{2}\".format(i,j,j+1)]))]).astype(float)\n"
   ]
  },
  {
   "cell_type": "code",
   "execution_count": 20,
   "metadata": {
    "collapsed": true
   },
   "outputs": [],
   "source": [
    "n1 = 0\n",
    "n2 = 0\n",
    "m1 = 0\n",
    "m2 = 0\n",
    "\n",
    "for n1 in range(len(bulge_gal_cen_DSage)):\n",
    "    for n2 in range(4):\n",
    "        n2 = n2 + 8\n",
    "        bulgedom_cen_DSage['slambda_Ngalcounts_meanbin_z{0}_SM{1}_{2}'.format(n1,n2,n2+1)] = meanbin(bulgedom_cen_DSage['slambda_z{0}_SM{1}_{2}'.format(n1,n2,n2+1)], bulgedom_cen_DSage['ngal_arr_10_z{0}_SM{1}_{2}'.format(n1,n2,n2+1)])\n",
    "        bulgedom_cen_DSage['slambda_Ngalcounts_stdbin_z{0}_SM{1}_{2}'.format(n1,n2,n2+1)] = stdbin(bulgedom_cen_DSage['slambda_z{0}_SM{1}_{2}'.format(n1,n2,n2+1)], bulgedom_cen_DSage['ngal_arr_10_z{0}_SM{1}_{2}'.format(n1,n2,n2+1)])\n",
    "        \n",
    "\n",
    "        \n",
    "\n",
    "for m1 in range(len(disk_gal_cen_DSage)):\n",
    "    for m2 in range(4):\n",
    "        m2 = m2 + 8\n",
    "        diskdom_cen_DSage['slambda_Ngalcounts_meanbin_z{0}_SM{1}_{2}'.format(m1,m2,m2+1)] = meanbin(diskdom_cen_DSage['slambda_z{0}_SM{1}_{2}'.format(m1,m2,m2+1)], diskdom_cen_DSage['ngal_arr_10_z{0}_SM{1}_{2}'.format(m1,m2,m2+1)])\n",
    "        diskdom_cen_DSage['slambda_Ngalcounts_stdbin_z{0}_SM{1}_{2}'.format(m1,m2,m2+1)] = stdbin(diskdom_cen_DSage['slambda_z{0}_SM{1}_{2}'.format(m1,m2,m2+1)], diskdom_cen_DSage['ngal_arr_10_z{0}_SM{1}_{2}'.format(m1,m2,m2+1)])\n"
   ]
  },
  {
   "cell_type": "code",
   "execution_count": 21,
   "metadata": {
    "collapsed": false
   },
   "outputs": [
    {
     "data": {
      "text/plain": [
       "<matplotlib.figure.Figure at 0x7ff13e27a350>"
      ]
     },
     "metadata": {},
     "output_type": "display_data"
    },
    {
     "data": {
      "image/png": "[encoded data removed]",
      "text/plain": [
       "<matplotlib.figure.Figure at 0x7ff1c82f3e10>"
      ]
     },
     "metadata": {},
     "output_type": "display_data"
    }
   ],
   "source": [
    "plt.figure(figsize=(10, 8))\n",
    "fig = plt.figure(facecolor='white')\n",
    "\n",
    "plt.subplot(221)\n",
    "plt.errorbar(bulgedom_cen_DSage['slambda_Ngalcounts_meanbin_z0_SM10_11'][0],\n",
    "             bulgedom_cen_DSage['slambda_Ngalcounts_meanbin_z0_SM10_11'][1],\n",
    "            yerr=bulgedom_cen_DSage['slambda_Ngalcounts_stdbin_z0_SM10_11'][1],\n",
    "            marker='o', color='r', label='Bulge 10-11')\n",
    "\n",
    "plt.errorbar(diskdom_cen_DSage['slambda_Ngalcounts_meanbin_z0_SM10_11'][0],\n",
    "             diskdom_cen_DSage['slambda_Ngalcounts_meanbin_z0_SM10_11'][1],\n",
    "            yerr=diskdom_cen_DSage['slambda_Ngalcounts_stdbin_z0_SM10_11'][1],\n",
    "            marker='o', color='b', label='Disk 10-11')\n",
    "\n",
    "plt.title('Stellar Mass bins at z=0')\n",
    "#plt.xlim(0, 1)\n",
    "plt.ylim(-1, 21)\n",
    "plt.xlabel('$\\lambda_{Disk Bullock}$',  fontsize=10)\n",
    "plt.ylabel('Ngal Counts for R=8Mpc/h',  fontsize=10)\n",
    "#plt.title('Central Galaxies Mvir vs. Stellar Mass ')\n",
    "plt.legend(loc=3, numpoints=1)\n",
    "#plt.axis([1e11, 1e15, 1e9, 1e12])\n",
    "\n",
    "plt.subplot(222)\n",
    "plt.errorbar(bulgedom_cen_DSage['slambda_Ngalcounts_meanbin_z0_SM11_12'][0],\n",
    "             bulgedom_cen_DSage['slambda_Ngalcounts_meanbin_z0_SM11_12'][1],\n",
    "            yerr=bulgedom_cen_DSage['slambda_Ngalcounts_stdbin_z0_SM11_12'][1],\n",
    "            marker='o', color='r', label='Bulge 11-12')\n",
    "\n",
    "plt.errorbar(diskdom_cen_DSage['slambda_Ngalcounts_meanbin_z0_SM11_12'][0],\n",
    "             diskdom_cen_DSage['slambda_Ngalcounts_meanbin_z0_SM11_12'][1],\n",
    "            yerr=diskdom_cen_DSage['slambda_Ngalcounts_stdbin_z0_SM11_12'][1],\n",
    "            marker='o', color='b', label='Disk 11-12')\n",
    "\n",
    "\n",
    "#plt.xlim(0, 1)\n",
    "plt.ylim(-1, 21)\n",
    "plt.xlabel('$\\lambda_{Disk Bullock}$',  fontsize=10)\n",
    "plt.ylabel('Ngal Counts for R=8Mpc/h',  fontsize=10)\n",
    "#plt.title('Central Galaxies Mvir vs. Stellar Mass ')\n",
    "plt.legend(loc=3, numpoints=1)\n",
    "#plt.axis([1e11, 1e15, 1e9, 1e12])\n",
    "\n",
    "\n",
    "plt.subplots_adjust(top=0.92, bottom=0.001, left=0.10, right=0.95, hspace=0.6,\n",
    "                    wspace=0.35)\n",
    "plt.style.use('seaborn-notebook')\n",
    "\n",
    "plt.tight_layout()\n",
    "#plt.savefig('morphdensity_Centrals_stellarSpin_lambdavsRvir_SMbin10-12_DSAGE_z0.png', dpi=100)\n",
    "\n",
    "plt.show()"
   ]
  },
  {
   "cell_type": "code",
   "execution_count": 25,
   "metadata": {
    "collapsed": true
   },
   "outputs": [],
   "source": [
    "n1 = 0\n",
    "n2 = 0\n",
    "m1 = 0\n",
    "m2 = 0\n",
    "Mvir_bins = np.logspace(10, 12, 12)\n",
    "\n",
    "for n1 in range(len(bulge_gal_cen_DSage)):\n",
    "    for n2 in range(4):\n",
    "        n2 = n2 + 8\n",
    "        bulgedom_cen_DSage['TSM_Ngalcounts_meanbin_z{0}_SM{1}_{2}'.format(n1,n2,n2+1)] = meanbin(bulgedom_cen_DSage['TSM_z{0}_SM{1}_{2}'.format(n1,n2,n2+1)], bulgedom_cen_DSage['ngal_arr_10_z{0}_SM{1}_{2}'.format(n1,n2,n2+1)])\n",
    "        bulgedom_cen_DSage['TSM_Ngalcounts_stdbin_z{0}_SM{1}_{2}'.format(n1,n2,n2+1)] = stdbin(bulgedom_cen_DSage['TSM_z{0}_SM{1}_{2}'.format(n1,n2,n2+1)], bulgedom_cen_DSage['ngal_arr_10_z{0}_SM{1}_{2}'.format(n1,n2,n2+1)])\n",
    "        \n",
    "\n",
    "        \n",
    "\n",
    "for m1 in range(len(disk_gal_cen_DSage)):\n",
    "    for m2 in range(4):\n",
    "        m2 = m2 + 8\n",
    "        diskdom_cen_DSage['TSM_Ngalcounts_meanbin_z{0}_SM{1}_{2}'.format(m1,m2,m2+1)] = meanbin(diskdom_cen_DSage['TSM_z{0}_SM{1}_{2}'.format(m1,m2,m2+1)], diskdom_cen_DSage['ngal_arr_10_z{0}_SM{1}_{2}'.format(m1,m2,m2+1)])\n",
    "        diskdom_cen_DSage['TSM_Ngalcounts_stdbin_z{0}_SM{1}_{2}'.format(m1,m2,m2+1)] = stdbin(diskdom_cen_DSage['TSM_z{0}_SM{1}_{2}'.format(m1,m2,m2+1)], diskdom_cen_DSage['ngal_arr_10_z{0}_SM{1}_{2}'.format(m1,m2,m2+1)])\n"
   ]
  },
  {
   "cell_type": "code",
   "execution_count": 26,
   "metadata": {
    "collapsed": false
   },
   "outputs": [
    {
     "data": {
      "text/plain": [
       "<matplotlib.figure.Figure at 0x7ff13e4ea710>"
      ]
     },
     "metadata": {},
     "output_type": "display_data"
    },
    {
     "data": {
      "image/png": "[encoded data removed]",
      "text/plain": [
       "<matplotlib.figure.Figure at 0x7ff13fd2f790>"
      ]
     },
     "metadata": {},
     "output_type": "display_data"
    }
   ],
   "source": [
    "plt.figure(figsize=(10, 8))\n",
    "fig = plt.figure(facecolor='white')\n",
    "\n",
    "plt.subplot(221)\n",
    "plt.errorbar(bulgedom_cen_DSage['TSM_Ngalcounts_meanbin_z0_SM10_11'][0],\n",
    "             bulgedom_cen_DSage['TSM_Ngalcounts_meanbin_z0_SM10_11'][1],\n",
    "            yerr=bulgedom_cen_DSage['TSM_Ngalcounts_stdbin_z0_SM10_11'][1],\n",
    "            marker='o', color='r', label='Bulge 10-11')\n",
    "\n",
    "plt.errorbar(diskdom_cen_DSage['TSM_Ngalcounts_meanbin_z0_SM10_11'][0],\n",
    "             diskdom_cen_DSage['TSM_Ngalcounts_meanbin_z0_SM10_11'][1],\n",
    "            yerr=diskdom_cen_DSage['TSM_Ngalcounts_stdbin_z0_SM10_11'][1],\n",
    "            marker='o', color='b', label='Disk 10-11')\n",
    "\n",
    "plt.title('Stellar Mass bins at z=0')\n",
    "#plt.xlim(0, 1)\n",
    "#plt.ylim(-1, 21)\n",
    "plt.xlabel('TSM',  fontsize=10)\n",
    "plt.ylabel('Ngal Counts for R=8Mpc/h',  fontsize=10)\n",
    "#plt.title('Central Galaxies Mvir vs. Stellar Mass ')\n",
    "plt.legend(loc=3, numpoints=1)\n",
    "#plt.axis([1e11, 1e15, 1e9, 1e12])\n",
    "\n",
    "plt.subplot(222)\n",
    "plt.errorbar(bulgedom_cen_DSage['TSM_Ngalcounts_meanbin_z0_SM11_12'][0],\n",
    "             bulgedom_cen_DSage['TSM_Ngalcounts_meanbin_z0_SM11_12'][1],\n",
    "            yerr=bulgedom_cen_DSage['TSM_Ngalcounts_stdbin_z0_SM11_12'][1],\n",
    "            marker='o', color='r', label='Bulge 11-12')\n",
    "\n",
    "plt.errorbar(diskdom_cen_DSage['TSM_Ngalcounts_meanbin_z0_SM11_12'][0],\n",
    "             diskdom_cen_DSage['TSM_Ngalcounts_meanbin_z0_SM11_12'][1],\n",
    "            yerr=diskdom_cen_DSage['TSM_Ngalcounts_stdbin_z0_SM11_12'][1],\n",
    "            marker='o', color='b', label='Disk 11-12')\n",
    "\n",
    "\n",
    "#plt.xlim(0, 1)\n",
    "#plt.ylim(-1, 21)\n",
    "plt.xlabel('TSM',  fontsize=10)\n",
    "plt.ylabel('Ngal Counts for R=8Mpc/h',  fontsize=10)\n",
    "#plt.title('Central Galaxies Mvir vs. Stellar Mass ')\n",
    "plt.legend(loc=3, numpoints=1)\n",
    "#plt.axis([1e11, 1e15, 1e9, 1e12])\n",
    "\n",
    "\n",
    "plt.subplots_adjust(top=0.92, bottom=0.001, left=0.10, right=0.95, hspace=0.6,\n",
    "                    wspace=0.35)\n",
    "plt.style.use('seaborn-notebook')\n",
    "\n",
    "plt.tight_layout()\n",
    "#plt.savefig('morphdensity_Centrals_stellarSpin_lambdavsRvir_SMbin10-12_DSAGE_z0.png', dpi=100)\n",
    "\n",
    "plt.show()"
   ]
  },
  {
   "cell_type": "code",
   "execution_count": null,
   "metadata": {
    "collapsed": true
   },
   "outputs": [],
   "source": []
  },
  {
   "cell_type": "markdown",
   "metadata": {},
   "source": [
    "# Halo lambda"
   ]
  },
  {
   "cell_type": "code",
   "execution_count": 22,
   "metadata": {
    "collapsed": true
   },
   "outputs": [],
   "source": [
    "i = 0\n",
    "j = 0\n",
    "for i in range(len(bulge_gal_cen_DSage)):\n",
    "    for j in range(4):\n",
    "        j = j + 8       \n",
    "        bulgedom_cen_DSage[\"hlambda_z{0}_SM{1}_{2}\".format(i,j,j+1)] = bulgedom_cen_DSage[\"haloJ_z{0}_SM{1}_{2}\".format(i,j,j+1)]/(np.sqrt(2)*bulgedom_cen_DSage[\"Vvir_z{0}_SM{1}_{2}\".format(i,j,j+1)]*\n",
    "                                                                bulgedom_cen_DSage[\"Rvir_z{0}_SM{1}_{2}\".format(i,j,j+1)])\n",
    "\n",
    "\n",
    "n1 = 0\n",
    "n2 = 0\n",
    "for n1 in range(len(disk_gal_cen_DSage)):\n",
    "    for n2 in range(4):\n",
    "        n2 = n2 + 8\n",
    "        diskdom_cen_DSage[\"hlambda_z{0}_SM{1}_{2}\".format(n1,n2,n2+1)] = diskdom_cen_DSage[\"haloJ_z{0}_SM{1}_{2}\".format(n1,n2,n2+1)]/(np.sqrt(2)*diskdom_cen_DSage[\"Vvir_z{0}_SM{1}_{2}\".format(n1,n2,n2+1)]*\n",
    "                                                                diskdom_cen_DSage[\"Rvir_z{0}_SM{1}_{2}\".format(n1,n2,n2+1)])\n",
    "\n",
    " "
   ]
  },
  {
   "cell_type": "code",
   "execution_count": 23,
   "metadata": {
    "collapsed": false
   },
   "outputs": [],
   "source": [
    "Mvir_bins = np.linspace(0, 0.175, 10)\n",
    "n1 = 0\n",
    "n2 = 0\n",
    "m1 = 0\n",
    "m2 = 0\n",
    "\n",
    "for n1 in range(len(bulge_gal_cen_DSage)):\n",
    "    for n2 in range(4):\n",
    "        n2 = n2 + 8\n",
    "        bulgedom_cen_DSage['hlambda_Ngalcounts_meanbin_z{0}_SM{1}_{2}'.format(n1,n2,n2+1)] = meanbin(bulgedom_cen_DSage['hlambda_z{0}_SM{1}_{2}'.format(n1,n2,n2+1)], bulgedom_cen_DSage['ngal_arr_10_z{0}_SM{1}_{2}'.format(n1,n2,n2+1)])\n",
    "        bulgedom_cen_DSage['hlambda_Ngalcounts_stdbin_z{0}_SM{1}_{2}'.format(n1,n2,n2+1)] = stdbin(bulgedom_cen_DSage['hlambda_z{0}_SM{1}_{2}'.format(n1,n2,n2+1)], bulgedom_cen_DSage['ngal_arr_10_z{0}_SM{1}_{2}'.format(n1,n2,n2+1)])\n",
    "        \n",
    "\n",
    "        \n",
    "\n",
    "for m1 in range(len(disk_gal_cen_DSage)):\n",
    "    for m2 in range(4):\n",
    "        m2 = m2 + 8\n",
    "        diskdom_cen_DSage['hlambda_Ngalcounts_meanbin_z{0}_SM{1}_{2}'.format(m1,m2,m2+1)] = meanbin(diskdom_cen_DSage['hlambda_z{0}_SM{1}_{2}'.format(m1,m2,m2+1)], diskdom_cen_DSage['ngal_arr_10_z{0}_SM{1}_{2}'.format(m1,m2,m2+1)])\n",
    "        diskdom_cen_DSage['hlambda_Ngalcounts_stdbin_z{0}_SM{1}_{2}'.format(m1,m2,m2+1)] = stdbin(diskdom_cen_DSage['hlambda_z{0}_SM{1}_{2}'.format(m1,m2,m2+1)], diskdom_cen_DSage['ngal_arr_10_z{0}_SM{1}_{2}'.format(m1,m2,m2+1)])\n",
    "\n"
   ]
  },
  {
   "cell_type": "code",
   "execution_count": 24,
   "metadata": {
    "collapsed": false
   },
   "outputs": [
    {
     "data": {
      "text/plain": [
       "<matplotlib.figure.Figure at 0x7ff1be442690>"
      ]
     },
     "metadata": {},
     "output_type": "display_data"
    },
    {
     "data": {
      "image/png": "[encoded data removed]",
      "text/plain": [
       "<matplotlib.figure.Figure at 0x7ff13ff4a250>"
      ]
     },
     "metadata": {},
     "output_type": "display_data"
    }
   ],
   "source": [
    "plt.figure(figsize=(10, 8))\n",
    "fig = plt.figure(facecolor='white')\n",
    "\n",
    "plt.subplot(221)\n",
    "plt.errorbar(bulgedom_cen_DSage['hlambda_Ngalcounts_meanbin_z0_SM10_11'][0],\n",
    "             bulgedom_cen_DSage['hlambda_Ngalcounts_meanbin_z0_SM10_11'][1],\n",
    "            yerr=bulgedom_cen_DSage['hlambda_Ngalcounts_stdbin_z0_SM10_11'][1],\n",
    "            marker='o', color='r', label='Bulge 10-11')\n",
    "\n",
    "plt.errorbar(diskdom_cen_DSage['hlambda_Ngalcounts_meanbin_z0_SM10_11'][0],\n",
    "             diskdom_cen_DSage['hlambda_Ngalcounts_meanbin_z0_SM10_11'][1],\n",
    "            yerr=diskdom_cen_DSage['hlambda_Ngalcounts_stdbin_z0_SM10_11'][1],\n",
    "            marker='o', color='b', label='Disk 10-11')\n",
    "\n",
    "plt.title('Stellar Mass bins at z=0')\n",
    "#plt.xlim(0, 1)\n",
    "#plt.ylim(12, 22)\n",
    "plt.xlabel('$\\lambda_{Halo Bullock}$',  fontsize=10)\n",
    "plt.ylabel('Ngal Counts for R=8Mpc/h',  fontsize=10)\n",
    "#plt.title('Central Galaxies Mvir vs. Stellar Mass ')\n",
    "plt.legend(loc=3, numpoints=1)\n",
    "#plt.axis([1e11, 1e15, 1e9, 1e12])\n",
    "\n",
    "plt.subplot(222)\n",
    "plt.errorbar(bulgedom_cen_DSage['hlambda_Ngalcounts_meanbin_z0_SM11_12'][0],\n",
    "             bulgedom_cen_DSage['hlambda_Ngalcounts_meanbin_z0_SM11_12'][1],\n",
    "            yerr=bulgedom_cen_DSage['hlambda_Ngalcounts_stdbin_z0_SM11_12'][1],\n",
    "            marker='o', color='r', label='Bulge 11-12')\n",
    "\n",
    "plt.errorbar(diskdom_cen_DSage['hlambda_Ngalcounts_meanbin_z0_SM11_12'][0],\n",
    "             diskdom_cen_DSage['hlambda_Ngalcounts_meanbin_z0_SM11_12'][1],\n",
    "            yerr=diskdom_cen_DSage['hlambda_Ngalcounts_stdbin_z0_SM11_12'][1],\n",
    "            marker='o', color='b', label='Disk 11-12')\n",
    "\n",
    "\n",
    "#plt.xlim(0, 1)\n",
    "#plt.ylim(12, 22)\n",
    "plt.xlabel('$\\lambda_{Halo Bullock}$',  fontsize=10)\n",
    "plt.ylabel('Ngal Counts for R=8Mpc/h',  fontsize=10)\n",
    "#plt.title('Central Galaxies Mvir vs. Stellar Mass ')\n",
    "plt.legend(loc=3, numpoints=1)\n",
    "#plt.axis([1e11, 1e15, 1e9, 1e12])\n",
    "\n",
    "\n",
    "plt.subplots_adjust(top=0.92, bottom=0.001, left=0.10, right=0.95, hspace=0.6,\n",
    "                    wspace=0.35)\n",
    "plt.style.use('seaborn-notebook')\n",
    "\n",
    "plt.tight_layout()\n",
    "#plt.savefig('morphdensity_Centrals_haloSpin_lambdavsRvir_SMbin10-12_DSAGE_z0.png', dpi=100)\n",
    "\n",
    "plt.show()"
   ]
  },
  {
   "cell_type": "code",
   "execution_count": null,
   "metadata": {
    "collapsed": true
   },
   "outputs": [],
   "source": []
  },
  {
   "cell_type": "code",
   "execution_count": 6,
   "metadata": {
    "collapsed": true
   },
   "outputs": [],
   "source": [
    "####this was designed to count how many galaxies are in a radius R[Mpc/h]\n",
    "\n",
    "allgal_cen_DSage = [gal_cen_z0DSage, gal_cen_z1DSage, gal_cen_z2DSage, gal_cen_z3DSage]\n",
    "gal_cen_DSage = {}\n",
    "i=0\n",
    "\n",
    "for i in range(len(alldata_cen_DSage)):\n",
    "    gal_cen_DSage[\"points_z{0}\".format(i)] = np.array(zip(allgal_cen_DSage[i]['X'].ravel(),\n",
    "                                                     allgal_cen_DSage[i]['Y'].ravel(),\n",
    "                                                     allgal_cen_DSage[i]['Z'].ravel()))\n",
    "    \n",
    "    gal_cen_DSage[\"tree_z{0}\".format(i)] = sp.cKDTree(gal_cen_DSage[\"points_z{0}\".format(i)])\n",
    "\n",
    "    gal_cen_DSage[\"ck_arr_10_z{0}\".format(i)] = gal_cen_DSage[\"tree_z{0}\".format(i)].query_ball_point(gal_cen_DSage[\"points_z{0}\".format(i)], 8)\n",
    "\n",
    "    ii=0\n",
    "    gal_cen_DSage[\"ngal_arr_10_z{0}\".format(i)] = np.array([len(gal_cen_DSage[\"ck_arr_10_z{0}\".format(i)][ii])-1 for ii in range(len(gal_cen_DSage[\"ck_arr_10_z{0}\".format(i)]))]).astype(float)\n",
    "\n",
    "\n",
    "  "
   ]
  },
  {
   "cell_type": "code",
   "execution_count": 11,
   "metadata": {
    "collapsed": false
   },
   "outputs": [
    {
     "name": "stdout",
     "output_type": "stream",
     "text": [
      "ColDefs(\n",
      "    name = 'Total_Stellar_Mass'; format = 'D'; unit = 'unitless'\n",
      "    name = 'Disk_Stellar_Mass'; format = 'D'; unit = 'unitless'\n",
      "    name = 'Merger-driven_Bulge_Mass'; format = 'D'; unit = 'unitless'\n",
      "    name = 'Instability-driven_Bulge_Mass'; format = 'D'; unit = 'unitless'\n",
      "    name = 'Pseudobulge_Mass'; format = 'D'; unit = 'unitless'\n",
      "    name = 'Black_Hole_Mass'; format = 'D'; unit = 'unitless'\n",
      "    name = 'Cold_Gas_Mass'; format = 'D'; unit = 'unitless'\n",
      "    name = 'HI_Mass'; format = 'D'; unit = 'unitless'\n",
      "    name = 'H2_Mass'; format = 'D'; unit = 'unitless'\n",
      "    name = 'Hot_Gas_Mass'; format = 'D'; unit = 'unitless'\n",
      "    name = 'Ejected_Gas_Mass'; format = 'D'; unit = 'unitless'\n",
      "    name = 'Intracluster_Stars_Mass'; format = 'D'; unit = 'unitless'\n",
      "    name = 'Metals_Total_Stellar_Mass'; format = 'D'; unit = 'unitless'\n",
      "    name = 'Metals_Stellar_Disk_Mass'; format = 'D'; unit = 'unitless'\n",
      "    name = 'Metals_Merger_Bulge_Mass'; format = 'D'; unit = 'unitless'\n",
      "    name = 'Metals_Instability_Bulge_Mass'; format = 'D'; unit = 'unitless'\n",
      "    name = 'Metals_Pseudobulge_Mass'; format = 'D'; unit = 'unitless'\n",
      "    name = 'Metals_Cold_Gas_Mass'; format = 'D'; unit = 'unitless'\n",
      "    name = 'Metals_Hot_Gas_Mass'; format = 'D'; unit = 'unitless'\n",
      "    name = 'Metals_Ejected_Gas_Mass'; format = 'D'; unit = 'unitless'\n",
      "    name = 'Metals_IntraCluster_Stars_Mass'; format = 'D'; unit = 'unitless'\n",
      "    name = 'Galaxy_Classification'; format = 'J'; unit = 'unitless'\n",
      "    name = 'Cooling_Scale_Radius'; format = 'D'; unit = 'unitless'\n",
      "    name = 'Half-Mass_Radius'; format = 'D'; unit = 'unitless'\n",
      "    name = '90-Percent_Radius'; format = 'D'; unit = 'unitless'\n",
      "    name = 'HI_Radius'; format = 'D'; unit = 'unitless'\n",
      "    name = 'HI_H2_Transition_Radius'; format = 'D'; unit = 'unitless'\n",
      "    name = 'Star_Formation_Radius'; format = 'D'; unit = 'unitless'\n",
      "    name = 'Total_Star_Formation_Rate'; format = 'D'; unit = 'unitless'\n",
      "    name = 'Stellar_Metallicity_Gradient'; format = 'D'; unit = 'unitless'\n",
      "    name = 'Gas_Metallicity_Gradient'; format = 'D'; unit = 'unitless'\n",
      "    name = 'Hot_Gas_Cooling_Rate'; format = 'D'; unit = 'unitless'\n",
      "    name = 'AGN_Heating_Rate'; format = 'D'; unit = 'unitless'\n",
      "    name = 'Time_of_Last_Major_Merger'; format = 'D'; unit = 'unitless'\n",
      "    name = 'Supernova_Cold_Gas_Outflow_Rate'; format = 'D'; unit = 'unitless'\n",
      "    name = 'j_Stellar_Disk'; format = 'D'; unit = 'unitless'\n",
      "    name = 'j_PseudoBulge'; format = 'D'; unit = 'unitless'\n",
      "    name = 'j_Cold_Gas'; format = 'D'; unit = 'unitless'\n",
      "    name = 'j_HI'; format = 'D'; unit = 'unitless'\n",
      "    name = 'j_H2'; format = 'D'; unit = 'unitless'\n",
      "    name = 'X_Spin_of_Stellar_Disk'; format = 'D'; unit = 'unitless'\n",
      "    name = 'Y_Spin_of_Stellar_Disk'; format = 'D'; unit = 'unitless'\n",
      "    name = 'Z_Spin_of_Stellar_Disk'; format = 'D'; unit = 'unitless'\n",
      "    name = 'X_Spin_of_Gas_Disk'; format = 'D'; unit = 'unitless'\n",
      "    name = 'Y_Spin_of_Gas_Disk'; format = 'D'; unit = 'unitless'\n",
      "    name = 'Z_Spin_of_Gas_Disk'; format = 'D'; unit = 'unitless'\n",
      "    name = 'Mvir'; format = 'D'; unit = 'unitless'\n",
      "    name = 'Rvir'; format = 'D'; unit = 'unitless'\n",
      "    name = 'Vvir'; format = 'D'; unit = 'unitless'\n",
      "    name = 'Vmax'; format = 'D'; unit = 'unitless'\n",
      "    name = 'Vpeak'; format = 'D'; unit = 'unitless'\n",
      "    name = 'Velocity_Dispersion'; format = 'D'; unit = 'unitless'\n",
      "    name = 'jX_Halo'; format = 'D'; unit = 'unitless'\n",
      "    name = 'jY_Halo'; format = 'D'; unit = 'unitless'\n",
      "    name = 'jZ_Halo'; format = 'D'; unit = 'unitless'\n",
      "    name = 'Total_Particles'; format = 'J'; unit = 'unitless'\n",
      "    name = 'Maximum_Number_of_Particles_over_History'; format = 'J'; unit = 'unitless'\n",
      "    name = 'Central_Galaxy_Mvir'; format = 'D'; unit = 'unitless'\n",
      "    name = 'Subhalo_Mvir_at_Infall'; format = 'D'; unit = 'unitless'\n",
      "    name = 'Subhalo_Vvir_at_Infall'; format = 'D'; unit = 'unitless'\n",
      "    name = 'Subhalo_Vmax_at_Infall'; format = 'D'; unit = 'unitless'\n",
      "    name = 'X'; format = 'D'; unit = 'unitless'\n",
      "    name = 'Y'; format = 'D'; unit = 'unitless'\n",
      "    name = 'Z'; format = 'D'; unit = 'unitless'\n",
      "    name = 'X_Velocity'; format = 'D'; unit = 'unitless'\n",
      "    name = 'Y_Velocity'; format = 'D'; unit = 'unitless'\n",
      "    name = 'Z_Velocity'; format = 'D'; unit = 'unitless'\n",
      "    name = 'Snapshot_Number'; format = 'J'; unit = 'unitless'\n",
      "    name = 'Galaxy_ID'; format = 'K'; unit = 'unitless'\n",
      "    name = 'Central_Galaxy_ID'; format = 'K'; unit = 'unitless'\n",
      "    name = 'Simulation_Halo_ID'; format = 'J'; unit = 'unitless'\n",
      "    name = 'Ngal_counts_R8'; format = 'D'\n",
      ")\n"
     ]
    }
   ],
   "source": [
    "#####THis let's me add columns to an existing fits file and writes it in a new fits file\n",
    "\"\"\"\n",
    "cols = [] \n",
    "cols.append(\n",
    "    fits.Column(name='Ngal_counts_R8', format='D', array= gal_cen_DSage['ngal_arr_10_z3'])\n",
    "    )\n",
    "orig_cols = gal_cen_z3DSage.columns\n",
    "new_cols = fits.ColDefs(cols)\n",
    "hdu = fits.BinTableHDU.from_columns(orig_cols + new_cols)\n",
    "hdu.writeto('edited_tao.1957.0.fits')\n",
    "\n",
    "\"\"\""
   ]
  },
  {
   "cell_type": "code",
   "execution_count": 9,
   "metadata": {
    "collapsed": false
   },
   "outputs": [
    {
     "data": {
      "text/plain": [
       "131349"
      ]
     },
     "execution_count": 9,
     "metadata": {},
     "output_type": "execute_result"
    }
   ],
   "source": [
    "len(gal_sat_z0DSage['Total_Stellar_Mass'])"
   ]
  },
  {
   "cell_type": "code",
   "execution_count": 5,
   "metadata": {
    "collapsed": false
   },
   "outputs": [
    {
     "name": "stdout",
     "output_type": "stream",
     "text": [
      "[  7.54921389   7.50702858  10.77274799 ...,  77.20855713  72.68579102\n",
      "  67.36805725]\n"
     ]
    }
   ],
   "source": [
    "print data['X']"
   ]
  },
  {
   "cell_type": "code",
   "execution_count": null,
   "metadata": {
    "collapsed": true
   },
   "outputs": [],
   "source": [
    "\n",
    "\"\"\"\n",
    "\n",
    "        bulgedom_cen_DSage[\"points_z{0}_SM{1}_{2}\".format(i,j,j+1)] = np.array(zip(bulgedom_cen_DSage[\"xpos_z{0}_SM{1}_{2}\".format(i,j,j+1)].ravel(), \n",
    "                                                                           bulgedom_cen_DSage[\"ypos_z{0}_SM{1}_{2}\".format(i,j,j+1)].ravel(), \n",
    "                                                                           bulgedom_cen_DSage[\"zpos_z{0}_SM{1}_{2}\".format(i,j,j+1)].ravel()))\n",
    "        \n",
    "        bulgedom_cen_DSage[\"tree_z{0}_SM{1}_{2}\".format(i,j,j+1)] = sp.cKDTree(bulgedom_cen_DSage[\"points_z{0}_SM{1}_{2}\".format(i,j,j+1)])\n",
    "\n",
    "\n",
    "        bulgedom_cen_DSage[\"ck_arr_10_z{0}_SM{1}_{2}\".format(i,j,j+1)] = bulgedom_cen_DSage[\"tree_z{0}_SM{1}_{2}\".format(i,j,j+1)].query_ball_point(bulgedom_cen_DSage[\"points_z{0}_SM{1}_{2}\".format(i,j,j+1)], 8)\n",
    "\n",
    "        ii=0\n",
    "        bulgedom_cen_DSage[\"ngal_arr_10_z{0}_SM{1}_{2}\".format(i,j,j+1)] = np.array([len(bulgedom_cen_DSage[\"ck_arr_10_z{0}_SM{1}_{2}\".format(i,j,j+1)][ii])-1 for ii in range(len(bulgedom_cen_DSage[\"ck_arr_10_z{0}_SM{1}_{2}\".format(i,j,j+1)]))]).astype(float)\n",
    "\n",
    "\"\"\""
   ]
  }
 ],
 "metadata": {
  "anaconda-cloud": {},
  "kernelspec": {
   "display_name": "Python [conda root]",
   "language": "python",
   "name": "conda-root-py"
  },
  "language_info": {
   "codemirror_mode": {
    "name": "ipython",
    "version": 2
   },
   "file_extension": ".py",
   "mimetype": "text/x-python",
   "name": "python",
   "nbconvert_exporter": "python",
   "pygments_lexer": "ipython2",
   "version": "2.7.12"
  }
 },
 "nbformat": 4,
 "nbformat_minor": 2
}
