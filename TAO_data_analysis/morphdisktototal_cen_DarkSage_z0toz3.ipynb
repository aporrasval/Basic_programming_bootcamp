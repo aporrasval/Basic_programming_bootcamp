{
 "cells": [
  {
   "cell_type": "code",
   "execution_count": 1,
   "metadata": {
    "collapsed": true
   },
   "outputs": [],
   "source": [
    "from astropy.io import fits\n",
    "from scipy import stats\n",
    "import numpy as np\n",
    "import matplotlib.pyplot as plt\n",
    "\n",
    "load_z0DSage = fits.open('tao.1951.0.fits')\n",
    "load_z1DSage = fits.open('tao.1959.0.fits')\n",
    "load_z2DSage= fits.open('tao.1961.0.fits')\n",
    "load_z3DSage = fits.open('tao.1957.0.fits')\n",
    "\n",
    "data_z0DSage = load_z0DSage[1].data\n",
    "data_z1DSage = load_z1DSage[1].data\n",
    "data_z2DSage = load_z2DSage[1].data\n",
    "data_z3DSage = load_z3DSage[1].data"
   ]
  },
  {
   "cell_type": "code",
   "execution_count": 2,
   "metadata": {
    "collapsed": true
   },
   "outputs": [],
   "source": [
    "# Dividing sample between centrals and satellites for DARK SAGE\n",
    "idx_cen_z0DSage = np.where(data_z0DSage[:]['Galaxy_Classification'] == 0) [0]\n",
    "idx_sat_z0DSage  = np.where(data_z0DSage[:]['Galaxy_Classification'] == 1) [0]\n",
    "gal_cen_z0DSage = data_z0DSage[idx_cen_z0DSage]\n",
    "gal_sat_z0DSage = data_z0DSage[idx_sat_z0DSage]\n",
    "\n",
    "idx_cen_z1DSage = np.where(data_z1DSage[:]['Galaxy_Classification'] == 0) [0]\n",
    "idx_sat_z1DSage  = np.where(data_z1DSage[:]['Galaxy_Classification'] == 1) [0]\n",
    "gal_cen_z1DSage = data_z1DSage[idx_cen_z1DSage]\n",
    "gal_sat_z1DSage = data_z1DSage[idx_sat_z1DSage]\n",
    "\n",
    "idx_cen_z2DSage = np.where(data_z2DSage[:]['Galaxy_Classification'] == 0) [0]\n",
    "idx_sat_z2DSage  = np.where(data_z2DSage[:]['Galaxy_Classification'] == 1) [0]\n",
    "gal_cen_z2DSage = data_z2DSage[idx_cen_z2DSage]\n",
    "gal_sat_z2DSage = data_z2DSage[idx_sat_z2DSage]\n",
    "\n",
    "idx_cen_z3DSage = np.where(data_z3DSage[:]['Galaxy_Classification'] == 0) [0]\n",
    "idx_sat_z3DSage  = np.where(data_z3DSage[:]['Galaxy_Classification'] == 1) [0]\n",
    "gal_cen_z3DSage = data_z3DSage[idx_cen_z3DSage]\n",
    "gal_sat_z3DSage = data_z3DSage[idx_sat_z3DSage]\n"
   ]
  },
  {
   "cell_type": "code",
   "execution_count": 3,
   "metadata": {
    "collapsed": true
   },
   "outputs": [],
   "source": [
    "#### Taking all galaxies with TSM = 0 out of sample\n",
    "TSM_idx_cen_z0DSage = np.where(gal_cen_z0DSage[:]['Total_Stellar_Mass']!=0)[0]\n",
    "gal_cen_z0DSage = gal_cen_z0DSage[TSM_idx_cen_z0DSage]\n",
    "\n",
    "TSM_idx_cen_z1DSage = np.where(gal_cen_z1DSage[:]['Total_Stellar_Mass']!=0)[0]\n",
    "gal_cen_z1DSage = gal_cen_z1DSage[TSM_idx_cen_z1DSage]\n",
    "\n",
    "TSM_idx_cen_z2DSage = np.where(gal_cen_z2DSage[:]['Total_Stellar_Mass']!=0)[0]\n",
    "gal_cen_z2DSage = gal_cen_z2DSage[TSM_idx_cen_z2DSage]\n",
    "\n",
    "TSM_idx_cen_z3DSage = np.where(gal_cen_z3DSage[:]['Total_Stellar_Mass']!=0)[0]\n",
    "gal_cen_z3DSage = gal_cen_z3DSage[TSM_idx_cen_z3DSage]\n"
   ]
  },
  {
   "cell_type": "code",
   "execution_count": 4,
   "metadata": {
    "collapsed": true
   },
   "outputs": [],
   "source": [
    "#### Taking all galaxies with DSM = 0 out of sample\n",
    "DSM_idx_cen_z0DSage = np.where(gal_cen_z0DSage[:]['Disk_Stellar_Mass']!=0)[0]\n",
    "gal_cen_z0DSage = gal_cen_z0DSage[DSM_idx_cen_z0DSage]\n",
    "\n",
    "DSM_idx_cen_z1DSage = np.where(gal_cen_z1DSage[:]['Disk_Stellar_Mass']!=0)[0]\n",
    "gal_cen_z1DSage = gal_cen_z1DSage[DSM_idx_cen_z1DSage]\n",
    "\n",
    "DSM_idx_cen_z2DSage = np.where(gal_cen_z2DSage[:]['Disk_Stellar_Mass']!=0)[0]\n",
    "gal_cen_z2DSage = gal_cen_z2DSage[DSM_idx_cen_z2DSage]\n",
    "\n",
    "DSM_idx_cen_z3DSage = np.where(gal_cen_z3DSage[:]['Disk_Stellar_Mass']!=0)[0]\n",
    "gal_cen_z3DSage = gal_cen_z3DSage[DSM_idx_cen_z3DSage]\n"
   ]
  },
  {
   "cell_type": "code",
   "execution_count": null,
   "metadata": {
    "collapsed": true
   },
   "outputs": [],
   "source": [
    "allgal_cen_DSage = [gal_cen_z0DSage, gal_cen_z1DSage, gal_cen_z2DSage, gal_cen_z3DSage]\n",
    "gal_cen_DSage = {}\n",
    "i=0\n",
    "\n",
    "for i in range(len(allgal_cen_DSage)):\n",
    "    gal_cen_DSage[\"gal_idx_z{0}_SM7_8\".format(i)] = np.where(np.logical_and(1e10*allgal_cen_DSage[i]['Total_Stellar_Mass'] >= 1e7, \n",
    "                                                                                     1e10*allgal_cen_DSage[i]['Total_Stellar_Mass'] <= 1e8))[0]\n",
    "    \n",
    "    gal_cen_DSage[\"gal_idx_z{0}_SM8_9\".format(i)] = np.where(np.logical_and(1e10*allgal_cen_DSage[i]['Total_Stellar_Mass'] > 1e8, \n",
    "                                                                                     1e10*allgal_cen_DSage[i]['Total_Stellar_Mass'] <= 1e9))[0]\n",
    "    \n",
    "    gal_cen_DSage[\"gal_idx_z{0}_SM9_10\".format(i)] = np.where(np.logical_and(1e10*allgal_cen_DSage[i]['Total_Stellar_Mass'] > 1e9, \n",
    "                                                                                     1e10*allgal_cen_DSage[i]['Total_Stellar_Mass'] <= 1e10))[0]\n",
    "    \n",
    "    gal_cen_DSage[\"gal_idx_z{0}_SM10_11\".format(i)] = np.where(np.logical_and(1e10*allgal_cen_DSage[i]['Total_Stellar_Mass'] > 1e10, \n",
    "                                                                                     1e10*allgal_cen_DSage[i]['Total_Stellar_Mass'] <= 1e11))[0] \n",
    "   \n",
    "    gal_cen_DSage[\"gal_idx_z{0}_SM11_12\".format(i)] = np.where(np.logical_and(1e10*allgal_cen_DSage[i]['Total_Stellar_Mass'] > 1e11, \n",
    "                                                                                     1e10*allgal_cen_DSage[i]['Total_Stellar_Mass'] <= 1e12))[0]\n",
    "    \n",
    "\n",
    "    gal_cen_DSage[\"gal_z{0}_SM7_8\".format(i)] = allgal_cen_DSage[i][gal_cen_DSage[\"gal_idx_z{0}_SM7_8\".format(i)]]\n",
    "    gal_cen_DSage[\"gal_z{0}_SM8_9\".format(i)] = allgal_cen_DSage[i][gal_cen_DSage[\"gal_idx_z{0}_SM8_9\".format(i)]]\n",
    "    gal_cen_DSage[\"gal_z{0}_SM9_10\".format(i)] = allgal_cen_DSage[i][gal_cen_DSage[\"gal_idx_z{0}_SM9_10\".format(i)]]\n",
    "    gal_cen_DSage[\"gal_z{0}_SM10_11\".format(i)] = allgal_cen_DSage[i][gal_cen_DSage[\"gal_idx_z{0}_SM10_11\".format(i)]] \n",
    "    gal_cen_DSage[\"gal_z{0}_SM11_12\".format(i)] = allgal_cen_DSage[i][gal_cen_DSage[\"gal_idx_z{0}_SM11_12\".format(i)]]\n"
   ]
  },
  {
   "cell_type": "code",
   "execution_count": null,
   "metadata": {
    "collapsed": true
   },
   "outputs": [],
   "source": [
    "i=0\n",
    "j=0\n",
    "for i in range(len(allgal_cen_DSage)):\n",
    "    for j in range(5):\n",
    "        j = j + 7\n",
    "        gal_cen_DSage[\"morph_z{0}_SM{1}_{2}\".format(i,j,j+1)] = gal_cen_DSage['gal_z{0}_SM{1}_{2}'.format(i,j,j+1)]['Pseudobulge_Mass']/gal_cen_DSage['gal_z{0}_SM{1}_{2}'.format(i,j,j+1)]['Total_Stellar_Mass']\n",
    "                \n",
    "        gal_cen_DSage[\"xhaloJ_z{0}_SM{1}_{2}\".format(i,j,j+1)] = gal_cen_DSage['gal_z{0}_SM{1}_{2}'.format(i,j,j+1)]['jX_Halo']\n",
    "        gal_cen_DSage[\"yhaloJ_z{0}_SM{1}_{2}\".format(i,j,j+1)] = gal_cen_DSage['gal_z{0}_SM{1}_{2}'.format(i,j,j+1)]['jY_Halo']\n",
    "        gal_cen_DSage[\"zhaloJ_z{0}_SM{1}_{2}\".format(i,j,j+1)] = gal_cen_DSage['gal_z{0}_SM{1}_{2}'.format(i,j,j+1)]['jZ_Halo']      \n",
    "\n",
    "        gal_cen_DSage[\"haloJ_z{0}_SM{1}_{2}\".format(i,j,j+1)] = np.sqrt(gal_cen_DSage['xhaloJ_z{0}_SM{1}_{2}'.format(i,j,j+1)]**2 + \n",
    "                                                    gal_cen_DSage['yhaloJ_z{0}_SM{1}_{2}'.format(i,j,j+1)]**2 + \n",
    "                                                    gal_cen_DSage['zhaloJ_z{0}_SM{1}_{2}'.format(i,j,j+1)]**2) \n",
    "    \n",
    "\n",
    "\n",
    "        gal_cen_DSage[\"gal_hlambda_z{0}_SM{1}_{2}\".format(i,j,j+1)] = gal_cen_DSage['haloJ_z{0}_SM{1}_{2}'.format(i,j,j+1)]/(np.sqrt(2)*\n",
    "                                                                                                                             gal_cen_DSage[\"gal_z{0}_SM{1}_{2}\".format(i,j,j+1)]['Vvir']*\n",
    "                                                                                                                             gal_cen_DSage[\"gal_z{0}_SM{1}_{2}\".format(i,j,j+1)]['Rvir'])\n"
   ]
  },
  {
   "cell_type": "code",
   "execution_count": null,
   "metadata": {
    "collapsed": true
   },
   "outputs": [],
   "source": [
    "morph_cen_z0DSage = gal_cen_z0DSage['Disk_Stellar_Mass']/gal_cen_z0DSage['Total_Stellar_Mass']\n",
    "morph_cen_z1DSage = gal_cen_z1DSage['Disk_Stellar_Mass']/gal_cen_z1DSage['Total_Stellar_Mass']\n",
    "morph_cen_z2DSage = gal_cen_z2DSage['Disk_Stellar_Mass']/gal_cen_z2DSage['Total_Stellar_Mass']\n",
    "morph_cen_z3DSage = gal_cen_z3DSage['Disk_Stellar_Mass']/gal_cen_z3DSage['Total_Stellar_Mass']\n",
    "\n",
    "###### Redshift 0\n",
    "bulgedom_idx_cen_z0DSage = np.where(morph_cen_z0DSage > 0.5)[0]\n",
    "bulgedom_cen_z0DSage = gal_cen_z0DSage[bulgedom_idx_cen_z0DSage]\n",
    "\n",
    "diskdom_idx_cen_z0DSage = np.where(morph_cen_z0DSage < 0.5)[0]\n",
    "diskdom_cen_z0DSage = gal_cen_z0DSage[diskdom_idx_cen_z0DSage]\n",
    "\n",
    "###### Redshift 1\n",
    "bulgedom_idx_cen_z1DSage = np.where(morph_cen_z1DSage > 0.5)[0]\n",
    "bulgedom_cen_z1DSage = gal_cen_z1DSage[bulgedom_idx_cen_z1DSage]\n",
    "\n",
    "diskdom_idx_cen_z1DSage = np.where(morph_cen_z1DSage < 0.5)[0]\n",
    "diskdom_cen_z1DSage = gal_cen_z1DSage[diskdom_idx_cen_z1DSage]\n",
    "\n",
    "###### Redshift 2\n",
    "bulgedom_idx_cen_z2DSage = np.where(morph_cen_z2DSage > 0.5)[0]\n",
    "bulgedom_cen_z2DSage = gal_cen_z2DSage[bulgedom_idx_cen_z2DSage]\n",
    "\n",
    "diskdom_idx_cen_z2DSage = np.where(morph_cen_z2DSage < 0.5)[0]\n",
    "diskdom_cen_z2DSage = gal_cen_z2DSage[diskdom_idx_cen_z2DSage]\n",
    "\n",
    "###### Redshift 3\n",
    "bulgedom_idx_cen_z3DSage = np.where(morph_cen_z3DSage > 0.5)[0]\n",
    "bulgedom_cen_z3DSage = gal_cen_z3DSage[bulgedom_idx_cen_z3DSage]\n",
    "\n",
    "diskdom_idx_cen_z3DSage = np.where(morph_cen_z3DSage < 0.5)[0]\n",
    "diskdom_cen_z3DSage = gal_cen_z3DSage[diskdom_idx_cen_z3DSage]"
   ]
  },
  {
   "cell_type": "code",
   "execution_count": null,
   "metadata": {
    "collapsed": true
   },
   "outputs": [],
   "source": [
    "bulgedom_cen_DSage = {}\n",
    "bulge_gal_cen_DSage = [bulgedom_cen_z0DSage, bulgedom_cen_z1DSage, bulgedom_cen_z2DSage, bulgedom_cen_z3DSage]\n",
    "i=0\n",
    "for i in range(len(bulge_gal_cen_DSage)):\n",
    "    \n",
    "    bulgedom_cen_DSage[\"Mvir_z{0}\".format(i)] = 1e10*bulge_gal_cen_DSage[i]['Mvir']\n",
    "    bulgedom_cen_DSage[\"TSM_z{0}\".format(i)] = 1e10*bulge_gal_cen_DSage[i]['Total_Stellar_Mass']    \n",
    "    bulgedom_cen_DSage[\"CGMvir_z{0}\".format(i)] = 1e10*bulge_gal_cen_DSage[i]['Central_Galaxy_Mvir']\n",
    "    bulgedom_cen_DSage[\"bulgepseudo_z{0}\".format(i)] = 1e10*bulge_gal_cen_DSage[i]['Pseudobulge_Mass']\n",
    "    bulgedom_cen_DSage[\"DSM_z{0}\".format(i)] = 1e10*bulge_gal_cen_DSage[i]['Disk_Stellar_Mass']\n",
    "    bulgedom_cen_DSage[\"Vvir_z{0}\".format(i)] = bulge_gal_cen_DSage[i]['Vvir']\n",
    "    bulgedom_cen_DSage[\"Rvir_z{0}\".format(i)] = bulge_gal_cen_DSage[i]['Rvir']    \n",
    "    bulgedom_cen_DSage[\"xpos_z{0}\".format(i)] = bulge_gal_cen_DSage[i]['X']\n",
    "    bulgedom_cen_DSage[\"ypos_z{0}\".format(i)] = bulge_gal_cen_DSage[i]['Y']\n",
    "    bulgedom_cen_DSage[\"zpos_z{0}\".format(i)] = bulge_gal_cen_DSage[i]['Z']\n",
    "    bulgedom_cen_DSage[\"xvel_z{0}\".format(i)] = bulge_gal_cen_DSage[i]['X_Velocity']\n",
    "    bulgedom_cen_DSage[\"yvel_z{0}\".format(i)] = bulge_gal_cen_DSage[i]['Y_Velocity']\n",
    "    bulgedom_cen_DSage[\"zvel_z{0}\".format(i)] = bulge_gal_cen_DSage[i]['Z_Velocity']\n",
    "    bulgedom_cen_DSage[\"xSDspin_z{0}\".format(i)] = bulge_gal_cen_DSage[i]['X_Spin_of_Stellar_Disk']\n",
    "    bulgedom_cen_DSage[\"ySDspin_z{0}\".format(i)] = bulge_gal_cen_DSage[i]['Y_Spin_of_Stellar_Disk']\n",
    "    bulgedom_cen_DSage[\"zSDspin_z{0}\".format(i)] = bulge_gal_cen_DSage[i]['Z_Spin_of_Stellar_Disk']\n",
    "    bulgedom_cen_DSage[\"xGDspin_z{0}\".format(i)] = bulge_gal_cen_DSage[i]['X_Spin_of_Gas_Disk']\n",
    "    bulgedom_cen_DSage[\"yGDspin_z{0}\".format(i)] = bulge_gal_cen_DSage[i]['Y_Spin_of_Gas_Disk']\n",
    "    bulgedom_cen_DSage[\"zGDspin_z{0}\".format(i)] = bulge_gal_cen_DSage[i]['Z_Spin_of_Gas_Disk']\n",
    "    bulgedom_cen_DSage[\"xhaloJ_z{0}\".format(i)] = bulge_gal_cen_DSage[i]['jX_Halo']\n",
    "    bulgedom_cen_DSage[\"yhaloJ_z{0}\".format(i)] = bulge_gal_cen_DSage[i]['jY_Halo']\n",
    "    bulgedom_cen_DSage[\"zhaloJ_z{0}\".format(i)] = bulge_gal_cen_DSage[i]['jZ_Halo']      \n",
    "    \n",
    "    bulgedom_cen_DSage[\"JSD_z{0}\".format(i)] = bulge_gal_cen_DSage[i]['j_Stellar_Disk']\n",
    "    \n",
    "    bulgedom_cen_DSage[\"pos_z{0}\".format(i)] = np.sqrt(bulgedom_cen_DSage['xpos_z{0}'.format(i)]**2 + \n",
    "                                                    bulgedom_cen_DSage['ypos_z{0}'.format(i)]**2 + \n",
    "                                                    bulgedom_cen_DSage['zpos_z{0}'.format(i)]**2)\n",
    "    \n",
    "    bulgedom_cen_DSage[\"vel_z{0}\".format(i)] = np.sqrt(bulgedom_cen_DSage['xvel_z{0}'.format(i)]**2 + \n",
    "                                                    bulgedom_cen_DSage['yvel_z{0}'.format(i)]**2 + \n",
    "                                                    bulgedom_cen_DSage['zvel_z{0}'.format(i)]**2)\n",
    "    \n",
    "    bulgedom_cen_DSage[\"SDspin_z{0}\".format(i)] = np.sqrt(bulgedom_cen_DSage['xSDspin_z{0}'.format(i)]**2 + \n",
    "                                                    bulgedom_cen_DSage['ySDspin_z{0}'.format(i)]**2 + \n",
    "                                                    bulgedom_cen_DSage['zSDspin_z{0}'.format(i)]**2)\n",
    "    \n",
    "    bulgedom_cen_DSage[\"GDspin_z{0}\".format(i)] = np.sqrt(bulgedom_cen_DSage['xGDspin_z{0}'.format(i)]**2 + \n",
    "                                                    bulgedom_cen_DSage['yGDspin_z{0}'.format(i)]**2 + \n",
    "                                                    bulgedom_cen_DSage['zGDspin_z{0}'.format(i)]**2)\n",
    "    \n",
    "    \n",
    "    bulgedom_cen_DSage[\"haloJ_z{0}\".format(i)] = np.sqrt(bulgedom_cen_DSage['xhaloJ_z{0}'.format(i)]**2 + \n",
    "                                                    bulgedom_cen_DSage['yhaloJ_z{0}'.format(i)]**2 + \n",
    "                                                    bulgedom_cen_DSage['zhaloJ_z{0}'.format(i)]**2) \n",
    "    "
   ]
  },
  {
   "cell_type": "code",
   "execution_count": null,
   "metadata": {
    "collapsed": true
   },
   "outputs": [],
   "source": [
    "diskdom_cen_DSage = {}\n",
    "ii=0\n",
    "disk_gal_cen_DSage = [diskdom_cen_z0DSage, diskdom_cen_z1DSage, diskdom_cen_z2DSage, diskdom_cen_z3DSage]\n",
    "for ii in range(len(disk_gal_cen_DSage)):\n",
    "    diskdom_cen_DSage[\"Mvir_z{0}\".format(ii)] = 1e10*disk_gal_cen_DSage[ii]['Mvir']\n",
    "    diskdom_cen_DSage[\"TSM_z{0}\".format(ii)] = 1e10*disk_gal_cen_DSage[ii]['Total_Stellar_Mass']\n",
    "    diskdom_cen_DSage[\"CGMvir_z{0}\".format(ii)] = 1e10*disk_gal_cen_DSage[ii]['Central_Galaxy_Mvir']\n",
    "    diskdom_cen_DSage[\"bulgepseudo_z{0}\".format(ii)] = 1e10*disk_gal_cen_DSage[ii]['Pseudobulge_Mass']\n",
    "    diskdom_cen_DSage[\"DSM_z{0}\".format(ii)] = 1e10*disk_gal_cen_DSage[ii]['Disk_Stellar_Mass']    \n",
    "    diskdom_cen_DSage[\"Vvir_z{0}\".format(ii)] = disk_gal_cen_DSage[ii]['Vvir']\n",
    "    diskdom_cen_DSage[\"Rvir_z{0}\".format(ii)] = disk_gal_cen_DSage[ii]['Rvir']    \n",
    "    diskdom_cen_DSage[\"xpos_z{0}\".format(ii)] = disk_gal_cen_DSage[ii]['X']\n",
    "    diskdom_cen_DSage[\"ypos_z{0}\".format(ii)] = disk_gal_cen_DSage[ii]['Y']\n",
    "    diskdom_cen_DSage[\"zpos_z{0}\".format(ii)] = disk_gal_cen_DSage[ii]['Z']\n",
    "    diskdom_cen_DSage[\"xvel_z{0}\".format(ii)] = disk_gal_cen_DSage[ii]['X_Velocity']\n",
    "    diskdom_cen_DSage[\"yvel_z{0}\".format(ii)] = disk_gal_cen_DSage[ii]['Y_Velocity']\n",
    "    diskdom_cen_DSage[\"zvel_z{0}\".format(ii)] = disk_gal_cen_DSage[ii]['Z_Velocity']\n",
    "    diskdom_cen_DSage[\"xSDspin_z{0}\".format(ii)] = disk_gal_cen_DSage[ii]['X_Spin_of_Stellar_Disk']\n",
    "    diskdom_cen_DSage[\"ySDspin_z{0}\".format(ii)] = disk_gal_cen_DSage[ii]['Y_Spin_of_Stellar_Disk']\n",
    "    diskdom_cen_DSage[\"zSDspin_z{0}\".format(ii)] = disk_gal_cen_DSage[ii]['Z_Spin_of_Stellar_Disk']\n",
    "    diskdom_cen_DSage[\"xGDspin_z{0}\".format(ii)] = disk_gal_cen_DSage[ii]['X_Spin_of_Gas_Disk']\n",
    "    diskdom_cen_DSage[\"yGDspin_z{0}\".format(ii)] = disk_gal_cen_DSage[ii]['Y_Spin_of_Gas_Disk']\n",
    "    diskdom_cen_DSage[\"zGDspin_z{0}\".format(ii)] = disk_gal_cen_DSage[ii]['Z_Spin_of_Gas_Disk']\n",
    "    diskdom_cen_DSage[\"xhaloJ_z{0}\".format(ii)] = disk_gal_cen_DSage[ii]['jX_Halo']\n",
    "    diskdom_cen_DSage[\"yhaloJ_z{0}\".format(ii)] = disk_gal_cen_DSage[ii]['jY_Halo']\n",
    "    diskdom_cen_DSage[\"zhaloJ_z{0}\".format(ii)] = disk_gal_cen_DSage[ii]['jZ_Halo']  \n",
    "    diskdom_cen_DSage[\"JSD_z{0}\".format(ii)] = disk_gal_cen_DSage[ii]['j_Stellar_Disk']\n",
    "    \n",
    "    diskdom_cen_DSage[\"pos_z{0}\".format(ii)] = np.sqrt(diskdom_cen_DSage['xpos_z{0}'.format(ii)]**2 + \n",
    "                                                    diskdom_cen_DSage['ypos_z{0}'.format(ii)]**2 + \n",
    "                                                    diskdom_cen_DSage['zpos_z{0}'.format(ii)]**2)\n",
    "    \n",
    "    diskdom_cen_DSage[\"vel_z{0}\".format(ii)] = np.sqrt(diskdom_cen_DSage['xvel_z{0}'.format(ii)]**2 + \n",
    "                                                    diskdom_cen_DSage['yvel_z{0}'.format(ii)]**2 + \n",
    "                                                    diskdom_cen_DSage['zvel_z{0}'.format(ii)]**2)\n",
    "\n",
    "    \n",
    "    diskdom_cen_DSage[\"SDspin_z{0}\".format(ii)] = np.sqrt(diskdom_cen_DSage['xSDspin_z{0}'.format(ii)]**2 + \n",
    "                                                    diskdom_cen_DSage['ySDspin_z{0}'.format(ii)]**2 + \n",
    "                                                    diskdom_cen_DSage['zSDspin_z{0}'.format(ii)]**2)\n",
    "    \n",
    "    diskdom_cen_DSage[\"GDspin_z{0}\".format(ii)] = np.sqrt(diskdom_cen_DSage['xGDspin_z{0}'.format(ii)]**2 + \n",
    "                                                    diskdom_cen_DSage['yGDspin_z{0}'.format(ii)]**2 + \n",
    "                                                    diskdom_cen_DSage['zGDspin_z{0}'.format(ii)]**2)\n",
    "    \n",
    "    \n",
    "    diskdom_cen_DSage[\"haloJ_z{0}\".format(ii)] = np.sqrt(diskdom_cen_DSage['xhaloJ_z{0}'.format(ii)]**2 + \n",
    "                                                    diskdom_cen_DSage['yhaloJ_z{0}'.format(ii)]**2 + \n",
    "                                                    diskdom_cen_DSage['zhaloJ_z{0}'.format(ii)]**2)     "
   ]
  },
  {
   "cell_type": "code",
   "execution_count": null,
   "metadata": {
    "collapsed": true
   },
   "outputs": [],
   "source": []
  },
  {
   "cell_type": "code",
   "execution_count": null,
   "metadata": {
    "collapsed": true
   },
   "outputs": [],
   "source": []
  },
  {
   "cell_type": "code",
   "execution_count": null,
   "metadata": {
    "collapsed": true
   },
   "outputs": [],
   "source": []
  },
  {
   "cell_type": "code",
   "execution_count": null,
   "metadata": {
    "collapsed": true
   },
   "outputs": [],
   "source": []
  },
  {
   "cell_type": "code",
   "execution_count": null,
   "metadata": {
    "collapsed": true
   },
   "outputs": [],
   "source": []
  },
  {
   "cell_type": "code",
   "execution_count": null,
   "metadata": {
    "collapsed": true
   },
   "outputs": [],
   "source": []
  },
  {
   "cell_type": "code",
   "execution_count": null,
   "metadata": {
    "collapsed": true
   },
   "outputs": [],
   "source": []
  },
  {
   "cell_type": "code",
   "execution_count": null,
   "metadata": {
    "collapsed": true
   },
   "outputs": [],
   "source": []
  },
  {
   "cell_type": "code",
   "execution_count": null,
   "metadata": {
    "collapsed": true
   },
   "outputs": [],
   "source": []
  }
 ],
 "metadata": {
  "kernelspec": {
   "display_name": "Python [conda root]",
   "language": "python",
   "name": "conda-root-py"
  },
  "language_info": {
   "codemirror_mode": {
    "name": "ipython",
    "version": 2
   },
   "file_extension": ".py",
   "mimetype": "text/x-python",
   "name": "python",
   "nbconvert_exporter": "python",
   "pygments_lexer": "ipython2",
   "version": "2.7.13"
  }
 },
 "nbformat": 4,
 "nbformat_minor": 2
}
