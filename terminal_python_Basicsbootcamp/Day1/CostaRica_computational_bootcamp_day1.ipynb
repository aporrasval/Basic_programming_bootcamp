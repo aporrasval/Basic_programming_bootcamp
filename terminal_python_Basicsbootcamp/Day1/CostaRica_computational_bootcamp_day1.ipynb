{
 "cells": [
  {
   "cell_type": "markdown",
   "metadata": {
    "nbpresent": {
     "id": "b6634051-3e52-47db-9443-90969e296358"
    }
   },
   "source": [
    "# Introducción de Terminal"
   ]
  },
  {
   "cell_type": "markdown",
   "metadata": {
    "collapsed": true,
    "nbpresent": {
     "id": "5f1dd1f2-fc65-47a2-b499-24c1cd90c062"
    }
   },
   "source": [
    "Bienvenidos al primer dia del campamento computacional. Empezaremos desde lo más basico de como usar la terminal y concluiremos con una tarea para que ustedes puedan tratar de usar todo lo que aprederemos hoy."
   ]
  },
  {
   "cell_type": "markdown",
   "metadata": {
    "collapsed": true,
    "nbpresent": {
     "id": "14ef8cc2-b5c1-4c2a-a239-73cf102dcad5"
    }
   },
   "source": [
    "Empezaremos con los más basicos. NO incluir el $. El simbolo es para demonstrar que es un comando"
   ]
  },
  {
   "cell_type": "code",
   "execution_count": 4,
   "metadata": {
    "collapsed": false
   },
   "outputs": [
    {
     "name": "stdout",
     "output_type": "stream",
     "text": [
      "CostaRica_computational_bootcamp_day1.ipynb\r\n",
      "\u001b[34mFolder1\u001b[m\u001b[m/\r\n",
      "\u001b[34mFolder2\u001b[m\u001b[m/\r\n"
     ]
    }
   ],
   "source": [
    "ls    "
   ]
  },
  {
   "cell_type": "markdown",
   "metadata": {
    "collapsed": true
   },
   "source": [
    "$ls enlista todos los documentos que se encuentran actualmente en la carpeta en la que usted esta. Se puede acordar de este comando si piensa en \"lista\" ya que el comando es ls como lista"
   ]
  },
  {
   "cell_type": "code",
   "execution_count": 6,
   "metadata": {
    "collapsed": false,
    "nbpresent": {
     "id": "4f6d6bdc-6b61-4bda-be14-d63d351d005a"
    }
   },
   "outputs": [
    {
     "data": {
      "text/plain": [
       "u'/Users/porrasaj/Documents/BridgeProjectCR/CostaRica_bridge_computational_bootcamp'"
      ]
     },
     "execution_count": 6,
     "metadata": {},
     "output_type": "execute_result"
    }
   ],
   "source": [
    "pwd"
   ]
  },
  {
   "cell_type": "markdown",
   "metadata": {
    "collapsed": true
   },
   "source": [
    "$pwd \n",
    "le enseña el \"path\" de su directorio actual. En nuestro caso, en este momento estamos en un directorio llamado \"CostaRica_bridge_computational_bootcamp\". Dentro de esa carpeta estan en listados las carpetas Folder1, Folder2 y el archivo llamado CostaRica_computational_bootcamp_day1.ipynb"
   ]
  },
  {
   "cell_type": "code",
   "execution_count": 7,
   "metadata": {
    "collapsed": false,
    "nbpresent": {
     "id": "7262b2be-df49-48bb-b9f6-069c2c995c84"
    }
   },
   "outputs": [
    {
     "name": "stdout",
     "output_type": "stream",
     "text": [
      "/Users/porrasaj/Documents/BridgeProjectCR/CostaRica_bridge_computational_bootcamp/Folder1\n"
     ]
    }
   ],
   "source": [
    "cd Folder1"
   ]
  },
  {
   "cell_type": "markdown",
   "metadata": {
    "collapsed": true
   },
   "source": [
    "$cd es usado para accesar carpetas. Sabemos que Folder1 y Folder2 son carpetas porque ambas terminan con un \"slash\" /\n",
    "Para entrar a una carpeta, puede escribir cd \"nombre de carpeta\" como en el ejemplo anterior. Nota: No incluir las comillas \"\" cuando lo escribe en la terminal. Se puede acordad de cd si piensa en \"crear directorio\" cd"
   ]
  },
  {
   "cell_type": "code",
   "execution_count": 8,
   "metadata": {
    "collapsed": false,
    "nbpresent": {
     "id": "642a0858-0228-48eb-9938-9c628f790f3e"
    }
   },
   "outputs": [
    {
     "name": "stdout",
     "output_type": "stream",
     "text": [
      "/Users/porrasaj/Documents/BridgeProjectCR/CostaRica_bridge_computational_bootcamp\n"
     ]
    }
   ],
   "source": [
    "cd .."
   ]
  },
  {
   "cell_type": "markdown",
   "metadata": {
    "collapsed": true
   },
   "source": [
    "$cd .. hace posible que nos retrocedamos a una carpeta anterior. Ahora podemos ver si hacemos un ls o un pwd que volvimos adonde habiamos empezado"
   ]
  },
  {
   "cell_type": "code",
   "execution_count": 9,
   "metadata": {
    "collapsed": false,
    "nbpresent": {
     "id": "cfbf6d75-4ace-47a0-8e8b-7973f85de452"
    }
   },
   "outputs": [
    {
     "name": "stdout",
     "output_type": "stream",
     "text": [
      "/Users/porrasaj/Documents\n"
     ]
    }
   ],
   "source": [
    "cd ../.."
   ]
  },
  {
   "cell_type": "markdown",
   "metadata": {
    "collapsed": true
   },
   "source": [
    "Ya que sabemos como retrocedernos a una carpeta anterior, tambien sabemos que con un \"slash\" y dos puntos mas, podemos retrocedernos DOS carpetas mas. En este caso, fuimos de CostaRica_bridge_computational_bootcamp a Documents"
   ]
  },
  {
   "cell_type": "code",
   "execution_count": 10,
   "metadata": {
    "collapsed": false,
    "nbpresent": {
     "id": "0ae72989-a201-4fd5-b2b0-5b576946a23d"
    }
   },
   "outputs": [
    {
     "name": "stdout",
     "output_type": "stream",
     "text": [
      "/Users/porrasaj/Documents/BridgeProjectCR/CostaRica_bridge_computational_bootcamp\n"
     ]
    }
   ],
   "source": [
    "cd BridgeProjectCR/CostaRica_bridge_computational_bootcamp/"
   ]
  },
  {
   "cell_type": "markdown",
   "metadata": {
    "collapsed": true
   },
   "source": [
    "Tambien podemos volver a dos carpetas con un solo comando si sabemos el nombre de las carpetas. Con un \"slash\" despues del nombre de la primera carpeta y despues poniendo el nombre de la segunda, hemos ido de Documents a CostaRica_bridge_computational_bootcamp "
   ]
  },
  {
   "cell_type": "code",
   "execution_count": 15,
   "metadata": {
    "collapsed": false
   },
   "outputs": [
    {
     "name": "stdout",
     "output_type": "stream",
     "text": [
      "/Users/porrasaj\n"
     ]
    }
   ],
   "source": [
    "cd ~/"
   ]
  },
  {
   "cell_type": "markdown",
   "metadata": {},
   "source": [
    "$cd ~/ le da el poder de ir desde su actual directorio al directorio principal del usuario. En mi caso, mi nombre de usuario es \"porrasaj\""
   ]
  },
  {
   "cell_type": "code",
   "execution_count": 18,
   "metadata": {
    "collapsed": false
   },
   "outputs": [
    {
     "name": "stdout",
     "output_type": "stream",
     "text": [
      "/Users/porrasaj/Documents/BridgeProjectCR/CostaRica_bridge_computational_bootcamp\n"
     ]
    }
   ],
   "source": [
    "cd Documents/BridgeProjectCR/CostaRica_bridge_computational_bootcamp/"
   ]
  },
  {
   "cell_type": "markdown",
   "metadata": {},
   "source": [
    "Aqui, volvimos a donde iniciamos"
   ]
  },
  {
   "cell_type": "code",
   "execution_count": 11,
   "metadata": {
    "collapsed": true
   },
   "outputs": [],
   "source": [
    "mkdir hello"
   ]
  },
  {
   "cell_type": "markdown",
   "metadata": {},
   "source": [
    "mkdir nos ayuda a crear una carpeta en el directorio actual. En nuestro caso, acabamos de crear una carpeta con el nombre \"hello\" (sin comillas) en el directorio de CostaRica_bridge_computational_bootcamp. Podemos crear una carpeta con el siguiente formato: mkdir \"nombre_de_carpeta\"  Es IMPORTANTE que cuando damos nombres a carpetas, NO DEJAR ESPACIOS EN BLANCO, NO USAR PUNTOS, COMAS, simbolos como \\, $, (simbolo de porcentaje). Si es asi, va a haber un problema. Si es admitido usar _ o - y numeros si gusten. Se puede acordad de mkdir si piensa en \"make directory\" mkdir"
   ]
  },
  {
   "cell_type": "code",
   "execution_count": 12,
   "metadata": {
    "collapsed": false
   },
   "outputs": [
    {
     "name": "stdout",
     "output_type": "stream",
     "text": [
      "CostaRica_computational_bootcamp_day1.ipynb\r\n",
      "\u001b[34mFolder1\u001b[m\u001b[m/\r\n",
      "\u001b[34mFolder2\u001b[m\u001b[m/\r\n",
      "\u001b[34mhello\u001b[m\u001b[m/\r\n"
     ]
    }
   ],
   "source": [
    "ls"
   ]
  },
  {
   "cell_type": "markdown",
   "metadata": {},
   "source": [
    "Aqui, podemos ver nuevamente nuestro nueva carpeta llamada \"hello\""
   ]
  },
  {
   "cell_type": "code",
   "execution_count": 14,
   "metadata": {
    "collapsed": false
   },
   "outputs": [],
   "source": [
    "rm -r hello/"
   ]
  },
  {
   "cell_type": "markdown",
   "metadata": {},
   "source": [
    "$rm -r hello (tambien se puede usar \"rm hello\") hace que podamos elimiar la carpeta con el nombre \"hello\". ADVERTENCIA: tener MUCHO CUIDADO con este comando ya que es muy dificil recuperar los archivos y carpetas eliminadas. Puede acordarse de rm si piensa en \"remove\" rm \"nombre_de_carpeta\""
   ]
  },
  {
   "cell_type": "markdown",
   "metadata": {},
   "source": [
    "# PRACTICA: Crear tres carpetas con los nombres de tres distintas ramas de la fisica y haz que los nombres empiecen con fisica y terminen con el numero 1. Ejemplo: \"Fisica_aplicada1\""
   ]
  },
  {
   "cell_type": "code",
   "execution_count": 20,
   "metadata": {
    "collapsed": true
   },
   "outputs": [],
   "source": [
    "mkdir fisica_aplicada1; mkdir fisica_pura1; mkdir fisica_electrodinamica1"
   ]
  },
  {
   "cell_type": "code",
   "execution_count": 21,
   "metadata": {
    "collapsed": false
   },
   "outputs": [
    {
     "name": "stdout",
     "output_type": "stream",
     "text": [
      "CostaRica_computational_bootcamp_day1.ipynb\r\n",
      "\u001b[34mFolder1\u001b[m\u001b[m/\r\n",
      "\u001b[34mFolder2\u001b[m\u001b[m/\r\n",
      "\u001b[34mfisica_aplicada1\u001b[m\u001b[m/\r\n",
      "\u001b[34mfisica_electrodinamica1\u001b[m\u001b[m/\r\n",
      "\u001b[34mfisica_pura1\u001b[m\u001b[m/\r\n"
     ]
    }
   ],
   "source": [
    "ls"
   ]
  },
  {
   "cell_type": "code",
   "execution_count": 63,
   "metadata": {
    "collapsed": false
   },
   "outputs": [],
   "source": [
    "mv fisica_aplicada1/ Folder1/"
   ]
  },
  {
   "cell_type": "markdown",
   "metadata": {},
   "source": [
    "$mv hace que podamos mover la carpeta en este caso llamado \"fisica_aplicada1\" al folder llamado \"Folder1\". Note que el Folder1 esta dentro de su actual directorio /Users/porrasaj/Documents/BridgeProjectCR/CostaRica_bridge_computational_bootcamp\n",
    "\n",
    "Puede pensar en mv como (mover) mv \"directorio o carpeta que quiera mover\" \"carpeta o directorio donde quiera moverlo\""
   ]
  },
  {
   "cell_type": "code",
   "execution_count": 64,
   "metadata": {
    "collapsed": false
   },
   "outputs": [
    {
     "name": "stdout",
     "output_type": "stream",
     "text": [
      "/Users/porrasaj/Documents/BridgeProjectCR/CostaRica_bridge_computational_bootcamp/Folder1\n"
     ]
    }
   ],
   "source": [
    "cd Folder1/"
   ]
  },
  {
   "cell_type": "code",
   "execution_count": 65,
   "metadata": {
    "collapsed": false
   },
   "outputs": [
    {
     "name": "stdout",
     "output_type": "stream",
     "text": [
      "\u001b[34mfisica_aplicada1\u001b[m\u001b[m/\r\n"
     ]
    }
   ],
   "source": [
    "ls"
   ]
  },
  {
   "cell_type": "code",
   "execution_count": 66,
   "metadata": {
    "collapsed": false
   },
   "outputs": [],
   "source": [
    "mv fisica_aplicada1/ ../"
   ]
  },
  {
   "cell_type": "markdown",
   "metadata": {},
   "source": [
    "Esto hace que podamos mover la carpeta de \"Folder1\" al directorio anterior. El simbolo \"../\" denota directorio anterior. mv \"carpeta que quiere mover\" ../"
   ]
  },
  {
   "cell_type": "code",
   "execution_count": 68,
   "metadata": {
    "collapsed": false
   },
   "outputs": [
    {
     "name": "stdout",
     "output_type": "stream",
     "text": [
      "/Users/porrasaj/Documents/BridgeProjectCR/CostaRica_bridge_computational_bootcamp\n"
     ]
    }
   ],
   "source": [
    "cd ../"
   ]
  },
  {
   "cell_type": "code",
   "execution_count": 69,
   "metadata": {
    "collapsed": false
   },
   "outputs": [
    {
     "name": "stdout",
     "output_type": "stream",
     "text": [
      "CostaRica_computational_bootcamp_day1.ipynb\r\n",
      "\u001b[34mFolder1\u001b[m\u001b[m/\r\n",
      "\u001b[34mFolder2\u001b[m\u001b[m/\r\n",
      "\u001b[34mfisica_aplicada1\u001b[m\u001b[m/\r\n",
      "\u001b[34mfisica_electrodinamica1\u001b[m\u001b[m/\r\n",
      "\u001b[34mfisica_pura1\u001b[m\u001b[m/\r\n"
     ]
    }
   ],
   "source": [
    "ls"
   ]
  },
  {
   "cell_type": "code",
   "execution_count": 70,
   "metadata": {
    "collapsed": true
   },
   "outputs": [],
   "source": [
    "mv f* Folder1/"
   ]
  },
  {
   "cell_type": "markdown",
   "metadata": {},
   "source": [
    "hace que todas las carpetas que tengan el nombre de f en el inicio sean movidas a la carpeta llamada Folder1. La estrella denota \"todo\". En este caso, f*, seria \"todo con letra inicial f\" sera movido a la carpeta \"Folder1\""
   ]
  },
  {
   "cell_type": "code",
   "execution_count": 71,
   "metadata": {
    "collapsed": false
   },
   "outputs": [
    {
     "name": "stdout",
     "output_type": "stream",
     "text": [
      "CostaRica_computational_bootcamp_day1.ipynb\r\n",
      "\u001b[34mFolder1\u001b[m\u001b[m/\r\n",
      "\u001b[34mFolder2\u001b[m\u001b[m/\r\n"
     ]
    }
   ],
   "source": [
    "ls"
   ]
  },
  {
   "cell_type": "code",
   "execution_count": 72,
   "metadata": {
    "collapsed": false
   },
   "outputs": [
    {
     "name": "stdout",
     "output_type": "stream",
     "text": [
      "/Users/porrasaj/Documents/BridgeProjectCR/CostaRica_bridge_computational_bootcamp/Folder1\n"
     ]
    }
   ],
   "source": [
    "cd Folder1/"
   ]
  },
  {
   "cell_type": "code",
   "execution_count": 73,
   "metadata": {
    "collapsed": false
   },
   "outputs": [
    {
     "name": "stdout",
     "output_type": "stream",
     "text": [
      "\u001b[34mfisica_aplicada1\u001b[m\u001b[m/        \u001b[34mfisica_electrodinamica1\u001b[m\u001b[m/ \u001b[34mfisica_pura1\u001b[m\u001b[m/\r\n"
     ]
    }
   ],
   "source": [
    "ls"
   ]
  },
  {
   "cell_type": "code",
   "execution_count": 74,
   "metadata": {
    "collapsed": true
   },
   "outputs": [],
   "source": [
    "mv *1/ ../"
   ]
  },
  {
   "cell_type": "markdown",
   "metadata": {},
   "source": [
    "hace mover todas las carpetas que terminen con el numero 1 y las mueve al directorio anterior. En este caso, la estrella * significa \"todo con numero 1 al final\" moverlo a la carpeta de CostaRica_bridge_computational_bootcamp"
   ]
  },
  {
   "cell_type": "code",
   "execution_count": 80,
   "metadata": {
    "collapsed": false
   },
   "outputs": [
    {
     "name": "stdout",
     "output_type": "stream",
     "text": [
      "/Users/porrasaj/Documents/BridgeProjectCR/CostaRica_bridge_computational_bootcamp\n"
     ]
    }
   ],
   "source": [
    "cd CostaRica_bridge_computational_bootcamp/"
   ]
  },
  {
   "cell_type": "code",
   "execution_count": 81,
   "metadata": {
    "collapsed": false
   },
   "outputs": [
    {
     "name": "stdout",
     "output_type": "stream",
     "text": [
      "CostaRica_computational_bootcamp_day1.ipynb\r\n",
      "\u001b[34mFolder1\u001b[m\u001b[m/\r\n",
      "\u001b[34mFolder2\u001b[m\u001b[m/\r\n",
      "\u001b[34mfisica_aplicada1\u001b[m\u001b[m/\r\n",
      "\u001b[34mfisica_electrodinamica1\u001b[m\u001b[m/\r\n",
      "\u001b[34mfisica_pura1\u001b[m\u001b[m/\r\n"
     ]
    }
   ],
   "source": [
    "ls"
   ]
  },
  {
   "cell_type": "code",
   "execution_count": 82,
   "metadata": {
    "collapsed": false
   },
   "outputs": [
    {
     "name": "stdout",
     "output_type": "stream",
     "text": [
      "/Users/porrasaj/Documents/BridgeProjectCR/CostaRica_bridge_computational_bootcamp/Folder2\n"
     ]
    }
   ],
   "source": [
    "cd Folder2/"
   ]
  },
  {
   "cell_type": "code",
   "execution_count": 84,
   "metadata": {
    "collapsed": false
   },
   "outputs": [
    {
     "name": "stdout",
     "output_type": "stream",
     "text": [
      "Physics_GRE_2001.pdf\r\n"
     ]
    }
   ],
   "source": [
    "ls"
   ]
  },
  {
   "cell_type": "code",
   "execution_count": 85,
   "metadata": {
    "collapsed": true
   },
   "outputs": [],
   "source": [
    "cp Physics_GRE_2001.pdf ../"
   ]
  },
  {
   "cell_type": "markdown",
   "metadata": {},
   "source": [
    "$cp hace que podamos copiar el archivo \"Physics_GRE_2001.pdf\" al directorio anterior. El simbolo \"../\" denota directorio anterior. cp \"carpeta que quiere mover\" ../"
   ]
  },
  {
   "cell_type": "code",
   "execution_count": 87,
   "metadata": {
    "collapsed": false
   },
   "outputs": [
    {
     "name": "stdout",
     "output_type": "stream",
     "text": [
      "CostaRica_computational_bootcamp_day1.ipynb\r\n",
      "\u001b[34mFolder1\u001b[m\u001b[m/\r\n",
      "\u001b[34mFolder2\u001b[m\u001b[m/\r\n",
      "Physics_GRE_2001.pdf\r\n",
      "\u001b[34mfisica_aplicada1\u001b[m\u001b[m/\r\n",
      "\u001b[34mfisica_electrodinamica1\u001b[m\u001b[m/\r\n",
      "\u001b[34mfisica_pura1\u001b[m\u001b[m/\r\n"
     ]
    }
   ],
   "source": [
    "ls"
   ]
  },
  {
   "cell_type": "code",
   "execution_count": 98,
   "metadata": {
    "collapsed": false
   },
   "outputs": [
    {
     "name": "stdout",
     "output_type": "stream",
     "text": [
      "total 2712\r\n",
      "-rw-r--r--  1 porrasaj  staff    27042 Jul 31 05:52 CostaRica_computational_bootcamp_day1.ipynb\r\n",
      "drwxr-xr-x  3 porrasaj  staff      102 Jul 30 22:25 \u001b[34mFolder1\u001b[m\u001b[m/\r\n",
      "drwxr-xr-x  4 porrasaj  staff      136 Jul 30 22:30 \u001b[34mFolder2\u001b[m\u001b[m/\r\n",
      "-rw-r--r--@ 1 porrasaj  staff  1356324 Jul 30 22:31 Physics_GRE_2001.pdf\r\n",
      "drwxr-xr-x  2 porrasaj  staff       68 Jul 30 21:55 \u001b[34mfisica_aplicada1\u001b[m\u001b[m/\r\n",
      "drwxr-xr-x  2 porrasaj  staff       68 Jul 30 21:55 \u001b[34mfisica_electrodinamica1\u001b[m\u001b[m/\r\n",
      "drwxr-xr-x  2 porrasaj  staff       68 Jul 30 21:55 \u001b[34mfisica_pura1\u001b[m\u001b[m/\r\n"
     ]
    }
   ],
   "source": [
    "ls -l"
   ]
  },
  {
   "cell_type": "markdown",
   "metadata": {
    "collapsed": true
   },
   "source": [
    "$ls -l hace que podamos ver mas información sobre la lista de carpetas y archivos en el directorio actual. Vamos a poner nuestra atención a los siglos  -rw-r--r-- ya que esos son los que nos dan los \"codigos\" de permiso para leer, escribir, o accesar/ejecutar una carpeta o archivo."
   ]
  },
  {
   "cell_type": "raw",
   "metadata": {
    "collapsed": true
   },
   "source": [
    "chmod 640 Folder1/"
   ]
  },
  {
   "cell_type": "markdown",
   "metadata": {
    "collapsed": true
   },
   "source": [
    "$chmod 640 ha permitido que el usuario pueda leer/escribir (4+2), el grupo solo pueda leer y nadie mas pueda acesar Folder 1. Si no entiende esto, refierase al powerpoint que hice con la explicación. Uno usa chmod asi: chmod \"numero de permiso\" \"nombre de archivo/carpeta\""
   ]
  },
  {
   "cell_type": "code",
   "execution_count": 101,
   "metadata": {
    "collapsed": false
   },
   "outputs": [
    {
     "name": "stdout",
     "output_type": "stream",
     "text": [
      "total 2712\r\n",
      "-rw-r--r--  1 porrasaj  staff    27479 Jul 31 07:04 CostaRica_computational_bootcamp_day1.ipynb\r\n",
      "drw-r-----  3 porrasaj  staff      102 Jul 30 22:25 \u001b[34mFolder1\u001b[m\u001b[m/\r\n",
      "drwxr-xr-x  4 porrasaj  staff      136 Jul 30 22:30 \u001b[34mFolder2\u001b[m\u001b[m/\r\n",
      "-rw-r--r--@ 1 porrasaj  staff  1356324 Jul 30 22:31 Physics_GRE_2001.pdf\r\n",
      "drwxr-xr-x  2 porrasaj  staff       68 Jul 30 21:55 \u001b[34mfisica_aplicada1\u001b[m\u001b[m/\r\n",
      "drwxr-xr-x  2 porrasaj  staff       68 Jul 30 21:55 \u001b[34mfisica_electrodinamica1\u001b[m\u001b[m/\r\n",
      "drwxr-xr-x  2 porrasaj  staff       68 Jul 30 21:55 \u001b[34mfisica_pura1\u001b[m\u001b[m/\r\n"
     ]
    }
   ],
   "source": [
    "ls -l"
   ]
  },
  {
   "cell_type": "markdown",
   "metadata": {
    "collapsed": true
   },
   "source": [
    "Aqui pueden ver como los permisos cambiaron para Folder1"
   ]
  },
  {
   "cell_type": "markdown",
   "metadata": {
    "collapsed": true
   },
   "source": [
    "# Ejercicio 2: En su escritorio, crear una carpeta con el nombre su vegetal favorito. Luego cambie los permisos para que usted tenga permiso de cualquier cosa, el grupo pueda ejecutar, y otros puedan solo leer."
   ]
  },
  {
   "cell_type": "code",
   "execution_count": 102,
   "metadata": {
    "collapsed": true
   },
   "outputs": [],
   "source": [
    "man ls"
   ]
  },
  {
   "cell_type": "markdown",
   "metadata": {
    "collapsed": true
   },
   "source": [
    "Si todavia tiene problemas entendiendo chmod, $man ls es un comando el cual le da un resumen mas detallado de ls el cual tambien le explica todo lo que yo explique en los powerpoints."
   ]
  },
  {
   "cell_type": "code",
   "execution_count": 104,
   "metadata": {
    "collapsed": false
   },
   "outputs": [
    {
     "name": "stdout",
     "output_type": "stream",
     "text": [
      "/Users/porrasaj/Documents/BridgeProjectCR/CostaRica_bridge_computational_bootcamp/Folder2\n"
     ]
    }
   ],
   "source": [
    "cd Folder2/"
   ]
  },
  {
   "cell_type": "code",
   "execution_count": 105,
   "metadata": {
    "collapsed": false
   },
   "outputs": [
    {
     "name": "stdout",
     "output_type": "stream",
     "text": [
      "OneRdensity_morph_cen_DSage.py  Physics_GRE_2001.pdf\r\n"
     ]
    }
   ],
   "source": [
    "ls"
   ]
  },
  {
   "cell_type": "markdown",
   "metadata": {
    "collapsed": true
   },
   "source": [
    "OneRdensity_morph_cen_DSage.py es un script que tengo el cual puedo accesar con terminal."
   ]
  },
  {
   "cell_type": "raw",
   "metadata": {},
   "source": [
    "head -n50 OneRdensity_morph_cen_DSage.py"
   ]
  },
  {
   "cell_type": "markdown",
   "metadata": {},
   "source": [
    "$head -n50 hace que podamos ver las PRIMERAS 50 lineas de codigo del script (en este caso) llamado OneRdensity_morph_cen_DSage.py  Para usar head: head -n50 \"nombre del file\"  Recuerde que el script tiene que estar en el directorio actual"
   ]
  },
  {
   "cell_type": "raw",
   "metadata": {},
   "source": [
    "rail -n12 OneRdensity_morph_cen_DSage.py "
   ]
  },
  {
   "cell_type": "markdown",
   "metadata": {},
   "source": [
    "$rail -n12 hace que podamos ver las ULTIMAS 12 lineas de codigo de un script (en este caso, del script llamado OneRdensity_morph_cen_DSage.py ) rail -n12 \"nombre del script\"  Recuerde que el script tiene que estar en el directorio actual"
   ]
  },
  {
   "cell_type": "raw",
   "metadata": {},
   "source": [
    "more OneRdensity_morph_cen_DSage.py"
   ]
  },
  {
   "cell_type": "markdown",
   "metadata": {},
   "source": [
    "$more hace que podamos ver el script pagina por pagina. more \"nombre del script\"  Recuerde que el script tiene que estar en el directorio actual"
   ]
  },
  {
   "cell_type": "raw",
   "metadata": {},
   "source": [
    "wc -l OneRdensity_morph_cen_DSage.py"
   ]
  },
  {
   "cell_type": "markdown",
   "metadata": {},
   "source": [
    "$wc -l \"nombre del script\" le dice el numero de lineas en el script."
   ]
  },
  {
   "cell_type": "code",
   "execution_count": 117,
   "metadata": {
    "collapsed": false
   },
   "outputs": [
    {
     "name": "stdout",
     "output_type": "stream",
     "text": [
      "/Users/porrasaj/Documents/BridgeProjectCR/CostaRica_bridge_computational_bootcamp/Folder2/zipped\n"
     ]
    }
   ],
   "source": [
    "cd zipped/"
   ]
  },
  {
   "cell_type": "code",
   "execution_count": 118,
   "metadata": {
    "collapsed": false
   },
   "outputs": [
    {
     "name": "stdout",
     "output_type": "stream",
     "text": [
      "OneRdensity_morph_cen_DSage.py.zip\r\n"
     ]
    }
   ],
   "source": [
    "ls"
   ]
  },
  {
   "cell_type": "raw",
   "metadata": {},
   "source": [
    "gunzip OneRdensity_morph_cen_DSage.py.zip"
   ]
  },
  {
   "cell_type": "markdown",
   "metadata": {},
   "source": [
    "$gunzip ayuda a descompresionar un archivo. gunzip \"archivo compresionado\""
   ]
  },
  {
   "cell_type": "code",
   "execution_count": 120,
   "metadata": {
    "collapsed": false
   },
   "outputs": [
    {
     "name": "stdout",
     "output_type": "stream",
     "text": [
      "/Users/porrasaj/Documents/BridgeProjectCR/CostaRica_bridge_computational_bootcamp/Folder2\n"
     ]
    }
   ],
   "source": [
    "cd ../"
   ]
  },
  {
   "cell_type": "code",
   "execution_count": 122,
   "metadata": {
    "collapsed": false
   },
   "outputs": [
    {
     "name": "stdout",
     "output_type": "stream",
     "text": [
      "/Users/porrasaj/Documents/BridgeProjectCR/CostaRica_bridge_computational_bootcamp\n"
     ]
    }
   ],
   "source": [
    "cd ../"
   ]
  },
  {
   "cell_type": "code",
   "execution_count": 124,
   "metadata": {
    "collapsed": false
   },
   "outputs": [
    {
     "name": "stdout",
     "output_type": "stream",
     "text": [
      "/Users/porrasaj/Documents/BridgeProjectCR/CostaRica_bridge_computational_bootcamp/Folder2\n"
     ]
    }
   ],
   "source": [
    "cd Folder2/"
   ]
  },
  {
   "cell_type": "code",
   "execution_count": 125,
   "metadata": {
    "collapsed": false
   },
   "outputs": [
    {
     "name": "stdout",
     "output_type": "stream",
     "text": [
      "OneRdensity_morph_cen_DSage.py  newfile.py\r\n",
      "Physics_GRE_2001.pdf            \u001b[34mzipped\u001b[m\u001b[m/\r\n",
      "check_density_morph.py\r\n"
     ]
    }
   ],
   "source": [
    "ls"
   ]
  },
  {
   "cell_type": "markdown",
   "metadata": {},
   "source": [
    "cat OneRdensity_morph_cen_DSage.py check_density_morph.py > newfile.py"
   ]
  },
  {
   "cell_type": "markdown",
   "metadata": {},
   "source": [
    "$cat file1 file2 > newfilecombine es para combinar dos archivos: uno llamado file1 y otro llamado file2. El resultado seria un archivo llamado newfilecombine"
   ]
  },
  {
   "cell_type": "code",
   "execution_count": null,
   "metadata": {
    "collapsed": true
   },
   "outputs": [],
   "source": []
  },
  {
   "cell_type": "code",
   "execution_count": null,
   "metadata": {
    "collapsed": true
   },
   "outputs": [],
   "source": []
  },
  {
   "cell_type": "code",
   "execution_count": null,
   "metadata": {
    "collapsed": true
   },
   "outputs": [],
   "source": []
  },
  {
   "cell_type": "code",
   "execution_count": null,
   "metadata": {
    "collapsed": true
   },
   "outputs": [],
   "source": []
  }
 ],
 "metadata": {
  "anaconda-cloud": {},
  "kernelspec": {
   "display_name": "Python [conda root]",
   "language": "python",
   "name": "conda-root-py"
  },
  "language_info": {
   "codemirror_mode": {
    "name": "ipython",
    "version": 2
   },
   "file_extension": ".py",
   "mimetype": "text/x-python",
   "name": "python",
   "nbconvert_exporter": "python",
   "pygments_lexer": "ipython2",
   "version": "2.7.12"
  },
  "nbpresent": {
   "slides": {
    "32b3cc59-03fd-4a2b-92fd-7f093e3e05b0": {
     "id": "32b3cc59-03fd-4a2b-92fd-7f093e3e05b0",
     "prev": "63201e9a-f65e-4bdd-9671-94a01331f13c",
     "regions": {
      "8f02329e-4503-4e9d-b68f-4cf633a60346": {
       "attrs": {
        "height": 0.8,
        "width": 0.8,
        "x": 0.1,
        "y": 0.1
       },
       "content": {
        "cell": "5f1dd1f2-fc65-47a2-b499-24c1cd90c062",
        "part": "whole"
       },
       "id": "8f02329e-4503-4e9d-b68f-4cf633a60346"
      }
     }
    },
    "37116386-dc50-448f-9447-b803830a0449": {
     "id": "37116386-dc50-448f-9447-b803830a0449",
     "prev": "f3c6b9e2-0c24-4bc8-add6-5084f73ba4b3",
     "regions": {
      "5afa5ac9-2a01-45c1-861f-b053421b47cd": {
       "attrs": {
        "height": 0.8,
        "width": 0.8,
        "x": 0.1,
        "y": 0.1
       },
       "content": {
        "cell": "5db3edb0-8805-4279-8c16-db4627855f0c",
        "part": "whole"
       },
       "id": "5afa5ac9-2a01-45c1-861f-b053421b47cd"
      }
     }
    },
    "3f02cdfa-6baf-4877-821a-2cc33cddd7ac": {
     "id": "3f02cdfa-6baf-4877-821a-2cc33cddd7ac",
     "prev": "d900cb3c-39d6-415b-83f1-8733579193a7",
     "regions": {
      "b1040c83-9a86-4e6b-8a4c-09321277cc7c": {
       "attrs": {
        "height": 0.8,
        "width": 0.8,
        "x": 0.1,
        "y": 0.1
       },
       "content": {
        "cell": "4f6d6bdc-6b61-4bda-be14-d63d351d005a",
        "part": "whole"
       },
       "id": "b1040c83-9a86-4e6b-8a4c-09321277cc7c"
      }
     }
    },
    "63201e9a-f65e-4bdd-9671-94a01331f13c": {
     "id": "63201e9a-f65e-4bdd-9671-94a01331f13c",
     "prev": null,
     "regions": {
      "4447d7c5-e249-4118-b624-610bb60c86bc": {
       "attrs": {
        "height": 0.8,
        "width": 0.8,
        "x": 0.1,
        "y": 0.1
       },
       "content": {
        "cell": "b6634051-3e52-47db-9443-90969e296358",
        "part": "whole"
       },
       "id": "4447d7c5-e249-4118-b624-610bb60c86bc"
      }
     }
    },
    "76b64785-8f09-4c5f-90d5-a3fa9ec14705": {
     "id": "76b64785-8f09-4c5f-90d5-a3fa9ec14705",
     "prev": "d9fa897c-fbd1-4346-8a93-556a1c454d95",
     "regions": {
      "8fa1525f-8b94-404a-8d26-12a87de685de": {
       "attrs": {
        "height": 0.8,
        "width": 0.8,
        "x": 0.1,
        "y": 0.1
       },
       "content": {
        "cell": "0be26537-0828-45f7-b4e1-c64573eba354",
        "part": "whole"
       },
       "id": "8fa1525f-8b94-404a-8d26-12a87de685de"
      }
     }
    },
    "9529f79a-6366-4d2a-9167-e9e6cf39f61a": {
     "id": "9529f79a-6366-4d2a-9167-e9e6cf39f61a",
     "prev": "3f02cdfa-6baf-4877-821a-2cc33cddd7ac",
     "regions": {
      "fc138c74-15ad-4957-800b-b29f1c8f1109": {
       "attrs": {
        "height": 0.8,
        "width": 0.8,
        "x": 0.1,
        "y": 0.1
       },
       "content": {
        "cell": "b5a44b5a-6685-44b0-859d-39d92daceb29",
        "part": "whole"
       },
       "id": "fc138c74-15ad-4957-800b-b29f1c8f1109"
      }
     }
    },
    "a36a07b2-43dc-4d16-a6b4-640c7b280d4e": {
     "id": "a36a07b2-43dc-4d16-a6b4-640c7b280d4e",
     "prev": "ba854656-deca-4d56-a096-18609442f6e5",
     "regions": {
      "36ef4fe0-c358-4423-b4db-4765e79813cb": {
       "attrs": {
        "height": 0.8,
        "width": 0.8,
        "x": 0.1,
        "y": 0.1
       },
       "content": {
        "cell": "a7383a32-38aa-4beb-ae84-b4bbaa2b2c69",
        "part": "whole"
       },
       "id": "36ef4fe0-c358-4423-b4db-4765e79813cb"
      }
     }
    },
    "b7fbc7cd-95e6-4937-af7f-60cfe24d3a22": {
     "id": "b7fbc7cd-95e6-4937-af7f-60cfe24d3a22",
     "prev": "76b64785-8f09-4c5f-90d5-a3fa9ec14705",
     "regions": {
      "d32835b5-382b-4974-8635-309d15eea126": {
       "attrs": {
        "height": 0.8,
        "width": 0.8,
        "x": 0.1,
        "y": 0.1
       },
       "content": {
        "cell": "0ae72989-a201-4fd5-b2b0-5b576946a23d",
        "part": "whole"
       },
       "id": "d32835b5-382b-4974-8635-309d15eea126"
      }
     }
    },
    "ba854656-deca-4d56-a096-18609442f6e5": {
     "id": "ba854656-deca-4d56-a096-18609442f6e5",
     "prev": "9529f79a-6366-4d2a-9167-e9e6cf39f61a",
     "regions": {
      "3f6a321b-acf7-4bd8-a644-461b1fb3da19": {
       "attrs": {
        "height": 0.8,
        "width": 0.8,
        "x": 0.1,
        "y": 0.1
       },
       "content": {
        "cell": "7262b2be-df49-48bb-b9f6-069c2c995c84",
        "part": "whole"
       },
       "id": "3f6a321b-acf7-4bd8-a644-461b1fb3da19"
      }
     }
    },
    "d900cb3c-39d6-415b-83f1-8733579193a7": {
     "id": "d900cb3c-39d6-415b-83f1-8733579193a7",
     "prev": "eb4d07ee-358e-4557-bc75-682b8c46ff4d",
     "regions": {
      "a6853b82-5aa9-4a96-a4d9-ef28060d0cd4": {
       "attrs": {
        "height": 0.8,
        "width": 0.8,
        "x": 0.1,
        "y": 0.1
       },
       "content": {
        "cell": "06f147e0-0b09-42c4-905f-4296f00d3c32",
        "part": "whole"
       },
       "id": "a6853b82-5aa9-4a96-a4d9-ef28060d0cd4"
      }
     }
    },
    "d9fa897c-fbd1-4346-8a93-556a1c454d95": {
     "id": "d9fa897c-fbd1-4346-8a93-556a1c454d95",
     "prev": "37116386-dc50-448f-9447-b803830a0449",
     "regions": {
      "19604d8b-437f-43d7-a9e3-e1f2f609ed88": {
       "attrs": {
        "height": 0.8,
        "width": 0.8,
        "x": 0.1,
        "y": 0.1
       },
       "content": {
        "cell": "cfbf6d75-4ace-47a0-8e8b-7973f85de452",
        "part": "whole"
       },
       "id": "19604d8b-437f-43d7-a9e3-e1f2f609ed88"
      }
     }
    },
    "eb4d07ee-358e-4557-bc75-682b8c46ff4d": {
     "id": "eb4d07ee-358e-4557-bc75-682b8c46ff4d",
     "prev": "32b3cc59-03fd-4a2b-92fd-7f093e3e05b0",
     "regions": {
      "7bc746ee-a9b0-41ff-98e6-e970c09bc57a": {
       "attrs": {
        "height": 0.8,
        "width": 0.8,
        "x": 0.1,
        "y": 0.1
       },
       "content": {
        "cell": "14ef8cc2-b5c1-4c2a-a239-73cf102dcad5",
        "part": "whole"
       },
       "id": "7bc746ee-a9b0-41ff-98e6-e970c09bc57a"
      }
     }
    },
    "f3c6b9e2-0c24-4bc8-add6-5084f73ba4b3": {
     "id": "f3c6b9e2-0c24-4bc8-add6-5084f73ba4b3",
     "prev": "a36a07b2-43dc-4d16-a6b4-640c7b280d4e",
     "regions": {
      "babb196a-fec1-4cbf-814d-a864e83a7013": {
       "attrs": {
        "height": 0.8,
        "width": 0.8,
        "x": 0.1,
        "y": 0.1
       },
       "content": {
        "cell": "642a0858-0228-48eb-9938-9c628f790f3e",
        "part": "whole"
       },
       "id": "babb196a-fec1-4cbf-814d-a864e83a7013"
      }
     }
    },
    "f4292a7f-1672-48a0-9bd1-e435678e5ceb": {
     "id": "f4292a7f-1672-48a0-9bd1-e435678e5ceb",
     "prev": "b7fbc7cd-95e6-4937-af7f-60cfe24d3a22",
     "regions": {
      "22624c49-8445-495e-ba69-91464d588c70": {
       "attrs": {
        "height": 0.8,
        "width": 0.8,
        "x": 0.1,
        "y": 0.1
       },
       "content": {
        "cell": "3f1f5b92-f571-46c7-a597-934dbda49b28",
        "part": "whole"
       },
       "id": "22624c49-8445-495e-ba69-91464d588c70"
      }
     }
    }
   },
   "themes": {}
  }
 },
 "nbformat": 4,
 "nbformat_minor": 1
}
